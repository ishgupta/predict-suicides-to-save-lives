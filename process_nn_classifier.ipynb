{
 "cells": [
  {
   "cell_type": "markdown",
   "id": "resistant-chapel",
   "metadata": {},
   "source": [
    "#### import requried libraries"
   ]
  },
  {
   "cell_type": "code",
   "execution_count": 14,
   "id": "forty-horizon",
   "metadata": {},
   "outputs": [],
   "source": [
    "from ml_toolkit import encode_str_columns, write_excel_sheet_v2\n",
    "\n",
    "import numpy as np\n",
    "import pandas as pd\n",
    "from sklearn.model_selection import train_test_split\n",
    "\n",
    "import torch\n",
    "from torch import nn\n",
    "import torch.nn.functional as F\n",
    "\n",
    "import datetime"
   ]
  },
  {
   "cell_type": "markdown",
   "id": "pregnant-murder",
   "metadata": {},
   "source": [
    "#### read the data cleaned in EDA (eda.ipynb)"
   ]
  },
  {
   "cell_type": "code",
   "execution_count": 15,
   "id": "entertaining-difference",
   "metadata": {},
   "outputs": [],
   "source": [
    "output_column = 'Suicide'\n",
    "data = pd.read_csv( r\"output\\data\\data_filtered_imputed_clean.csv\", dtype = 'category' )"
   ]
  },
  {
   "cell_type": "markdown",
   "id": "naval-planet",
   "metadata": {},
   "source": [
    "#### filter the data for Suicides and natural deaths"
   ]
  },
  {
   "cell_type": "code",
   "execution_count": 16,
   "id": "material-haiti",
   "metadata": {},
   "outputs": [],
   "source": [
    "data = data.loc[ data[ output_column ].isin( [ '1', '0' ] ) ]\n",
    "data.drop( columns = [ 'Follow', 'Povpct' ], inplace = True, errors = 'ignore' )"
   ]
  },
  {
   "cell_type": "markdown",
   "id": "worldwide-picking",
   "metadata": {},
   "source": [
    "#### one-hot encode the data, and transform into tensors for training and test set"
   ]
  },
  {
   "cell_type": "code",
   "execution_count": 17,
   "id": "matched-helen",
   "metadata": {},
   "outputs": [
    {
     "name": "stdout",
     "output_type": "stream",
     "text": [
      "string columns found: ['Race', 'Sex', 'Ms', 'Hisp', 'Adjinc', 'Educ', 'Hhnum', 'Reltrf', 'Majocc', 'Majind', 'Esr', 'Urban', 'Smsast', 'Ssnyn', 'Vt', 'Histatus', 'Hitype', 'Tenure', 'Working', 'Age', 'Pob', 'Stater']\n",
      "encoding Sex, Urban, Ssnyn, Vt, Histatus, Working, Hisp, Smsast, Tenure, Race, Ms, Esr, Reltrf, Hitype, Age, Stater, Majocc, Hhnum, Pob, Adjinc, Educ, Majind using one-hot\n",
      "time taken to create dummy variables: 0.1740 secs\n"
     ]
    }
   ],
   "source": [
    "# prepare data\n",
    "factorization_technique = 'one-hot'\n",
    "data_ = encode_str_columns( data.astype( str ), technique = factorization_technique, str_attributes = None, max_unique_values_allowed_for_str = None, drop_extras = False, output_column = output_column )\n",
    "\"\"\"scaler = StandardScaler()\n",
    "data_[ number_cols ] = scaler.fit_transform( data_[ number_cols ] )\"\"\"\n",
    "\n",
    "for x in data_.columns:\n",
    "    # data_[ x ] = pd.to_numeric( data_[x] )\n",
    "    data_[ x ] = data_[x].astype( int )\n",
    "\n",
    "X_train, X_test, y_train, y_test = train_test_split( data_.drop( columns = [output_column] ), data_[ output_column ], test_size = 0.25, random_state = 42, stratify = data_[ output_column ] )\n",
    "\n",
    "X_train = torch.tensor( np.stack( X_train.values, axis = 0 ), dtype = torch.float )\n",
    "X_test = torch.tensor( np.stack( X_test.values, axis = 0 ), dtype = torch.float )\n",
    "y_train = torch.tensor( np.stack( y_train.values, axis = 0 ), dtype = torch.long )\n",
    "y_test = torch.tensor( np.stack( y_test.values, axis = 0 ), dtype = torch.long )"
   ]
  },
  {
   "cell_type": "markdown",
   "id": "gorgeous-genre",
   "metadata": {},
   "source": [
    "#### one common utility method for fetching the pytorch model"
   ]
  },
  {
   "cell_type": "code",
   "execution_count": 18,
   "id": "fixed-costa",
   "metadata": {},
   "outputs": [],
   "source": [
    "\"\"\"\n",
    "    build the pytorch model as requested out of three options\n",
    "    input_features - the number of independent variables\n",
    "    hidden_1_features - the number of hidden features at level 1\n",
    "    hidden_2_features - the number of hidden features at level 2\n",
    "    output_features - the number of classes to be predicted for the dependent variable\n",
    "    epochs - the number of iterations to train the model\n",
    "    model_choice - the choice of model to be built using the method\n",
    "\"\"\"\n",
    "def get_model( input_features, hidden_1_features, hidden_2_features, output_features, epochs = 200, model_choice = 'one' ):\n",
    "    print( \"fetching NN model for '{0}', epoch = '{1}', model = '{2}'\".format( ( input_features, hidden_1_features, hidden_2_features, output_features ), epochs, model_choice ) )\n",
    "    nn_model = None\n",
    "    torch.manual_seed( 42 )\n",
    "\n",
    "    if model_choice == \"one\":\n",
    "        # create model\n",
    "        class Model( nn.Module ):\n",
    "            def __init__( self, input_features, hidden_1, hidden_2, output_features = 2 ):\n",
    "                super().__init__()\n",
    "                self.f_connected_1 = nn.Linear( input_features, hidden_1 )\n",
    "                self.f_connected_2 = nn.Linear( hidden_1, hidden_2 )\n",
    "                self.out = nn.Linear( hidden_2, output_features )\n",
    "                self.batchnorm_1 = nn.BatchNorm1d( hidden_1 )\n",
    "                self.batchnorm_2 = nn.BatchNorm1d( hidden_2 )\n",
    "                self.dropout = nn.Dropout( p = 0.2 )\n",
    "\n",
    "            def forward( self, x ):\n",
    "                x = F.relu( self.f_connected_1( x ) )\n",
    "                x = self.batchnorm_1( x )\n",
    "                x = F.relu( self.f_connected_2( x ) )\n",
    "                x = self.batchnorm_2( x )\n",
    "                x = self.dropout( x )\n",
    "                x = self.out( x )\n",
    "                x = torch.softmax( x, dim = 1 )\n",
    "                return x\n",
    "\n",
    "        nn_model = Model( input_features, hidden_1_features, hidden_2_features, output_features )\n",
    "    elif model_choice == \"two\":\n",
    "        class NN_Classifier( torch.nn.Module ):\n",
    "            def __init__(self, input_features, hidden_1_features, hidden_2_features, output_features ):\n",
    "                # Define layers\n",
    "                super(NN_Classifier, self).__init__()\n",
    "                self.fc1 = torch.nn.Linear(input_features, hidden_1_features)\n",
    "                self.bn1 = torch.nn.BatchNorm1d(hidden_1_features)\n",
    "                self.fc2 = torch.nn.Linear(hidden_1_features, hidden_2_features)\n",
    "                self.bn2 = torch.nn.BatchNorm1d(hidden_2_features)\n",
    "                self.fc3 = torch.nn.Linear(hidden_2_features, output_features)\n",
    "\n",
    "            def forward(self, x):\n",
    "                # Define sequence of layers\n",
    "                x = self.fc1(x) # Fully connected layer\n",
    "                x = self.bn1(x) # Batch normalisation\n",
    "                x = F.dropout(x, p = 0.35 ) # Apply dropout\n",
    "                x = F.relu(x) # ReLU activation\n",
    "                x = self.fc2(x)\n",
    "                x = self.bn2(x)\n",
    "                x = F.dropout(x, p = 0.35 )\n",
    "                x = F.relu(x)\n",
    "                x = self.fc3(x)\n",
    "                x = torch.sigmoid(x) # Sigmoid output (0-1)\n",
    "                return x\n",
    "        nn_model = NN_Classifier( input_features, hidden_1_features, hidden_2_features, output_features )\n",
    "    elif model_choice == 'three':\n",
    "        nn_model = torch.nn.Sequential(\n",
    "            nn.Linear( input_features, hidden_1_features ),\n",
    "            nn.ReLU(),\n",
    "            nn.Linear( hidden_1_features, hidden_2_features),\n",
    "            nn.ReLU(),\n",
    "            nn.Linear( hidden_2_features, output_features ),\n",
    "            nn.LogSoftmax( dim = 1 )\n",
    "        )\n",
    "    return nn_model"
   ]
  },
  {
   "cell_type": "code",
   "execution_count": 19,
   "id": "voluntary-marble",
   "metadata": {},
   "outputs": [],
   "source": [
    "# backward propagation - define loss function, and the optimizer\n",
    "def get_loss_fn_optimizer( nn_model, model_choice ):\n",
    "    if model_choice in [ \"three\" ]:\n",
    "        # using Stochastic Gradient Descent as optimizer for the model design which uses log_soft_max for the activation functionn\n",
    "        loss_fn = nn.NLLLoss()\n",
    "        optimizer = torch.optim.SGD( nn_model.parameters(), lr = 0.01 )\n",
    "    else:\n",
    "        loss_fn = nn.CrossEntropyLoss()\n",
    "        optimizer = torch.optim.Adam( nn_model.parameters(), lr = 0.01 )\n",
    "    return loss_fn, optimizer"
   ]
  },
  {
   "cell_type": "code",
   "execution_count": 20,
   "id": "deadly-electron",
   "metadata": {},
   "outputs": [],
   "source": [
    "def compute_losses( nn_model, epochs, X_train, y_train ):\n",
    "    print( \"\\n computing losses. . .\" )\n",
    "    final_losses = []\n",
    "    for epoch in range( epochs ):\n",
    "        epoch += 1\n",
    "        y_pred = nn_model.forward( X_train )\n",
    "        loss = loss_fn( y_pred, y_train )\n",
    "        final_losses.append( loss )\n",
    "        if epoch % 25 == 0:\n",
    "            print( \"Epoch# {0}, loss: {1}\".format( epoch, loss.item() ) )\n",
    "        optimizer.zero_grad()\n",
    "        loss.backward()\n",
    "        optimizer.step()\n",
    "    return final_losses"
   ]
  },
  {
   "cell_type": "code",
   "execution_count": 21,
   "id": "internal-praise",
   "metadata": {},
   "outputs": [],
   "source": [
    "# map the loss function\n",
    "import matplotlib.pyplot as plt\n",
    "# %matplotlib inline\n",
    "def plot_loss_function( epochs, final_losses, model_choice ):\n",
    "    plt.plot( range( epochs ), final_losses )\n",
    "    plt.ylabel( 'Loss' )\n",
    "    plt.xlabel( 'Epoch' )\n",
    "    plt.title( model_choice )\n",
    "    "
   ]
  },
  {
   "cell_type": "code",
   "execution_count": 22,
   "id": "beginning-actor",
   "metadata": {},
   "outputs": [],
   "source": [
    "\"\"\" fetch predictions for the test data using model of choice \"\"\"\n",
    "def get_predictions( X_test, nn_model, model_choice ):\n",
    "    predictions = []\n",
    "    with torch.no_grad():\n",
    "        predictions = nn_model( X_test )\n",
    "    if model_choice in [ \"three\" ]:\n",
    "        predictions = [ torch.exp( x ).argmax().item() for x in predictions ]\n",
    "    else:\n",
    "        predictions = [ x.argmax().item() for x in predictions ]\n",
    "    print( pd.Series( predictions ).value_counts() )\n",
    "    return predictions"
   ]
  },
  {
   "cell_type": "code",
   "execution_count": 23,
   "id": "enormous-bulletin",
   "metadata": {},
   "outputs": [],
   "source": [
    "from sklearn.metrics import confusion_matrix, accuracy_score\n",
    "import seaborn as sns\n",
    "\"\"\"\n",
    "    plot the confusion matrix\n",
    "\"\"\"\n",
    "def plot_cm( y_test, predictions, model_choice ):\n",
    "    cm = confusion_matrix( y_test, predictions )\n",
    "    plt.figure( figsize = ( 10, 6 ) )\n",
    "    sns.heatmap( cm, annot = True )\n",
    "    plt.xlabel( \"Actual\" )\n",
    "    plt.ylabel( \"Prediction\" )\n",
    "    plt.title( model_choice )\n",
    "    "
   ]
  },
  {
   "cell_type": "code",
   "execution_count": 24,
   "id": "intended-orbit",
   "metadata": {},
   "outputs": [],
   "source": [
    "model_choices = [ \"one\", \"two\", \"three\" ]\n",
    "accuracy_scores = {}"
   ]
  },
  {
   "cell_type": "markdown",
   "id": "induced-rescue",
   "metadata": {},
   "source": [
    "#### initialize attributes for the features to input, hidden and the output layer"
   ]
  },
  {
   "cell_type": "code",
   "execution_count": 25,
   "id": "comic-trainer",
   "metadata": {},
   "outputs": [],
   "source": [
    "epochs = 500\n",
    "# instantiate the model\n",
    "input_features = X_train.shape[ 1 ]\n",
    "hidden_1_features = 64\n",
    "hidden_2_features = 64\n",
    "output_features = np.unique( y_test ).shape[ 0 ]"
   ]
  },
  {
   "cell_type": "markdown",
   "id": "expressed-iraqi",
   "metadata": {},
   "source": [
    "#### build model, compute losses, collate predictions, and accuracy"
   ]
  },
  {
   "cell_type": "code",
   "execution_count": 36,
   "id": "existing-plaintiff",
   "metadata": {
    "scrolled": false
   },
   "outputs": [
    {
     "name": "stdout",
     "output_type": "stream",
     "text": [
      "\n",
      "\n",
      "================================================================================================\n",
      "\n",
      "\n",
      "fetching NN model for '(144, 64, 64, 2, 500, 'one')'\n",
      "\n",
      " computing losses. . .\n",
      "Epoch# 25, loss: 0.4030534625053406\n",
      "Epoch# 50, loss: 0.3745913505554199\n",
      "Epoch# 75, loss: 0.3704220652580261\n",
      "Epoch# 100, loss: 0.37018725275993347\n",
      "Epoch# 125, loss: 0.3701980710029602\n",
      "Epoch# 150, loss: 0.3704874515533447\n",
      "Epoch# 175, loss: 0.368665874004364\n",
      "Epoch# 200, loss: 0.36616429686546326\n",
      "Epoch# 225, loss: 0.3653024137020111\n",
      "Epoch# 250, loss: 0.3644236922264099\n",
      "Epoch# 275, loss: 0.36448195576667786\n",
      "Epoch# 300, loss: 0.36413800716400146\n",
      "Epoch# 325, loss: 0.36424240469932556\n",
      "Epoch# 350, loss: 0.3633890748023987\n",
      "Epoch# 375, loss: 0.3623735308647156\n",
      "Epoch# 400, loss: 0.36122897267341614\n",
      "Epoch# 425, loss: 0.36150074005126953\n",
      "Epoch# 450, loss: 0.3613640367984772\n",
      "Epoch# 475, loss: 0.36107394099235535\n",
      "Epoch# 500, loss: 0.3606874346733093\n",
      "1    553\n",
      "0    532\n",
      "dtype: int64\n",
      "\n",
      "\n",
      "================================================================================================\n",
      "\n",
      "\n",
      "\n",
      "\n",
      "================================================================================================\n",
      "\n",
      "\n",
      "fetching NN model for '(144, 64, 64, 2, 500, 'two')'\n",
      "\n",
      " computing losses. . .\n",
      "Epoch# 25, loss: 0.5244485139846802\n",
      "Epoch# 50, loss: 0.4770595133304596\n",
      "Epoch# 75, loss: 0.4495711326599121\n",
      "Epoch# 100, loss: 0.43226897716522217\n",
      "Epoch# 125, loss: 0.4193098247051239\n",
      "Epoch# 150, loss: 0.40662476420402527\n",
      "Epoch# 175, loss: 0.4006926417350769\n",
      "Epoch# 200, loss: 0.39401036500930786\n",
      "Epoch# 225, loss: 0.3886372148990631\n",
      "Epoch# 250, loss: 0.38592979311943054\n",
      "Epoch# 275, loss: 0.38560736179351807\n",
      "Epoch# 300, loss: 0.3793959319591522\n",
      "Epoch# 325, loss: 0.38302332162857056\n",
      "Epoch# 350, loss: 0.37696489691734314\n",
      "Epoch# 375, loss: 0.37731727957725525\n",
      "Epoch# 400, loss: 0.37636318802833557\n",
      "Epoch# 425, loss: 0.37421467900276184\n",
      "Epoch# 450, loss: 0.3736436069011688\n",
      "Epoch# 475, loss: 0.37339264154434204\n",
      "Epoch# 500, loss: 0.37326765060424805\n",
      "0    555\n",
      "1    530\n",
      "dtype: int64\n",
      "\n",
      "\n",
      "================================================================================================\n",
      "\n",
      "\n",
      "\n",
      "\n",
      "================================================================================================\n",
      "\n",
      "\n",
      "fetching NN model for '(144, 64, 64, 2, 500, 'three')'\n",
      "\n",
      " computing losses. . .\n",
      "Epoch# 25, loss: 0.6933925151824951\n",
      "Epoch# 50, loss: 0.6928883790969849\n",
      "Epoch# 75, loss: 0.6923946738243103\n",
      "Epoch# 100, loss: 0.6919044852256775\n",
      "Epoch# 125, loss: 0.6914151906967163\n",
      "Epoch# 150, loss: 0.6909223198890686\n",
      "Epoch# 175, loss: 0.690410315990448\n",
      "Epoch# 200, loss: 0.6898812055587769\n",
      "Epoch# 225, loss: 0.6893256306648254\n",
      "Epoch# 250, loss: 0.6887496709823608\n",
      "Epoch# 275, loss: 0.6881430745124817\n",
      "Epoch# 300, loss: 0.6875120997428894\n",
      "Epoch# 325, loss: 0.6868476867675781\n",
      "Epoch# 350, loss: 0.6861340403556824\n",
      "Epoch# 375, loss: 0.685378909111023\n",
      "Epoch# 400, loss: 0.6845843195915222\n",
      "Epoch# 425, loss: 0.6837398409843445\n",
      "Epoch# 450, loss: 0.6828434467315674\n",
      "Epoch# 475, loss: 0.6818895936012268\n",
      "Epoch# 500, loss: 0.6808763146400452\n",
      "0    762\n",
      "1    323\n",
      "dtype: int64\n",
      "\n",
      "\n",
      "================================================================================================\n",
      "\n",
      "\n"
     ]
    }
   ],
   "source": [
    "final_losses = {}\n",
    "predictions = {}\n",
    "accuracy_scores = {}\n",
    "nn_model = {}\n",
    "for model_choice in model_choices:\n",
    "    print(\"\\n\\n================================================================================================\\n\\n\")\n",
    "    nn_model[ model_choice ] = get_model( input_features, hidden_1_features, hidden_2_features, output_features, epochs, model_choice )\n",
    "    loss_fn, optimizer = get_loss_fn_optimizer( nn_model[ model_choice ], model_choice )\n",
    "    final_losses[ model_choice ] = compute_losses( nn_model[ model_choice ], epochs, X_train, y_train )\n",
    "    \n",
    "    # plot_loss_function( epochs, final_losses )\n",
    "    predictions[ model_choice ] = get_predictions( X_test, nn_model[ model_choice ], model_choice )\n",
    "\n",
    "    # plot_cm( y_test, predictions )\n",
    "    accuracy_scores[ model_choice ] = accuracy_score( y_test, predictions[ model_choice ] )\n",
    "    \n",
    "    # Set up lists to hold results\n",
    "    if \"training_acc_results\" not in locals():\n",
    "        training_acc_results = []\n",
    "        test_acc_results = []\n",
    "\n",
    "    with torch.no_grad():\n",
    "        tmp_predictions = nn_model[ model_choice ]( X_train )\n",
    "        tmp_predictions = [ x.argmax().item() for x in tmp_predictions ]\n",
    "    training_acc_results.append( np.mean( pd.Series( tmp_predictions ) == pd.Series( y_train ) ) )\n",
    "    tmp_predictions = None\n",
    "    with torch.no_grad():\n",
    "        tmp_predictions = nn_model[ model_choice ]( X_test )\n",
    "        tmp_predictions = [ x.argmax().item() for x in tmp_predictions ]\n",
    "    test_acc_results.append( np.mean( pd.Series( tmp_predictions ) == pd.Series( y_test ) ) )\n",
    "    tmp_predictions = None\n",
    "    print(\"\\n\\n================================================================================================\\n\\n\")"
   ]
  },
  {
   "cell_type": "markdown",
   "id": "functional-tattoo",
   "metadata": {},
   "source": [
    "#### lets look at the behavior of losss function in all 3 models"
   ]
  },
  {
   "cell_type": "code",
   "execution_count": 38,
   "id": "historic-liabilities",
   "metadata": {},
   "outputs": [
    {
     "data": {
      "text/plain": [
       "<matplotlib.legend.Legend at 0x21551c34148>"
      ]
     },
     "execution_count": 38,
     "metadata": {},
     "output_type": "execute_result"
    },
    {
     "data": {
      "image/png": "[encoded data removed]",
      "text/plain": [
       "<Figure size 432x288 with 1 Axes>"
      ]
     },
     "metadata": {
      "needs_background": "light"
     },
     "output_type": "display_data"
    }
   ],
   "source": [
    "for model_choice in model_choices:\n",
    "    plt.plot( range( epochs ), final_losses[ model_choice ] )\n",
    "\n",
    "plt.ylabel( 'Loss' )\n",
    "plt.xlabel( 'Epoch' )\n",
    "plt.ylim( bottom = 0 )\n",
    "plt.legend( model_choices )"
   ]
  },
  {
   "cell_type": "code",
   "execution_count": 39,
   "id": "liquid-kentucky",
   "metadata": {},
   "outputs": [
    {
     "data": {
      "image/png": "[encoded data removed]",
      "text/plain": [
       "<Figure size 720x432 with 2 Axes>"
      ]
     },
     "metadata": {
      "needs_background": "light"
     },
     "output_type": "display_data"
    },
    {
     "data": {
      "image/png": "[encoded data removed]",
      "text/plain": [
       "<Figure size 720x432 with 2 Axes>"
      ]
     },
     "metadata": {
      "needs_background": "light"
     },
     "output_type": "display_data"
    },
    {
     "data": {
      "image/png": "[encoded data removed]",
      "text/plain": [
       "<Figure size 720x432 with 2 Axes>"
      ]
     },
     "metadata": {
      "needs_background": "light"
     },
     "output_type": "display_data"
    }
   ],
   "source": [
    "for model_choice in model_choices:\n",
    "    plot_cm( y_test, predictions[ model_choice ] , model_choice )"
   ]
  },
  {
   "cell_type": "code",
   "execution_count": 30,
   "id": "signed-vector",
   "metadata": {},
   "outputs": [
    {
     "data": {
      "image/png": "[encoded data removed]",
      "text/plain": [
       "<Figure size 720x720 with 1 Axes>"
      ]
     },
     "metadata": {
      "needs_background": "light"
     },
     "output_type": "display_data"
    }
   ],
   "source": [
    "x_for_box = [ training_acc_results, test_acc_results ]\n",
    "labels = [ \"train\", \"test\" ]\n",
    "fig = plt.figure( figsize = (10, 10) )\n",
    "ax1 = fig.add_subplot( 111 )\n",
    "ax1.boxplot( x_for_box, widths = 0.7 )\n",
    "ax1.set_xticklabels( labels )\n",
    "ax1.set_ylabel( \"Accuracy\" )\n",
    "ax1.set_ylim( bottom = 0, top = 1 )\n",
    "ax1.set_title( \"Accuracy comparison of 3 models\" )\n",
    "plt.show()"
   ]
  },
  {
   "cell_type": "code",
   "execution_count": 31,
   "id": "critical-korea",
   "metadata": {},
   "outputs": [],
   "source": [
    "accuracy_nn = pd.DataFrame.from_dict( dict( \n",
    "        zip(\n",
    "        model_choices,\n",
    "            dict(\n",
    "                zip(\n",
    "                    training_acc_results, test_acc_results\n",
    "                    )\n",
    "        ).items()\n",
    "        )\n",
    "    )\n",
    ")"
   ]
  },
  {
   "cell_type": "code",
   "execution_count": 32,
   "id": "protected-style",
   "metadata": {},
   "outputs": [
    {
     "data": {
      "text/plain": [
       "Text(0.5, 1.0, 'Accuracy')"
      ]
     },
     "execution_count": 32,
     "metadata": {},
     "output_type": "execute_result"
    },
    {
     "data": {
      "image/png": "[encoded data removed]",
      "text/plain": [
       "<Figure size 432x288 with 1 Axes>"
      ]
     },
     "metadata": {
      "needs_background": "light"
     },
     "output_type": "display_data"
    }
   ],
   "source": [
    "accuracy_nn = accuracy_nn.T\n",
    "accuracy_nn.columns= [ \"training\", \"test\" ]\n",
    "plt_ = accuracy_nn.plot( kind = 'bar' )\n",
    "plt_.set_title( \"Accuracy\" )"
   ]
  },
  {
   "cell_type": "code",
   "execution_count": 41,
   "id": "sweet-harvey",
   "metadata": {},
   "outputs": [
    {
     "name": "stdout",
     "output_type": "stream",
     "text": [
      "finally writing .xlsx file: 'nn_pytorch.xlsx'\n"
     ]
    },
    {
     "data": {
      "text/plain": [
       "WindowsPath('output/accuracy/nn_pytorch.xlsx')"
      ]
     },
     "execution_count": 41,
     "metadata": {},
     "output_type": "execute_result"
    }
   ],
   "source": [
    "write_excel_sheet_v2( accuracy_nn, \"output/accuracy/nn_pytorch.xlsx\" )"
   ]
  },
  {
   "cell_type": "code",
   "execution_count": 42,
   "id": "normal-singapore",
   "metadata": {},
   "outputs": [],
   "source": [
    "accuracies = pd.read_excel( \"data_/accuracies.xlsx\" )"
   ]
  },
  {
   "cell_type": "code",
   "execution_count": 44,
   "id": "possible-compiler",
   "metadata": {},
   "outputs": [
    {
     "data": {
      "text/plain": [
       "Text(0.5, 1.0, 'Classification Models')"
      ]
     },
     "execution_count": 44,
     "metadata": {},
     "output_type": "execute_result"
    },
    {
     "data": {
      "image/png": "[encoded data removed]",
      "text/plain": [
       "<Figure size 432x288 with 1 Axes>"
      ]
     },
     "metadata": {
      "needs_background": "light"
     },
     "output_type": "display_data"
    }
   ],
   "source": [
    "accuracies.groupby( 'model' ).mean().T.plot( kind = 'bar' ).set_title( \"Classification Models\" )"
   ]
  }
 ],
 "metadata": {
  "kernelspec": {
   "display_name": "Python 3",
   "language": "python",
   "name": "python3"
  },
  "language_info": {
   "codemirror_mode": {
    "name": "ipython",
    "version": 3
   },
   "file_extension": ".py",
   "mimetype": "text/x-python",
   "name": "python",
   "nbconvert_exporter": "python",
   "pygments_lexer": "ipython3",
   "version": "3.7.8"
  }
 },
 "nbformat": 4,
 "nbformat_minor": 5
}
