{
 "cells": [
  {
   "cell_type": "code",
   "execution_count": 1,
   "id": "prerequisite-preview",
   "metadata": {},
   "outputs": [],
   "source": [
    "# In[]\n",
    "import sys\n",
    "from ml_toolkit import encode_str_columns, write_excel_sheet_v2, fetch_train_test_split\n",
    "\n",
    "import numpy as np\n",
    "import pandas as pd\n",
    "from sklearn.model_selection import train_test_split, GridSearchCV\n",
    "from sklearn.preprocessing import StandardScaler, OneHotEncoder\n",
    "from sklearn.metrics import accuracy_score, plot_confusion_matrix\n",
    "from xgboost import XGBClassifier\n",
    "\n",
    "\n",
    "from IPython.display import Markdown as md"
   ]
  },
  {
   "cell_type": "markdown",
   "id": "excellent-recipient",
   "metadata": {},
   "source": [
    "#### define methods for fetching feature importance from xgboost models"
   ]
  },
  {
   "cell_type": "code",
   "execution_count": 2,
   "id": "living-jesus",
   "metadata": {},
   "outputs": [],
   "source": [
    "def fetch_feature_importance( data, feature_importances ):\n",
    "    feature_importance = sorted( dict( \n",
    "        zip( \n",
    "            data.drop( columns = [ output_column ]).columns, \n",
    "            feature_importances\n",
    "            )\n",
    "        ).items(), key = lambda x : x[1], reverse = True\n",
    "    )\n",
    "    return feature_importance\n",
    "\n",
    "def filter_data_for_imp_variables( data, feature_importance, output_column ):\n",
    "    feature_importance = fetch_feature_importance( data, feature_importance )\n",
    "    imp_variables = [ x for x,y in feature_importance if y > 0 ]\n",
    "    imp_variables = imp_variables + [ output_column ]\n",
    "    return data[ imp_variables ]"
   ]
  },
  {
   "cell_type": "code",
   "execution_count": 3,
   "id": "gothic-storm",
   "metadata": {},
   "outputs": [],
   "source": [
    "data = pd.read_csv( r\"output\\data\\data_filtered_imputed_clean.csv\", dtype = 'category' )\n",
    "output_column = \"Suicide\""
   ]
  },
  {
   "cell_type": "markdown",
   "id": "historic-circular",
   "metadata": {},
   "source": [
    "#### filter data for deaths due to health issues, and Suicides"
   ]
  },
  {
   "cell_type": "code",
   "execution_count": 4,
   "id": "operational-recall",
   "metadata": {},
   "outputs": [],
   "source": [
    "data = data.loc[ data[ output_column ].isin( [ '1', '0' ] ) ]\n",
    "data.drop( columns = [ 'Follow', 'Povpct' ], inplace = True, errors = 'ignore' )"
   ]
  },
  {
   "cell_type": "markdown",
   "id": "comic-bikini",
   "metadata": {},
   "source": [
    "#### one-hot encode the data"
   ]
  },
  {
   "cell_type": "code",
   "execution_count": 5,
   "id": "indoor-optimum",
   "metadata": {},
   "outputs": [
    {
     "name": "stdout",
     "output_type": "stream",
     "text": [
      "string columns found: ['Race', 'Sex', 'Ms', 'Hisp', 'Adjinc', 'Educ', 'Hhnum', 'Reltrf', 'Majocc', 'Majind', 'Esr', 'Urban', 'Smsast', 'Ssnyn', 'Vt', 'Histatus', 'Hitype', 'Tenure', 'Working', 'Age', 'Pob', 'Stater']\n",
      "encoding Sex, Urban, Ssnyn, Vt, Histatus, Working, Hisp, Smsast, Tenure, Race, Ms, Esr, Reltrf, Hitype, Age, Stater, Majocc, Hhnum, Pob, Adjinc, Educ, Majind using one-hot\n",
      "time taken to create dummy variables: 0.0290 secs\n",
      "finally writing .xlsx file: 'data_encoded.xlsx'\n"
     ]
    },
    {
     "data": {
      "text/plain": [
       "WindowsPath('output/data/xgb_classifier/data_encoded.xlsx')"
      ]
     },
     "execution_count": 5,
     "metadata": {},
     "output_type": "execute_result"
    }
   ],
   "source": [
    "factorization_technique = 'one-hot'\n",
    "data_ = encode_str_columns( data.astype( str ), technique = factorization_technique, str_attributes = None, max_unique_values_allowed_for_str = None, drop_extras = False, output_column = output_column )\n",
    "data_.columns = data_.columns.str.replace( \".\", \"\" ).str.replace( \",|-\", \"_\" ).str.replace( \" \", \"_\" )\n",
    "for x in data_.columns:\n",
    "    data_[ x ] = data_[x].astype( int )\n",
    "\n",
    "write_excel_sheet_v2( data_, \"output/data/xgb_classifier/data_encoded.xlsx\" )"
   ]
  },
  {
   "cell_type": "code",
   "execution_count": 6,
   "id": "fancy-antique",
   "metadata": {},
   "outputs": [],
   "source": [
    "scores = {}"
   ]
  },
  {
   "cell_type": "code",
   "execution_count": 7,
   "id": "encouraging-interference",
   "metadata": {},
   "outputs": [],
   "source": [
    "# split into train-test\n",
    "X_train, X_test, y_train, y_test = fetch_train_test_split( data_, output_column, test_size = 0.25, random_state = 42, stratify = True )"
   ]
  },
  {
   "cell_type": "markdown",
   "id": "spanish-chester",
   "metadata": {},
   "source": [
    "#### build a basic XGBoost classifier"
   ]
  },
  {
   "cell_type": "code",
   "execution_count": 8,
   "id": "active-devil",
   "metadata": {},
   "outputs": [
    {
     "name": "stdout",
     "output_type": "stream",
     "text": [
      "[0]\tvalidation_0-aucpr:0.68422\n",
      "Will train until validation_0-aucpr hasn't improved in 10 rounds.\n",
      "[1]\tvalidation_0-aucpr:0.68574\n",
      "[2]\tvalidation_0-aucpr:0.68565\n",
      "[3]\tvalidation_0-aucpr:0.68814\n",
      "[4]\tvalidation_0-aucpr:0.68766\n",
      "[5]\tvalidation_0-aucpr:0.68994\n",
      "[6]\tvalidation_0-aucpr:0.68998\n",
      "[7]\tvalidation_0-aucpr:0.69052\n",
      "[8]\tvalidation_0-aucpr:0.68986\n",
      "[9]\tvalidation_0-aucpr:0.69103\n",
      "Accuracy: 0.6599078341013825\n"
     ]
    },
    {
     "data": {
      "text/plain": [
       "<sklearn.metrics._plot.confusion_matrix.ConfusionMatrixDisplay at 0x298f1c9bd88>"
      ]
     },
     "execution_count": 8,
     "metadata": {},
     "output_type": "execute_result"
    },
    {
     "data": {
      "image/png": "[encoded data removed]",
      "text/plain": [
       "<Figure size 432x288 with 2 Axes>"
      ]
     },
     "metadata": {
      "needs_background": "light"
     },
     "output_type": "display_data"
    }
   ],
   "source": [
    "# XGBoost\n",
    "model = XGBClassifier( \n",
    "    objective = 'binary:logistic',\n",
    "    seed = 42,\n",
    "    missing = None,\n",
    "    min_child_weight = 0, learning_rate = 0.01, n_estimators= 10\n",
    ")\n",
    "model.fit( \n",
    "    X_train, y_train, \n",
    "    verbose = True, early_stopping_rounds = 10, eval_metric = 'aucpr',\n",
    "    eval_set = [ ( X_test, y_test ) ]\n",
    ")\n",
    "\n",
    "scores[ 'raw' ] = accuracy_score( y_test, model.predict( X_test ) )\n",
    "\n",
    "print( \"Accuracy: {0}\".format( scores[ 'raw' ] ) )\n",
    "plot_confusion_matrix( model, X_test, y_test, values_format = 'd', display_labels = [ \"Not a Suicide\", \"Suicide\" ] )"
   ]
  },
  {
   "cell_type": "markdown",
   "id": "scientific-liver",
   "metadata": {},
   "source": [
    "#### find optimal parameters for XGBoost classifier using cross validation (GridSearchCV)"
   ]
  },
  {
   "cell_type": "code",
   "execution_count": 9,
   "id": "genetic-sodium",
   "metadata": {},
   "outputs": [
    {
     "name": "stdout",
     "output_type": "stream",
     "text": [
      "Fitting 3 folds for each of 1080 candidates, totalling 3240 fits\n"
     ]
    },
    {
     "name": "stderr",
     "output_type": "stream",
     "text": [
      "[Parallel(n_jobs=10)]: Using backend LokyBackend with 10 concurrent workers.\n",
      "[Parallel(n_jobs=10)]: Done  21 tasks      | elapsed:    4.7s\n",
      "[Parallel(n_jobs=10)]: Done 142 tasks      | elapsed:   21.6s\n",
      "[Parallel(n_jobs=10)]: Done 345 tasks      | elapsed:   51.0s\n",
      "[Parallel(n_jobs=10)]: Done 628 tasks      | elapsed:  1.6min\n",
      "[Parallel(n_jobs=10)]: Done 993 tasks      | elapsed:  2.4min\n",
      "[Parallel(n_jobs=10)]: Done 1438 tasks      | elapsed:  3.9min\n",
      "[Parallel(n_jobs=10)]: Done 1965 tasks      | elapsed:  5.7min\n",
      "[Parallel(n_jobs=10)]: Done 2572 tasks      | elapsed:  7.8min\n",
      "[Parallel(n_jobs=10)]: Done 3240 out of 3240 | elapsed: 10.3min finished\n"
     ]
    },
    {
     "name": "stdout",
     "output_type": "stream",
     "text": [
      "params: {'colsample_bytree': 0.5, 'gamma': 0.0, 'learning_rate': 0.05, 'max_depth': 7, 'min_child_weight': 3, 'scale_pos_weight': 0.7}\n",
      "\n",
      " score: 0.7517960323597203\n",
      "Accuracy: 0.6700460829493088\n"
     ]
    },
    {
     "data": {
      "text/plain": [
       "<sklearn.metrics._plot.confusion_matrix.ConfusionMatrixDisplay at 0x298f2b05948>"
      ]
     },
     "execution_count": 9,
     "metadata": {},
     "output_type": "execute_result"
    },
    {
     "data": {
      "image/png": "[encoded data removed]",
      "text/plain": [
       "<Figure size 432x288 with 2 Axes>"
      ]
     },
     "metadata": {
      "needs_background": "light"
     },
     "output_type": "display_data"
    }
   ],
   "source": [
    "# round 1\n",
    "param_grid = {\n",
    "    'max_depth' : range( 3, 10, 2 ),\n",
    "    \"learning_rate\" : [ 0.1, 0.01, 0.05 ],\n",
    "    'gamma' : [ i / 10.0 for i in range( 0, 5 ) ],\n",
    "    'min_child_weight' : range( 1, 6, 2 ),\n",
    "    \"colsample_bytree\" : [ 0.5, 0.9, 1.0 ],\n",
    "    \"scale_pos_weight\" : [ 0.7, 1 ]\n",
    "}\n",
    "optimal_params = GridSearchCV(\n",
    "    estimator = XGBClassifier( objective = 'binary:logistic', seed = 42, \n",
    "    subsample = 0.9, colsample_bytree = 0.5 ),\n",
    "    param_grid = param_grid, scoring = 'roc_auc',\n",
    "    verbose = 2,\n",
    "    n_jobs = 10,\n",
    "    cv = 3\n",
    ")\n",
    "\n",
    "optimal_params.fit( X_train, y_train,\n",
    "    early_stopping_rounds = 25,\n",
    "    eval_metric = 'auc',\n",
    "    eval_set = [ ( X_test, y_test ) ],\n",
    "    verbose = False\n",
    ")\n",
    "\n",
    "model = optimal_params.best_estimator_\n",
    "print( \"params: {0}\\n\\n score: {1}\".format( optimal_params.best_params_, optimal_params.best_score_ ) )\n",
    "# print( fetch_feature_importance( data_, model.feature_importances_ ) )\n",
    "scores[ 'cv_1' ] = accuracy_score( y_test, model.predict( X_test ) )\n",
    "print( \"Accuracy: {0}\".format( scores[ 'cv_1' ] ) )\n",
    "plot_confusion_matrix( model, X_test, y_test, values_format = 'd', display_labels = [ \"Not a Suicide\", \"Suicide\" ] )"
   ]
  },
  {
   "cell_type": "code",
   "execution_count": 10,
   "id": "heavy-hazard",
   "metadata": {},
   "outputs": [
    {
     "data": {
      "text/markdown": [
       "the model filters below attributes to be not useful, and having zero importance towards the outcome variable : \n",
       "'Adjinc_13', 'Educ_1', 'Educ_13', 'Educ_2', 'Educ_3', 'Hhnum_10', 'Hhnum_11', 'Hhnum_12', 'Hhnum_15', 'Hhnum_8', 'Hhnum_9', 'Majind_1', 'Majind_12', 'Majind_13', 'Majind_14', 'Majind_2', 'Majind_6', 'Majind_7', 'Majocc_11', 'Majocc_6', 'Pob_A_country_in_Central_America', 'Pob_A_country_in_Eastern_Europe', 'Pob_A_country_in_Western_Europe', 'Pob_A_country_not_on_a_continent_(identified_as_an_island)', 'Pob_A_country_on_South_America_Continent', 'Pob_African_Continent', 'Pob_Elsewhere_but_not_in_the_US', 'Pob_North_America_(Not_US_or_Mexico)', 'Pob_Not_in_the_US__PR__or_outlying_possession', 'Race_5', 'Reltrf_5'"
      ],
      "text/plain": [
       "<IPython.core.display.Markdown object>"
      ]
     },
     "execution_count": 10,
     "metadata": {},
     "output_type": "execute_result"
    }
   ],
   "source": [
    "md(\n",
    "    \"\"\"the model filters below attributes to be not useful, and having zero importance towards the outcome variable : \\n'{0}'\"\"\".format( \n",
    "    \"', '\".join( np.setdiff1d( data_.columns, filter_data_for_imp_variables( data_, model.feature_importances_, output_column ).columns.tolist() ) )\n",
    ")\n",
    "  )"
   ]
  },
  {
   "cell_type": "code",
   "execution_count": 11,
   "id": "continuous-signature",
   "metadata": {},
   "outputs": [],
   "source": [
    "# filter out insignificant variables from the data \n",
    "data_ = filter_data_for_imp_variables( data_, model.feature_importances_, output_column )\n",
    "X_train, X_test, y_train, y_test = train_test_split( data_.drop( columns = [output_column] ), data_[ output_column ], test_size = 0.25, random_state = 42, stratify = data_[ output_column ] )"
   ]
  },
  {
   "cell_type": "markdown",
   "id": "functioning-groove",
   "metadata": {},
   "source": [
    "#### perform a second round of cross validation to find optimal parameters\n",
    "this time, the operation is baselined on the optimal parameters observed in first round"
   ]
  },
  {
   "cell_type": "code",
   "execution_count": 12,
   "id": "horizontal-oxide",
   "metadata": {},
   "outputs": [
    {
     "name": "stdout",
     "output_type": "stream",
     "text": [
      "Fitting 3 folds for each of 2000 candidates, totalling 6000 fits\n"
     ]
    },
    {
     "name": "stderr",
     "output_type": "stream",
     "text": [
      "[Parallel(n_jobs=10)]: Using backend LokyBackend with 10 concurrent workers.\n",
      "[Parallel(n_jobs=10)]: Done  21 tasks      | elapsed:    2.5s\n",
      "[Parallel(n_jobs=10)]: Done 142 tasks      | elapsed:   17.5s\n",
      "[Parallel(n_jobs=10)]: Done 345 tasks      | elapsed:   40.0s\n",
      "[Parallel(n_jobs=10)]: Done 628 tasks      | elapsed:  1.2min\n",
      "[Parallel(n_jobs=10)]: Done 993 tasks      | elapsed:  2.0min\n",
      "[Parallel(n_jobs=10)]: Done 1438 tasks      | elapsed:  2.9min\n",
      "[Parallel(n_jobs=10)]: Done 1965 tasks      | elapsed:  4.1min\n",
      "[Parallel(n_jobs=10)]: Done 2572 tasks      | elapsed:  5.8min\n",
      "[Parallel(n_jobs=10)]: Done 3261 tasks      | elapsed:  8.0min\n",
      "[Parallel(n_jobs=10)]: Done 4030 tasks      | elapsed: 10.8min\n",
      "[Parallel(n_jobs=10)]: Done 4881 tasks      | elapsed: 14.0min\n",
      "[Parallel(n_jobs=10)]: Done 5812 tasks      | elapsed: 17.4min\n",
      "[Parallel(n_jobs=10)]: Done 6000 out of 6000 | elapsed: 18.0min finished\n"
     ]
    },
    {
     "name": "stdout",
     "output_type": "stream",
     "text": [
      "{'colsample_bytree': 0.6, 'gamma': 0.1, 'learning_rate': 0.09, 'max_depth': 4, 'min_child_weight': 2}\n",
      "Accuracy: 0.6838709677419355\n"
     ]
    },
    {
     "data": {
      "text/plain": [
       "<sklearn.metrics._plot.confusion_matrix.ConfusionMatrixDisplay at 0x298f1d0e488>"
      ]
     },
     "execution_count": 12,
     "metadata": {},
     "output_type": "execute_result"
    },
    {
     "data": {
      "image/png": "[encoded data removed]",
      "text/plain": [
       "<Figure size 432x288 with 2 Axes>"
      ]
     },
     "metadata": {
      "needs_background": "light"
     },
     "output_type": "display_data"
    }
   ],
   "source": [
    "# round 2\n",
    "param_grid = {\n",
    "    \"max_depth\" : [ 4, 6, 7, 8, 10 ],\n",
    "    \"learning_rate\" : [ 0.01, 0.05, 0.075, 0.08, 0.09 ],\n",
    "    \"gamma\" : [ 0, 0.1, 0.15, 0.25 ],\n",
    "    \"min_child_weight\" : [ 2, 3, 4, 6 ],\n",
    "    \"colsample_bytree\" : [ 0.5, 0.6, 0.75, 0.9, 1 ]\n",
    "}\n",
    "\n",
    "optimal_params = GridSearchCV(\n",
    "    estimator = XGBClassifier( objective = 'binary:logistic', seed = 42, \n",
    "    subsample = 0.9, colsample_bytree = 0.5 ),\n",
    "    param_grid = param_grid, scoring = 'roc_auc',\n",
    "    verbose = 2,\n",
    "    n_jobs = 10,\n",
    "    cv = 3\n",
    ")\n",
    "\n",
    "optimal_params.fit( X_train, y_train,\n",
    "    early_stopping_rounds = 25,\n",
    "    eval_metric = 'auc',\n",
    "    eval_set = [ ( X_test, y_test ) ],\n",
    "    verbose = False\n",
    ")\n",
    "\n",
    "model = optimal_params.best_estimator_\n",
    "print( optimal_params.best_params_ )\n",
    "# print( fetch_feature_importance( data_, model.feature_importances_ ) )\n",
    "scores[ 'cv_2' ] = accuracy_score( y_test, model.predict( X_test ) )\n",
    "print( \"Accuracy: {0}\".format( scores[ 'cv_2' ] ) )\n",
    "plot_confusion_matrix( model, X_test, y_test, values_format = 'd', display_labels = [ \"Not a Suicide\", \"Suicide\" ] )"
   ]
  },
  {
   "cell_type": "markdown",
   "id": "gross-northern",
   "metadata": {},
   "source": [
    "#### the second iteration has helped increase True positives, decrease False negatives- which is a good thing.\n",
    "The False positives have increased, but it is not very critical because suspecting a person who might commit Suicide, but is not going to- is less harmful than the opposite case"
   ]
  },
  {
   "cell_type": "code",
   "execution_count": 13,
   "id": "portuguese-morrison",
   "metadata": {},
   "outputs": [
    {
     "data": {
      "text/markdown": [
       "the model filters below attributes to be not useful, and having zero importance towards the outcome variable : \n",
       "'Adjinc_2', 'Adjinc_9', 'Ms_2', 'Pob_Asian_Continent_', 'Pob_Missing_POB', 'Race_4'"
      ],
      "text/plain": [
       "<IPython.core.display.Markdown object>"
      ]
     },
     "execution_count": 13,
     "metadata": {},
     "output_type": "execute_result"
    }
   ],
   "source": [
    "md(\n",
    "    \"\"\"the model filters below attributes to be not useful, and having zero importance towards the outcome variable : \\n'{0}'\"\"\".format( \n",
    "    \"', '\".join( np.setdiff1d( data_.columns, filter_data_for_imp_variables( data_, model.feature_importances_, output_column ).columns.tolist() ) )\n",
    ")\n",
    "  )"
   ]
  },
  {
   "cell_type": "markdown",
   "id": "southern-letters",
   "metadata": {},
   "source": [
    "#### we again filter the data for these attributes"
   ]
  },
  {
   "cell_type": "code",
   "execution_count": 14,
   "id": "increased-tragedy",
   "metadata": {},
   "outputs": [],
   "source": [
    "data_ = filter_data_for_imp_variables( data_, model.feature_importances_, output_column )\n",
    "X_train, X_test, y_train, y_test = train_test_split( data_.drop( columns = [output_column] ), data_[ output_column ], test_size = 0.25, random_state = 42, stratify = data_[ output_column ] )"
   ]
  },
  {
   "cell_type": "code",
   "execution_count": 15,
   "id": "noted-appreciation",
   "metadata": {},
   "outputs": [
    {
     "name": "stdout",
     "output_type": "stream",
     "text": [
      "[0]\tvalidation_0-aucpr:0.68728\n",
      "Will train until validation_0-aucpr hasn't improved in 10 rounds.\n"
     ]
    }
   ],
   "source": [
    "# train with 1 estimator to plot the tree\n",
    "xgb_model = XGBClassifier( \n",
    "    objective = 'binary:logistic',\n",
    "    seed = 42,\n",
    "    missing = None,\n",
    "    gamma = 0.1,\n",
    "    learning_rate = 0.09,\n",
    "    max_depth = 4,\n",
    "    reg_lambda = 0,\n",
    "    scale_pos_weight = 1,\n",
    "    n_estimators = 1, min_child_weight = 2,\n",
    "    colsample_bytree = 0.6,\n",
    "    subsample = 0.9\n",
    ")\n",
    "xgb_model.fit( \n",
    "    X_train, y_train, \n",
    "    verbose = True, early_stopping_rounds = 10, eval_metric = 'aucpr',\n",
    "    eval_set = [ ( X_test, y_test ) ]\n",
    ")\n",
    "\n",
    "scores[ 'single_estimator_from_best' ] = accuracy_score( y_test, xgb_model.predict( X_test ) )"
   ]
  },
  {
   "cell_type": "code",
   "execution_count": 16,
   "id": "speaking-intro",
   "metadata": {},
   "outputs": [
    {
     "data": {
      "text/plain": [
       "'output\\\\xgboost_viz.pdf'"
      ]
     },
     "execution_count": 16,
     "metadata": {},
     "output_type": "execute_result"
    }
   ],
   "source": [
    "from xgboost import to_graphviz\n",
    "\n",
    "\n",
    "node_params = {\n",
    "    \"shape\" : \"box\",\n",
    "    \"style\" : \"filled, rounded\",\n",
    "    \"fillcolor\" : \"#78cbe\"\n",
    "}\n",
    "\n",
    "leaf_params = {\n",
    "    \"shape\" : \"box\",\n",
    "    \"style\" : \"filled\",\n",
    "    \"fillcolor\" : \"#e48038\"\n",
    "}\n",
    "\n",
    "\n",
    "to_graphviz(\n",
    "    model, num_trees = 0, size = \"10,10\",\n",
    "    condition_node_params = node_params,\n",
    "    leaf_node_params = leaf_params\n",
    ")\n",
    "\n",
    "\n",
    "xg_viz = to_graphviz(\n",
    "    model, num_trees = 0, size = \"10,10\",\n",
    "    condition_node_params = node_params,\n",
    "    leaf_node_params = leaf_params\n",
    ")\n",
    "xg_viz.render( \"xgboost_viz\", \"output\", format = 'pdf' )"
   ]
  },
  {
   "cell_type": "code",
   "execution_count": 17,
   "id": "considerable-mortality",
   "metadata": {},
   "outputs": [
    {
     "data": {
      "image/svg+xml": [
       "<?xml version=\"1.0\" encoding=\"UTF-8\" standalone=\"no\"?>\r\n",
       "<!DOCTYPE svg PUBLIC \"-//W3C//DTD SVG 1.1//EN\"\r\n",
       " \"http://www.w3.org/Graphics/SVG/1.1/DTD/svg11.dtd\">\r\n",
       "<!-- Generated by graphviz version 2.47.0 (20210316.0004)\r\n",
       " -->\r\n",
       "<!-- Pages: 1 -->\r\n",
       "<svg width=\"1980pt\" height=\"392pt\"\r\n",
       " viewBox=\"0.00 0.00 1979.50 392.00\" xmlns=\"http://www.w3.org/2000/svg\" xmlns:xlink=\"http://www.w3.org/1999/xlink\">\r\n",
       "<g id=\"graph0\" class=\"graph\" transform=\"scale(1 1) rotate(0) translate(4 388)\">\r\n",
       "<polygon fill=\"white\" stroke=\"transparent\" points=\"-4,4 -4,-388 1975.5,-388 1975.5,4 -4,4\"/>\r\n",
       "<!-- 0 -->\r\n",
       "<g id=\"node1\" class=\"node\">\r\n",
       "<title>0</title>\r\n",
       "<path fill=\"#78cb0e\" stroke=\"black\" d=\"M840.5,-384C840.5,-384 787.5,-384 787.5,-384 781.5,-384 775.5,-378 775.5,-372 775.5,-372 775.5,-360 775.5,-360 775.5,-354 781.5,-348 787.5,-348 787.5,-348 840.5,-348 840.5,-348 846.5,-348 852.5,-354 852.5,-360 852.5,-360 852.5,-372 852.5,-372 852.5,-378 846.5,-384 840.5,-384\"/>\r\n",
       "<text text-anchor=\"middle\" x=\"814\" y=\"-362.3\" font-family=\"Times New Roman,serif\" font-size=\"14.00\">Sex_2&lt;0.5</text>\r\n",
       "</g>\r\n",
       "<!-- 1 -->\r\n",
       "<g id=\"node2\" class=\"node\">\r\n",
       "<title>1</title>\r\n",
       "<path fill=\"#78cb0e\" stroke=\"black\" d=\"M594.5,-297C594.5,-297 527.5,-297 527.5,-297 521.5,-297 515.5,-291 515.5,-285 515.5,-285 515.5,-273 515.5,-273 515.5,-267 521.5,-261 527.5,-261 527.5,-261 594.5,-261 594.5,-261 600.5,-261 606.5,-267 606.5,-273 606.5,-273 606.5,-285 606.5,-285 606.5,-291 600.5,-297 594.5,-297\"/>\r\n",
       "<text text-anchor=\"middle\" x=\"561\" y=\"-275.3\" font-family=\"Times New Roman,serif\" font-size=\"14.00\">Ssnyn_1&lt;0.5</text>\r\n",
       "</g>\r\n",
       "<!-- 0&#45;&gt;1 -->\r\n",
       "<g id=\"edge1\" class=\"edge\">\r\n",
       "<title>0&#45;&gt;1</title>\r\n",
       "<path fill=\"none\" stroke=\"#0000ff\" d=\"M775.3,-352C732.82,-337.73 664.28,-314.7 616.18,-298.54\"/>\r\n",
       "<polygon fill=\"#0000ff\" stroke=\"#0000ff\" points=\"617.14,-295.17 606.55,-295.3 614.91,-301.8 617.14,-295.17\"/>\r\n",
       "<text text-anchor=\"middle\" x=\"737.5\" y=\"-318.8\" font-family=\"Times New Roman,serif\" font-size=\"14.00\">yes, missing</text>\r\n",
       "</g>\r\n",
       "<!-- 2 -->\r\n",
       "<g id=\"node3\" class=\"node\">\r\n",
       "<title>2</title>\r\n",
       "<path fill=\"#78cb0e\" stroke=\"black\" d=\"M1151.5,-297C1151.5,-297 1084.5,-297 1084.5,-297 1078.5,-297 1072.5,-291 1072.5,-285 1072.5,-285 1072.5,-273 1072.5,-273 1072.5,-267 1078.5,-261 1084.5,-261 1084.5,-261 1151.5,-261 1151.5,-261 1157.5,-261 1163.5,-267 1163.5,-273 1163.5,-273 1163.5,-285 1163.5,-285 1163.5,-291 1157.5,-297 1151.5,-297\"/>\r\n",
       "<text text-anchor=\"middle\" x=\"1118\" y=\"-275.3\" font-family=\"Times New Roman,serif\" font-size=\"14.00\">Ssnyn_1&lt;0.5</text>\r\n",
       "</g>\r\n",
       "<!-- 0&#45;&gt;2 -->\r\n",
       "<g id=\"edge2\" class=\"edge\">\r\n",
       "<title>0&#45;&gt;2</title>\r\n",
       "<path fill=\"none\" stroke=\"#ff0000\" d=\"M852.5,-354.23C905.62,-339.38 1001.72,-312.51 1062.57,-295.5\"/>\r\n",
       "<polygon fill=\"#ff0000\" stroke=\"#ff0000\" points=\"1063.7,-298.82 1072.39,-292.75 1061.81,-292.08 1063.7,-298.82\"/>\r\n",
       "<text text-anchor=\"middle\" x=\"992.5\" y=\"-318.8\" font-family=\"Times New Roman,serif\" font-size=\"14.00\">no</text>\r\n",
       "</g>\r\n",
       "<!-- 3 -->\r\n",
       "<g id=\"node4\" class=\"node\">\r\n",
       "<title>3</title>\r\n",
       "<path fill=\"#78cb0e\" stroke=\"black\" d=\"M387.5,-210C387.5,-210 318.5,-210 318.5,-210 312.5,-210 306.5,-204 306.5,-198 306.5,-198 306.5,-186 306.5,-186 306.5,-180 312.5,-174 318.5,-174 318.5,-174 387.5,-174 387.5,-174 393.5,-174 399.5,-180 399.5,-186 399.5,-186 399.5,-198 399.5,-198 399.5,-204 393.5,-210 387.5,-210\"/>\r\n",
       "<text text-anchor=\"middle\" x=\"353\" y=\"-188.3\" font-family=\"Times New Roman,serif\" font-size=\"14.00\">Age_0_5&lt;0.5</text>\r\n",
       "</g>\r\n",
       "<!-- 1&#45;&gt;3 -->\r\n",
       "<g id=\"edge3\" class=\"edge\">\r\n",
       "<title>1&#45;&gt;3</title>\r\n",
       "<path fill=\"none\" stroke=\"#0000ff\" d=\"M518.91,-260.8C485.81,-247.27 439.57,-228.38 404.31,-213.97\"/>\r\n",
       "<polygon fill=\"#0000ff\" stroke=\"#0000ff\" points=\"405.25,-210.57 394.67,-210.03 402.61,-217.05 405.25,-210.57\"/>\r\n",
       "<text text-anchor=\"middle\" x=\"504.5\" y=\"-231.8\" font-family=\"Times New Roman,serif\" font-size=\"14.00\">yes, missing</text>\r\n",
       "</g>\r\n",
       "<!-- 4 -->\r\n",
       "<g id=\"node5\" class=\"node\">\r\n",
       "<title>4</title>\r\n",
       "<path fill=\"#78cb0e\" stroke=\"black\" d=\"M602.5,-210C602.5,-210 519.5,-210 519.5,-210 513.5,-210 507.5,-204 507.5,-198 507.5,-198 507.5,-186 507.5,-186 507.5,-180 513.5,-174 519.5,-174 519.5,-174 602.5,-174 602.5,-174 608.5,-174 614.5,-180 614.5,-186 614.5,-186 614.5,-198 614.5,-198 614.5,-204 608.5,-210 602.5,-210\"/>\r\n",
       "<text text-anchor=\"middle\" x=\"561\" y=\"-188.3\" font-family=\"Times New Roman,serif\" font-size=\"14.00\">Age_60_90&lt;0.5</text>\r\n",
       "</g>\r\n",
       "<!-- 1&#45;&gt;4 -->\r\n",
       "<g id=\"edge4\" class=\"edge\">\r\n",
       "<title>1&#45;&gt;4</title>\r\n",
       "<path fill=\"none\" stroke=\"#ff0000\" d=\"M561,-260.8C561,-249.16 561,-233.55 561,-220.24\"/>\r\n",
       "<polygon fill=\"#ff0000\" stroke=\"#ff0000\" points=\"564.5,-220.18 561,-210.18 557.5,-220.18 564.5,-220.18\"/>\r\n",
       "<text text-anchor=\"middle\" x=\"568.5\" y=\"-231.8\" font-family=\"Times New Roman,serif\" font-size=\"14.00\">no</text>\r\n",
       "</g>\r\n",
       "<!-- 5 -->\r\n",
       "<g id=\"node16\" class=\"node\">\r\n",
       "<title>5</title>\r\n",
       "<path fill=\"#78cb0e\" stroke=\"black\" d=\"M1154.5,-210C1154.5,-210 1081.5,-210 1081.5,-210 1075.5,-210 1069.5,-204 1069.5,-198 1069.5,-198 1069.5,-186 1069.5,-186 1069.5,-180 1075.5,-174 1081.5,-174 1081.5,-174 1154.5,-174 1154.5,-174 1160.5,-174 1166.5,-180 1166.5,-186 1166.5,-186 1166.5,-198 1166.5,-198 1166.5,-204 1160.5,-210 1154.5,-210\"/>\r\n",
       "<text text-anchor=\"middle\" x=\"1118\" y=\"-188.3\" font-family=\"Times New Roman,serif\" font-size=\"14.00\">Hhnum_2&lt;0.5</text>\r\n",
       "</g>\r\n",
       "<!-- 2&#45;&gt;5 -->\r\n",
       "<g id=\"edge15\" class=\"edge\">\r\n",
       "<title>2&#45;&gt;5</title>\r\n",
       "<path fill=\"none\" stroke=\"#0000ff\" d=\"M1118,-260.8C1118,-249.16 1118,-233.55 1118,-220.24\"/>\r\n",
       "<polygon fill=\"#0000ff\" stroke=\"#0000ff\" points=\"1121.5,-220.18 1118,-210.18 1114.5,-220.18 1121.5,-220.18\"/>\r\n",
       "<text text-anchor=\"middle\" x=\"1152.5\" y=\"-231.8\" font-family=\"Times New Roman,serif\" font-size=\"14.00\">yes, missing</text>\r\n",
       "</g>\r\n",
       "<!-- 6 -->\r\n",
       "<g id=\"node17\" class=\"node\">\r\n",
       "<title>6</title>\r\n",
       "<path fill=\"#78cb0e\" stroke=\"black\" d=\"M1562.5,-210C1562.5,-210 1489.5,-210 1489.5,-210 1483.5,-210 1477.5,-204 1477.5,-198 1477.5,-198 1477.5,-186 1477.5,-186 1477.5,-180 1483.5,-174 1489.5,-174 1489.5,-174 1562.5,-174 1562.5,-174 1568.5,-174 1574.5,-180 1574.5,-186 1574.5,-186 1574.5,-198 1574.5,-198 1574.5,-204 1568.5,-210 1562.5,-210\"/>\r\n",
       "<text text-anchor=\"middle\" x=\"1526\" y=\"-188.3\" font-family=\"Times New Roman,serif\" font-size=\"14.00\">Hhnum_1&lt;0.5</text>\r\n",
       "</g>\r\n",
       "<!-- 2&#45;&gt;6 -->\r\n",
       "<g id=\"edge16\" class=\"edge\">\r\n",
       "<title>2&#45;&gt;6</title>\r\n",
       "<path fill=\"none\" stroke=\"#ff0000\" d=\"M1163.62,-268.5C1237.97,-253.01 1385.23,-222.33 1467.29,-205.23\"/>\r\n",
       "<polygon fill=\"#ff0000\" stroke=\"#ff0000\" points=\"1468.13,-208.63 1477.2,-203.17 1466.7,-201.78 1468.13,-208.63\"/>\r\n",
       "<text text-anchor=\"middle\" x=\"1354.5\" y=\"-231.8\" font-family=\"Times New Roman,serif\" font-size=\"14.00\">no</text>\r\n",
       "</g>\r\n",
       "<!-- 7 -->\r\n",
       "<g id=\"node6\" class=\"node\">\r\n",
       "<title>7</title>\r\n",
       "<path fill=\"#78cb0e\" stroke=\"black\" d=\"M247.5,-123C247.5,-123 178.5,-123 178.5,-123 172.5,-123 166.5,-117 166.5,-111 166.5,-111 166.5,-99 166.5,-99 166.5,-93 172.5,-87 178.5,-87 178.5,-87 247.5,-87 247.5,-87 253.5,-87 259.5,-93 259.5,-99 259.5,-99 259.5,-111 259.5,-111 259.5,-117 253.5,-123 247.5,-123\"/>\r\n",
       "<text text-anchor=\"middle\" x=\"213\" y=\"-101.3\" font-family=\"Times New Roman,serif\" font-size=\"14.00\">Hitype_1&lt;0.5</text>\r\n",
       "</g>\r\n",
       "<!-- 3&#45;&gt;7 -->\r\n",
       "<g id=\"edge5\" class=\"edge\">\r\n",
       "<title>3&#45;&gt;7</title>\r\n",
       "<path fill=\"none\" stroke=\"#0000ff\" d=\"M313.62,-173.84C302.52,-168.54 290.58,-162.4 280,-156 266.91,-148.08 253.24,-138.2 241.69,-129.33\"/>\r\n",
       "<polygon fill=\"#0000ff\" stroke=\"#0000ff\" points=\"243.72,-126.48 233.69,-123.08 239.42,-131.99 243.72,-126.48\"/>\r\n",
       "<text text-anchor=\"middle\" x=\"314.5\" y=\"-144.8\" font-family=\"Times New Roman,serif\" font-size=\"14.00\">yes, missing</text>\r\n",
       "</g>\r\n",
       "<!-- 8 -->\r\n",
       "<g id=\"node7\" class=\"node\">\r\n",
       "<title>8</title>\r\n",
       "<polygon fill=\"#e48038\" stroke=\"black\" points=\"413,-123 293,-123 293,-87 413,-87 413,-123\"/>\r\n",
       "<text text-anchor=\"middle\" x=\"353\" y=\"-101.3\" font-family=\"Times New Roman,serif\" font-size=\"14.00\">leaf=&#45;0.148965523</text>\r\n",
       "</g>\r\n",
       "<!-- 3&#45;&gt;8 -->\r\n",
       "<g id=\"edge6\" class=\"edge\">\r\n",
       "<title>3&#45;&gt;8</title>\r\n",
       "<path fill=\"none\" stroke=\"#ff0000\" d=\"M353,-173.8C353,-162.16 353,-146.55 353,-133.24\"/>\r\n",
       "<polygon fill=\"#ff0000\" stroke=\"#ff0000\" points=\"356.5,-133.18 353,-123.18 349.5,-133.18 356.5,-133.18\"/>\r\n",
       "<text text-anchor=\"middle\" x=\"360.5\" y=\"-144.8\" font-family=\"Times New Roman,serif\" font-size=\"14.00\">no</text>\r\n",
       "</g>\r\n",
       "<!-- 9 -->\r\n",
       "<g id=\"node10\" class=\"node\">\r\n",
       "<title>9</title>\r\n",
       "<path fill=\"#78cb0e\" stroke=\"black\" d=\"M528.5,-123C528.5,-123 457.5,-123 457.5,-123 451.5,-123 445.5,-117 445.5,-111 445.5,-111 445.5,-99 445.5,-99 445.5,-93 451.5,-87 457.5,-87 457.5,-87 528.5,-87 528.5,-87 534.5,-87 540.5,-93 540.5,-99 540.5,-99 540.5,-111 540.5,-111 540.5,-117 534.5,-123 528.5,-123\"/>\r\n",
       "<text text-anchor=\"middle\" x=\"493\" y=\"-101.3\" font-family=\"Times New Roman,serif\" font-size=\"14.00\">Tenure_2&lt;0.5</text>\r\n",
       "</g>\r\n",
       "<!-- 4&#45;&gt;9 -->\r\n",
       "<g id=\"edge9\" class=\"edge\">\r\n",
       "<title>4&#45;&gt;9</title>\r\n",
       "<path fill=\"none\" stroke=\"#0000ff\" d=\"M535.48,-173.88C528.92,-168.67 522.23,-162.56 517,-156 511.45,-149.04 506.78,-140.59 503.08,-132.63\"/>\r\n",
       "<polygon fill=\"#0000ff\" stroke=\"#0000ff\" points=\"506.23,-131.09 499.05,-123.3 499.8,-133.87 506.23,-131.09\"/>\r\n",
       "<text text-anchor=\"middle\" x=\"551.5\" y=\"-144.8\" font-family=\"Times New Roman,serif\" font-size=\"14.00\">yes, missing</text>\r\n",
       "</g>\r\n",
       "<!-- 10 -->\r\n",
       "<g id=\"node11\" class=\"node\">\r\n",
       "<title>10</title>\r\n",
       "<path fill=\"#78cb0e\" stroke=\"black\" d=\"M666.5,-123C666.5,-123 593.5,-123 593.5,-123 587.5,-123 581.5,-117 581.5,-111 581.5,-111 581.5,-99 581.5,-99 581.5,-93 587.5,-87 593.5,-87 593.5,-87 666.5,-87 666.5,-87 672.5,-87 678.5,-93 678.5,-99 678.5,-99 678.5,-111 678.5,-111 678.5,-117 672.5,-123 666.5,-123\"/>\r\n",
       "<text text-anchor=\"middle\" x=\"630\" y=\"-101.3\" font-family=\"Times New Roman,serif\" font-size=\"14.00\">Hhnum_3&lt;0.5</text>\r\n",
       "</g>\r\n",
       "<!-- 4&#45;&gt;10 -->\r\n",
       "<g id=\"edge10\" class=\"edge\">\r\n",
       "<title>4&#45;&gt;10</title>\r\n",
       "<path fill=\"none\" stroke=\"#ff0000\" d=\"M574.96,-173.8C584.88,-161.59 598.35,-144.99 609.48,-131.28\"/>\r\n",
       "<polygon fill=\"#ff0000\" stroke=\"#ff0000\" points=\"612.47,-133.15 616.06,-123.18 607.04,-128.73 612.47,-133.15\"/>\r\n",
       "<text text-anchor=\"middle\" x=\"607.5\" y=\"-144.8\" font-family=\"Times New Roman,serif\" font-size=\"14.00\">no</text>\r\n",
       "</g>\r\n",
       "<!-- 15 -->\r\n",
       "<g id=\"node8\" class=\"node\">\r\n",
       "<title>15</title>\r\n",
       "<polygon fill=\"#e48038\" stroke=\"black\" points=\"134,-36 0,-36 0,0 134,0 134,-36\"/>\r\n",
       "<text text-anchor=\"middle\" x=\"67\" y=\"-14.3\" font-family=\"Times New Roman,serif\" font-size=\"14.00\">leaf=&#45;0.00341232261</text>\r\n",
       "</g>\r\n",
       "<!-- 7&#45;&gt;15 -->\r\n",
       "<g id=\"edge7\" class=\"edge\">\r\n",
       "<title>7&#45;&gt;15</title>\r\n",
       "<path fill=\"none\" stroke=\"#0000ff\" d=\"M174.54,-86.92C163.23,-81.53 150.95,-75.33 140,-69 125.95,-60.88 111.07,-50.95 98.43,-42.09\"/>\r\n",
       "<polygon fill=\"#0000ff\" stroke=\"#0000ff\" points=\"100.26,-39.09 90.08,-36.15 96.2,-44.8 100.26,-39.09\"/>\r\n",
       "<text text-anchor=\"middle\" x=\"174.5\" y=\"-57.8\" font-family=\"Times New Roman,serif\" font-size=\"14.00\">yes, missing</text>\r\n",
       "</g>\r\n",
       "<!-- 16 -->\r\n",
       "<g id=\"node9\" class=\"node\">\r\n",
       "<title>16</title>\r\n",
       "<polygon fill=\"#e48038\" stroke=\"black\" points=\"274,-36 152,-36 152,0 274,0 274,-36\"/>\r\n",
       "<text text-anchor=\"middle\" x=\"213\" y=\"-14.3\" font-family=\"Times New Roman,serif\" font-size=\"14.00\">leaf=0.0726315826</text>\r\n",
       "</g>\r\n",
       "<!-- 7&#45;&gt;16 -->\r\n",
       "<g id=\"edge8\" class=\"edge\">\r\n",
       "<title>7&#45;&gt;16</title>\r\n",
       "<path fill=\"none\" stroke=\"#ff0000\" d=\"M213,-86.8C213,-75.16 213,-59.55 213,-46.24\"/>\r\n",
       "<polygon fill=\"#ff0000\" stroke=\"#ff0000\" points=\"216.5,-46.18 213,-36.18 209.5,-46.18 216.5,-46.18\"/>\r\n",
       "<text text-anchor=\"middle\" x=\"220.5\" y=\"-57.8\" font-family=\"Times New Roman,serif\" font-size=\"14.00\">no</text>\r\n",
       "</g>\r\n",
       "<!-- 17 -->\r\n",
       "<g id=\"node12\" class=\"node\">\r\n",
       "<title>17</title>\r\n",
       "<polygon fill=\"#e48038\" stroke=\"black\" points=\"414,-36 292,-36 292,0 414,0 414,-36\"/>\r\n",
       "<text text-anchor=\"middle\" x=\"353\" y=\"-14.3\" font-family=\"Times New Roman,serif\" font-size=\"14.00\">leaf=0.0395951457</text>\r\n",
       "</g>\r\n",
       "<!-- 9&#45;&gt;17 -->\r\n",
       "<g id=\"edge11\" class=\"edge\">\r\n",
       "<title>9&#45;&gt;17</title>\r\n",
       "<path fill=\"none\" stroke=\"#0000ff\" d=\"M453.62,-86.84C442.52,-81.54 430.58,-75.4 420,-69 406.91,-61.08 393.24,-51.2 381.69,-42.33\"/>\r\n",
       "<polygon fill=\"#0000ff\" stroke=\"#0000ff\" points=\"383.72,-39.48 373.69,-36.08 379.42,-44.99 383.72,-39.48\"/>\r\n",
       "<text text-anchor=\"middle\" x=\"454.5\" y=\"-57.8\" font-family=\"Times New Roman,serif\" font-size=\"14.00\">yes, missing</text>\r\n",
       "</g>\r\n",
       "<!-- 18 -->\r\n",
       "<g id=\"node13\" class=\"node\">\r\n",
       "<title>18</title>\r\n",
       "<polygon fill=\"#e48038\" stroke=\"black\" points=\"554,-36 432,-36 432,0 554,0 554,-36\"/>\r\n",
       "<text text-anchor=\"middle\" x=\"493\" y=\"-14.3\" font-family=\"Times New Roman,serif\" font-size=\"14.00\">leaf=0.0926213562</text>\r\n",
       "</g>\r\n",
       "<!-- 9&#45;&gt;18 -->\r\n",
       "<g id=\"edge12\" class=\"edge\">\r\n",
       "<title>9&#45;&gt;18</title>\r\n",
       "<path fill=\"none\" stroke=\"#ff0000\" d=\"M493,-86.8C493,-75.16 493,-59.55 493,-46.24\"/>\r\n",
       "<polygon fill=\"#ff0000\" stroke=\"#ff0000\" points=\"496.5,-46.18 493,-36.18 489.5,-46.18 496.5,-46.18\"/>\r\n",
       "<text text-anchor=\"middle\" x=\"500.5\" y=\"-57.8\" font-family=\"Times New Roman,serif\" font-size=\"14.00\">no</text>\r\n",
       "</g>\r\n",
       "<!-- 19 -->\r\n",
       "<g id=\"node14\" class=\"node\">\r\n",
       "<title>19</title>\r\n",
       "<polygon fill=\"#e48038\" stroke=\"black\" points=\"688,-36 572,-36 572,0 688,0 688,-36\"/>\r\n",
       "<text text-anchor=\"middle\" x=\"630\" y=\"-14.3\" font-family=\"Times New Roman,serif\" font-size=\"14.00\">leaf=0.111366913</text>\r\n",
       "</g>\r\n",
       "<!-- 10&#45;&gt;19 -->\r\n",
       "<g id=\"edge13\" class=\"edge\">\r\n",
       "<title>10&#45;&gt;19</title>\r\n",
       "<path fill=\"none\" stroke=\"#0000ff\" d=\"M630,-86.8C630,-75.16 630,-59.55 630,-46.24\"/>\r\n",
       "<polygon fill=\"#0000ff\" stroke=\"#0000ff\" points=\"633.5,-46.18 630,-36.18 626.5,-46.18 633.5,-46.18\"/>\r\n",
       "<text text-anchor=\"middle\" x=\"664.5\" y=\"-57.8\" font-family=\"Times New Roman,serif\" font-size=\"14.00\">yes, missing</text>\r\n",
       "</g>\r\n",
       "<!-- 20 -->\r\n",
       "<g id=\"node15\" class=\"node\">\r\n",
       "<title>20</title>\r\n",
       "<polygon fill=\"#e48038\" stroke=\"black\" points=\"828,-36 706,-36 706,0 828,0 828,-36\"/>\r\n",
       "<text text-anchor=\"middle\" x=\"767\" y=\"-14.3\" font-family=\"Times New Roman,serif\" font-size=\"14.00\">leaf=0.0240000021</text>\r\n",
       "</g>\r\n",
       "<!-- 10&#45;&gt;20 -->\r\n",
       "<g id=\"edge14\" class=\"edge\">\r\n",
       "<title>10&#45;&gt;20</title>\r\n",
       "<path fill=\"none\" stroke=\"#ff0000\" d=\"M669.47,-86.99C680.58,-81.69 692.49,-75.52 703,-69 715.51,-61.24 728.46,-51.5 739.41,-42.68\"/>\r\n",
       "<polygon fill=\"#ff0000\" stroke=\"#ff0000\" points=\"741.84,-45.21 747.35,-36.16 737.4,-39.8 741.84,-45.21\"/>\r\n",
       "<text text-anchor=\"middle\" x=\"731.5\" y=\"-57.8\" font-family=\"Times New Roman,serif\" font-size=\"14.00\">no</text>\r\n",
       "</g>\r\n",
       "<!-- 11 -->\r\n",
       "<g id=\"node18\" class=\"node\">\r\n",
       "<title>11</title>\r\n",
       "<path fill=\"#78cb0e\" stroke=\"black\" d=\"M1135,-123C1135,-123 913,-123 913,-123 907,-123 901,-117 901,-111 901,-111 901,-99 901,-99 901,-93 907,-87 913,-87 913,-87 1135,-87 1135,-87 1141,-87 1147,-93 1147,-99 1147,-99 1147,-111 1147,-111 1147,-117 1141,-123 1135,-123\"/>\r\n",
       "<text text-anchor=\"middle\" x=\"1024\" y=\"-101.3\" font-family=\"Times New Roman,serif\" font-size=\"14.00\">Stater_East_North_Central_Division&lt;0.5</text>\r\n",
       "</g>\r\n",
       "<!-- 5&#45;&gt;11 -->\r\n",
       "<g id=\"edge17\" class=\"edge\">\r\n",
       "<title>5&#45;&gt;11</title>\r\n",
       "<path fill=\"none\" stroke=\"#0000ff\" d=\"M1095.21,-173.67C1088.27,-168.18 1080.7,-161.98 1074,-156 1065.02,-147.99 1055.59,-138.78 1047.37,-130.47\"/>\r\n",
       "<polygon fill=\"#0000ff\" stroke=\"#0000ff\" points=\"1049.7,-127.85 1040.21,-123.15 1044.7,-132.75 1049.7,-127.85\"/>\r\n",
       "<text text-anchor=\"middle\" x=\"1108.5\" y=\"-144.8\" font-family=\"Times New Roman,serif\" font-size=\"14.00\">yes, missing</text>\r\n",
       "</g>\r\n",
       "<!-- 12 -->\r\n",
       "<g id=\"node19\" class=\"node\">\r\n",
       "<title>12</title>\r\n",
       "<path fill=\"#78cb0e\" stroke=\"black\" d=\"M1250.5,-123C1250.5,-123 1177.5,-123 1177.5,-123 1171.5,-123 1165.5,-117 1165.5,-111 1165.5,-111 1165.5,-99 1165.5,-99 1165.5,-93 1171.5,-87 1177.5,-87 1177.5,-87 1250.5,-87 1250.5,-87 1256.5,-87 1262.5,-93 1262.5,-99 1262.5,-99 1262.5,-111 1262.5,-111 1262.5,-117 1256.5,-123 1250.5,-123\"/>\r\n",
       "<text text-anchor=\"middle\" x=\"1214\" y=\"-101.3\" font-family=\"Times New Roman,serif\" font-size=\"14.00\">Smsast_3&lt;0.5</text>\r\n",
       "</g>\r\n",
       "<!-- 5&#45;&gt;12 -->\r\n",
       "<g id=\"edge18\" class=\"edge\">\r\n",
       "<title>5&#45;&gt;12</title>\r\n",
       "<path fill=\"none\" stroke=\"#ff0000\" d=\"M1137.43,-173.8C1151.61,-161.24 1171.03,-144.05 1186.76,-130.12\"/>\r\n",
       "<polygon fill=\"#ff0000\" stroke=\"#ff0000\" points=\"1189.44,-132.43 1194.6,-123.18 1184.79,-127.18 1189.44,-132.43\"/>\r\n",
       "<text text-anchor=\"middle\" x=\"1179.5\" y=\"-144.8\" font-family=\"Times New Roman,serif\" font-size=\"14.00\">no</text>\r\n",
       "</g>\r\n",
       "<!-- 13 -->\r\n",
       "<g id=\"node24\" class=\"node\">\r\n",
       "<title>13</title>\r\n",
       "<path fill=\"#78cb0e\" stroke=\"black\" d=\"M1562.5,-123C1562.5,-123 1489.5,-123 1489.5,-123 1483.5,-123 1477.5,-117 1477.5,-111 1477.5,-111 1477.5,-99 1477.5,-99 1477.5,-93 1483.5,-87 1489.5,-87 1489.5,-87 1562.5,-87 1562.5,-87 1568.5,-87 1574.5,-93 1574.5,-99 1574.5,-99 1574.5,-111 1574.5,-111 1574.5,-117 1568.5,-123 1562.5,-123\"/>\r\n",
       "<text text-anchor=\"middle\" x=\"1526\" y=\"-101.3\" font-family=\"Times New Roman,serif\" font-size=\"14.00\">Hhnum_2&lt;0.5</text>\r\n",
       "</g>\r\n",
       "<!-- 6&#45;&gt;13 -->\r\n",
       "<g id=\"edge23\" class=\"edge\">\r\n",
       "<title>6&#45;&gt;13</title>\r\n",
       "<path fill=\"none\" stroke=\"#0000ff\" d=\"M1526,-173.8C1526,-162.16 1526,-146.55 1526,-133.24\"/>\r\n",
       "<polygon fill=\"#0000ff\" stroke=\"#0000ff\" points=\"1529.5,-133.18 1526,-123.18 1522.5,-133.18 1529.5,-133.18\"/>\r\n",
       "<text text-anchor=\"middle\" x=\"1560.5\" y=\"-144.8\" font-family=\"Times New Roman,serif\" font-size=\"14.00\">yes, missing</text>\r\n",
       "</g>\r\n",
       "<!-- 14 -->\r\n",
       "<g id=\"node25\" class=\"node\">\r\n",
       "<title>14</title>\r\n",
       "<path fill=\"#78cb0e\" stroke=\"black\" d=\"M1801.5,-123C1801.5,-123 1728.5,-123 1728.5,-123 1722.5,-123 1716.5,-117 1716.5,-111 1716.5,-111 1716.5,-99 1716.5,-99 1716.5,-93 1722.5,-87 1728.5,-87 1728.5,-87 1801.5,-87 1801.5,-87 1807.5,-87 1813.5,-93 1813.5,-99 1813.5,-99 1813.5,-111 1813.5,-111 1813.5,-117 1807.5,-123 1801.5,-123\"/>\r\n",
       "<text text-anchor=\"middle\" x=\"1765\" y=\"-101.3\" font-family=\"Times New Roman,serif\" font-size=\"14.00\">Smsast_2&lt;0.5</text>\r\n",
       "</g>\r\n",
       "<!-- 6&#45;&gt;14 -->\r\n",
       "<g id=\"edge24\" class=\"edge\">\r\n",
       "<title>6&#45;&gt;14</title>\r\n",
       "<path fill=\"none\" stroke=\"#ff0000\" d=\"M1574.08,-173.9C1612.57,-160.21 1666.67,-140.97 1707.46,-126.46\"/>\r\n",
       "<polygon fill=\"#ff0000\" stroke=\"#ff0000\" points=\"1708.75,-129.72 1717,-123.07 1706.4,-123.12 1708.75,-129.72\"/>\r\n",
       "<text text-anchor=\"middle\" x=\"1667.5\" y=\"-144.8\" font-family=\"Times New Roman,serif\" font-size=\"14.00\">no</text>\r\n",
       "</g>\r\n",
       "<!-- 21 -->\r\n",
       "<g id=\"node20\" class=\"node\">\r\n",
       "<title>21</title>\r\n",
       "<polygon fill=\"#e48038\" stroke=\"black\" points=\"966,-36 846,-36 846,0 966,0 966,-36\"/>\r\n",
       "<text text-anchor=\"middle\" x=\"906\" y=\"-14.3\" font-family=\"Times New Roman,serif\" font-size=\"14.00\">leaf=&#45;0.136000007</text>\r\n",
       "</g>\r\n",
       "<!-- 11&#45;&gt;21 -->\r\n",
       "<g id=\"edge19\" class=\"edge\">\r\n",
       "<title>11&#45;&gt;21</title>\r\n",
       "<path fill=\"none\" stroke=\"#0000ff\" d=\"M990.69,-86.93C981.16,-81.59 970.94,-75.4 962,-69 951.24,-61.29 940.2,-51.83 930.8,-43.22\"/>\r\n",
       "<polygon fill=\"#0000ff\" stroke=\"#0000ff\" points=\"933.03,-40.51 923.33,-36.25 928.25,-45.63 933.03,-40.51\"/>\r\n",
       "<text text-anchor=\"middle\" x=\"996.5\" y=\"-57.8\" font-family=\"Times New Roman,serif\" font-size=\"14.00\">yes, missing</text>\r\n",
       "</g>\r\n",
       "<!-- 22 -->\r\n",
       "<g id=\"node21\" class=\"node\">\r\n",
       "<title>22</title>\r\n",
       "<polygon fill=\"#e48038\" stroke=\"black\" points=\"1111.5,-36 984.5,-36 984.5,0 1111.5,0 1111.5,-36\"/>\r\n",
       "<text text-anchor=\"middle\" x=\"1048\" y=\"-14.3\" font-family=\"Times New Roman,serif\" font-size=\"14.00\">leaf=&#45;0.0746341497</text>\r\n",
       "</g>\r\n",
       "<!-- 11&#45;&gt;22 -->\r\n",
       "<g id=\"edge20\" class=\"edge\">\r\n",
       "<title>11&#45;&gt;22</title>\r\n",
       "<path fill=\"none\" stroke=\"#ff0000\" d=\"M1028.86,-86.8C1032.17,-75.05 1036.64,-59.24 1040.42,-45.84\"/>\r\n",
       "<polygon fill=\"#ff0000\" stroke=\"#ff0000\" points=\"1043.8,-46.75 1043.15,-36.18 1037.06,-44.85 1043.8,-46.75\"/>\r\n",
       "<text text-anchor=\"middle\" x=\"1045.5\" y=\"-57.8\" font-family=\"Times New Roman,serif\" font-size=\"14.00\">no</text>\r\n",
       "</g>\r\n",
       "<!-- 23 -->\r\n",
       "<g id=\"node22\" class=\"node\">\r\n",
       "<title>23</title>\r\n",
       "<polygon fill=\"#e48038\" stroke=\"black\" points=\"1250,-36 1130,-36 1130,0 1250,0 1250,-36\"/>\r\n",
       "<text text-anchor=\"middle\" x=\"1190\" y=\"-14.3\" font-family=\"Times New Roman,serif\" font-size=\"14.00\">leaf=&#45;0.105714291</text>\r\n",
       "</g>\r\n",
       "<!-- 12&#45;&gt;23 -->\r\n",
       "<g id=\"edge21\" class=\"edge\">\r\n",
       "<title>12&#45;&gt;23</title>\r\n",
       "<path fill=\"none\" stroke=\"#0000ff\" d=\"M1209.14,-86.8C1205.83,-75.05 1201.36,-59.24 1197.58,-45.84\"/>\r\n",
       "<polygon fill=\"#0000ff\" stroke=\"#0000ff\" points=\"1200.94,-44.85 1194.85,-36.18 1194.2,-46.75 1200.94,-44.85\"/>\r\n",
       "<text text-anchor=\"middle\" x=\"1238.5\" y=\"-57.8\" font-family=\"Times New Roman,serif\" font-size=\"14.00\">yes, missing</text>\r\n",
       "</g>\r\n",
       "<!-- 24 -->\r\n",
       "<g id=\"node23\" class=\"node\">\r\n",
       "<title>24</title>\r\n",
       "<polygon fill=\"#e48038\" stroke=\"black\" points=\"1395.5,-36 1268.5,-36 1268.5,0 1395.5,0 1395.5,-36\"/>\r\n",
       "<text text-anchor=\"middle\" x=\"1332\" y=\"-14.3\" font-family=\"Times New Roman,serif\" font-size=\"14.00\">leaf=&#45;0.0200000014</text>\r\n",
       "</g>\r\n",
       "<!-- 12&#45;&gt;24 -->\r\n",
       "<g id=\"edge22\" class=\"edge\">\r\n",
       "<title>12&#45;&gt;24</title>\r\n",
       "<path fill=\"none\" stroke=\"#ff0000\" d=\"M1248.23,-86.86C1257.81,-81.56 1268.05,-75.42 1277,-69 1287.65,-61.36 1298.5,-51.91 1307.73,-43.29\"/>\r\n",
       "<polygon fill=\"#ff0000\" stroke=\"#ff0000\" points=\"1310.23,-45.74 1315.05,-36.31 1305.4,-40.68 1310.23,-45.74\"/>\r\n",
       "<text text-anchor=\"middle\" x=\"1302.5\" y=\"-57.8\" font-family=\"Times New Roman,serif\" font-size=\"14.00\">no</text>\r\n",
       "</g>\r\n",
       "<!-- 25 -->\r\n",
       "<g id=\"node26\" class=\"node\">\r\n",
       "<title>25</title>\r\n",
       "<polygon fill=\"#e48038\" stroke=\"black\" points=\"1540.5,-36 1413.5,-36 1413.5,0 1540.5,0 1540.5,-36\"/>\r\n",
       "<text text-anchor=\"middle\" x=\"1477\" y=\"-14.3\" font-family=\"Times New Roman,serif\" font-size=\"14.00\">leaf=&#45;0.0841935501</text>\r\n",
       "</g>\r\n",
       "<!-- 13&#45;&gt;25 -->\r\n",
       "<g id=\"edge25\" class=\"edge\">\r\n",
       "<title>13&#45;&gt;25</title>\r\n",
       "<path fill=\"none\" stroke=\"#0000ff\" d=\"M1516.08,-86.8C1509.18,-74.82 1499.84,-58.62 1492.02,-45.06\"/>\r\n",
       "<polygon fill=\"#0000ff\" stroke=\"#0000ff\" points=\"1494.93,-43.09 1486.9,-36.18 1488.86,-46.59 1494.93,-43.09\"/>\r\n",
       "<text text-anchor=\"middle\" x=\"1539.5\" y=\"-57.8\" font-family=\"Times New Roman,serif\" font-size=\"14.00\">yes, missing</text>\r\n",
       "</g>\r\n",
       "<!-- 26 -->\r\n",
       "<g id=\"node27\" class=\"node\">\r\n",
       "<title>26</title>\r\n",
       "<polygon fill=\"#e48038\" stroke=\"black\" points=\"1685.5,-36 1558.5,-36 1558.5,0 1685.5,0 1685.5,-36\"/>\r\n",
       "<text text-anchor=\"middle\" x=\"1622\" y=\"-14.3\" font-family=\"Times New Roman,serif\" font-size=\"14.00\">leaf=&#45;0.0447804891</text>\r\n",
       "</g>\r\n",
       "<!-- 13&#45;&gt;26 -->\r\n",
       "<g id=\"edge26\" class=\"edge\">\r\n",
       "<title>13&#45;&gt;26</title>\r\n",
       "<path fill=\"none\" stroke=\"#ff0000\" d=\"M1554.23,-86.91C1562.22,-81.57 1570.72,-75.39 1578,-69 1586.56,-61.48 1595.05,-52.35 1602.25,-43.95\"/>\r\n",
       "<polygon fill=\"#ff0000\" stroke=\"#ff0000\" points=\"1605,-46.12 1608.72,-36.2 1599.62,-41.63 1605,-46.12\"/>\r\n",
       "<text text-anchor=\"middle\" x=\"1600.5\" y=\"-57.8\" font-family=\"Times New Roman,serif\" font-size=\"14.00\">no</text>\r\n",
       "</g>\r\n",
       "<!-- 27 -->\r\n",
       "<g id=\"node28\" class=\"node\">\r\n",
       "<title>27</title>\r\n",
       "<polygon fill=\"#e48038\" stroke=\"black\" points=\"1826,-36 1704,-36 1704,0 1826,0 1826,-36\"/>\r\n",
       "<text text-anchor=\"middle\" x=\"1765\" y=\"-14.3\" font-family=\"Times New Roman,serif\" font-size=\"14.00\">leaf=0.0244444441</text>\r\n",
       "</g>\r\n",
       "<!-- 14&#45;&gt;27 -->\r\n",
       "<g id=\"edge27\" class=\"edge\">\r\n",
       "<title>14&#45;&gt;27</title>\r\n",
       "<path fill=\"none\" stroke=\"#0000ff\" d=\"M1765,-86.8C1765,-75.16 1765,-59.55 1765,-46.24\"/>\r\n",
       "<polygon fill=\"#0000ff\" stroke=\"#0000ff\" points=\"1768.5,-46.18 1765,-36.18 1761.5,-46.18 1768.5,-46.18\"/>\r\n",
       "<text text-anchor=\"middle\" x=\"1799.5\" y=\"-57.8\" font-family=\"Times New Roman,serif\" font-size=\"14.00\">yes, missing</text>\r\n",
       "</g>\r\n",
       "<!-- 28 -->\r\n",
       "<g id=\"node29\" class=\"node\">\r\n",
       "<title>28</title>\r\n",
       "<polygon fill=\"#e48038\" stroke=\"black\" points=\"1971.5,-36 1844.5,-36 1844.5,0 1971.5,0 1971.5,-36\"/>\r\n",
       "<text text-anchor=\"middle\" x=\"1908\" y=\"-14.3\" font-family=\"Times New Roman,serif\" font-size=\"14.00\">leaf=&#45;0.0658536628</text>\r\n",
       "</g>\r\n",
       "<!-- 14&#45;&gt;28 -->\r\n",
       "<g id=\"edge28\" class=\"edge\">\r\n",
       "<title>14&#45;&gt;28</title>\r\n",
       "<path fill=\"none\" stroke=\"#ff0000\" d=\"M1803.92,-86.87C1815.13,-81.53 1827.23,-75.36 1838,-69 1851.69,-60.91 1866.09,-50.91 1878.25,-41.98\"/>\r\n",
       "<polygon fill=\"#ff0000\" stroke=\"#ff0000\" points=\"1880.35,-44.78 1886.28,-36 1876.17,-39.17 1880.35,-44.78\"/>\r\n",
       "<text text-anchor=\"middle\" x=\"1866.5\" y=\"-57.8\" font-family=\"Times New Roman,serif\" font-size=\"14.00\">no</text>\r\n",
       "</g>\r\n",
       "</g>\r\n",
       "</svg>\r\n"
      ],
      "text/plain": [
       "<graphviz.files.Source at 0x298f2e9e0c8>"
      ]
     },
     "execution_count": 17,
     "metadata": {},
     "output_type": "execute_result"
    }
   ],
   "source": [
    "to_graphviz(\n",
    "    model, num_trees = 0, size = \"10,10\",\n",
    "    condition_node_params = node_params,\n",
    "    leaf_node_params = leaf_params\n",
    ")"
   ]
  },
  {
   "cell_type": "code",
   "execution_count": 18,
   "id": "refined-nowhere",
   "metadata": {},
   "outputs": [
    {
     "data": {
      "text/plain": [
       "Text(0.5, 1.0, 'XGBoostClassifier')"
      ]
     },
     "execution_count": 18,
     "metadata": {},
     "output_type": "execute_result"
    },
    {
     "data": {
      "image/png": "[encoded data removed]",
      "text/plain": [
       "<Figure size 432x288 with 1 Axes>"
      ]
     },
     "metadata": {
      "needs_background": "light"
     },
     "output_type": "display_data"
    }
   ],
   "source": [
    "scores_xg = pd.DataFrame.from_dict( scores.items())\n",
    "scores_xg.columns = [ \"approach\", \"accuracy\" ]\n",
    "plt_ = scores_xg.drop(3).set_index( \"approach\" ).plot( kind = 'bar' )\n",
    "plt_.set_ylim( bottom = 0, top = 1)\n",
    "plt_.set_title( \"XGBoostClassifier\" )"
   ]
  },
  {
   "cell_type": "code",
   "execution_count": 19,
   "id": "timely-miller",
   "metadata": {},
   "outputs": [
    {
     "data": {
      "text/html": [
       "<div>\n",
       "<style scoped>\n",
       "    .dataframe tbody tr th:only-of-type {\n",
       "        vertical-align: middle;\n",
       "    }\n",
       "\n",
       "    .dataframe tbody tr th {\n",
       "        vertical-align: top;\n",
       "    }\n",
       "\n",
       "    .dataframe thead th {\n",
       "        text-align: right;\n",
       "    }\n",
       "</style>\n",
       "<table border=\"1\" class=\"dataframe\">\n",
       "  <thead>\n",
       "    <tr style=\"text-align: right;\">\n",
       "      <th></th>\n",
       "      <th>approach</th>\n",
       "      <th>accuracy</th>\n",
       "    </tr>\n",
       "  </thead>\n",
       "  <tbody>\n",
       "    <tr>\n",
       "      <th>0</th>\n",
       "      <td>raw</td>\n",
       "      <td>0.659908</td>\n",
       "    </tr>\n",
       "    <tr>\n",
       "      <th>1</th>\n",
       "      <td>cv_1</td>\n",
       "      <td>0.670046</td>\n",
       "    </tr>\n",
       "    <tr>\n",
       "      <th>2</th>\n",
       "      <td>cv_2</td>\n",
       "      <td>0.683871</td>\n",
       "    </tr>\n",
       "  </tbody>\n",
       "</table>\n",
       "</div>"
      ],
      "text/plain": [
       "  approach  accuracy\n",
       "0      raw  0.659908\n",
       "1     cv_1  0.670046\n",
       "2     cv_2  0.683871"
      ]
     },
     "execution_count": 19,
     "metadata": {},
     "output_type": "execute_result"
    }
   ],
   "source": [
    "# scores_xg_ = scores_xg\n",
    "#scores_xg.pop( \"single_estimator_from_best\" )\n",
    "scores_xg.drop(3)"
   ]
  },
  {
   "cell_type": "code",
   "execution_count": 20,
   "id": "spoken-fiction",
   "metadata": {},
   "outputs": [
    {
     "name": "stdout",
     "output_type": "stream",
     "text": [
      "finally writing .xlsx file: 'xgboost.xlsx'\n"
     ]
    },
    {
     "data": {
      "text/plain": [
       "WindowsPath('output/accuracy/xgboost.xlsx')"
      ]
     },
     "execution_count": 20,
     "metadata": {},
     "output_type": "execute_result"
    }
   ],
   "source": [
    "write_excel_sheet_v2( scores_xg, \"output/accuracy/xgboost.xlsx\" )"
   ]
  },
  {
   "cell_type": "code",
   "execution_count": null,
   "id": "large-amount",
   "metadata": {},
   "outputs": [],
   "source": []
  }
 ],
 "metadata": {
  "kernelspec": {
   "display_name": "Python 3",
   "language": "python",
   "name": "python3"
  },
  "language_info": {
   "codemirror_mode": {
    "name": "ipython",
    "version": 3
   },
   "file_extension": ".py",
   "mimetype": "text/x-python",
   "name": "python",
   "nbconvert_exporter": "python",
   "pygments_lexer": "ipython3",
   "version": "3.7.8"
  }
 },
 "nbformat": 4,
 "nbformat_minor": 5
}
