{
 "cells": [
  {
   "cell_type": "code",
   "execution_count": 1,
   "id": "funky-article",
   "metadata": {},
   "outputs": [],
   "source": [
    "# In[]\n",
    "import sys\n",
    "from ml_toolkit import encode_str_columns, write_excel_sheet_v2, fetch_train_test_split\n",
    "\n",
    "import numpy as np\n",
    "import pandas as pd\n",
    "from sklearn.model_selection import train_test_split, GridSearchCV\n",
    "from sklearn.preprocessing import StandardScaler, OneHotEncoder\n",
    "from sklearn.metrics import accuracy_score, plot_confusion_matrix\n",
    "from xgboost import XGBClassifier\n",
    "\n",
    "\n",
    "from IPython.display import Markdown as md"
   ]
  },
  {
   "cell_type": "markdown",
   "id": "essential-south",
   "metadata": {},
   "source": [
    "#### define methods for fetching feature importance from xgboost models"
   ]
  },
  {
   "cell_type": "code",
   "execution_count": 2,
   "id": "ecological-wesley",
   "metadata": {},
   "outputs": [],
   "source": [
    "def fetch_feature_importance( data, feature_importances ):\n",
    "    feature_importance = sorted( dict( \n",
    "        zip( \n",
    "            data.drop( columns = [ output_column ]).columns, \n",
    "            feature_importances\n",
    "            )\n",
    "        ).items(), key = lambda x : x[1], reverse = True\n",
    "    )\n",
    "    return feature_importance\n",
    "\n",
    "def filter_data_for_imp_variables( data, feature_importance, output_column ):\n",
    "    feature_importance = fetch_feature_importance( data, feature_importance )\n",
    "    imp_variables = [ x for x,y in feature_importance if y > 0 ]\n",
    "    imp_variables = imp_variables + [ output_column ]\n",
    "    return data[ imp_variables ]"
   ]
  },
  {
   "cell_type": "code",
   "execution_count": 3,
   "id": "intensive-harmony",
   "metadata": {},
   "outputs": [],
   "source": [
    "data = pd.read_csv( r\"output\\data\\data_filtered_imputed_clean.csv\", dtype = 'category' )\n",
    "output_column = \"Suicide\""
   ]
  },
  {
   "cell_type": "markdown",
   "id": "advisory-representative",
   "metadata": {},
   "source": [
    "#### filter data for deaths due to health issues, and Suicides"
   ]
  },
  {
   "cell_type": "code",
   "execution_count": 4,
   "id": "blocked-mother",
   "metadata": {},
   "outputs": [],
   "source": [
    "data = data.loc[ data[ output_column ].isin( [ '1', '0' ] ) ]\n",
    "data.drop( columns = [ 'Follow', 'Povpct' ], inplace = True, errors = 'ignore' )"
   ]
  },
  {
   "cell_type": "markdown",
   "id": "headed-assumption",
   "metadata": {},
   "source": [
    "#### one-hot encode the data"
   ]
  },
  {
   "cell_type": "code",
   "execution_count": 5,
   "id": "organized-arcade",
   "metadata": {},
   "outputs": [
    {
     "name": "stdout",
     "output_type": "stream",
     "text": [
      "string columns found: ['Sex', 'Hhnum', 'Majocc', 'Majind', 'Ssnyn', 'Working', 'Age', 'Pob', 'Stater']\n",
      "encoding Sex, Ssnyn, Working, Age, Stater, Majocc, Pob, Hhnum, Majind using one-hot\n",
      "time taken to create dummy variables: 0.0100 secs\n",
      "finally writing .xlsx file: 'data_encoded.xlsx'\n"
     ]
    },
    {
     "data": {
      "text/plain": [
       "WindowsPath('output/data/xgb_classifier/data_encoded.xlsx')"
      ]
     },
     "execution_count": 5,
     "metadata": {},
     "output_type": "execute_result"
    }
   ],
   "source": [
    "factorization_technique = 'one-hot'\n",
    "data_ = encode_str_columns( data.astype( str ), technique = factorization_technique, str_attributes = None, max_unique_values_allowed_for_str = None, drop_extras = False, output_column = output_column )\n",
    "data_.columns = data_.columns.str.replace( \".\", \"\" ).str.replace( \",|-\", \"_\" ).str.replace( \" \", \"_\" )\n",
    "for x in data_.columns:\n",
    "    data_[ x ] = data_[x].astype( int )\n",
    "\n",
    "write_excel_sheet_v2( data_, \"output/data/xgb_classifier/data_encoded.xlsx\" )"
   ]
  },
  {
   "cell_type": "code",
   "execution_count": 6,
   "id": "rental-modeling",
   "metadata": {},
   "outputs": [],
   "source": [
    "scores = {}\n",
    "training_scores = {}"
   ]
  },
  {
   "cell_type": "code",
   "execution_count": 7,
   "id": "aggregate-staff",
   "metadata": {},
   "outputs": [],
   "source": [
    "# split into train-test\n",
    "X_train, X_test, y_train, y_test = fetch_train_test_split( data_, output_column, test_size = 0.25, random_state = 42, stratify = True )"
   ]
  },
  {
   "cell_type": "markdown",
   "id": "protecting-conversation",
   "metadata": {},
   "source": [
    "#### build a basic XGBoost classifier"
   ]
  },
  {
   "cell_type": "code",
   "execution_count": 8,
   "id": "ordered-writer",
   "metadata": {},
   "outputs": [
    {
     "name": "stdout",
     "output_type": "stream",
     "text": [
      "[0]\tvalidation_0-aucpr:0.68490\n",
      "Will train until validation_0-aucpr hasn't improved in 10 rounds.\n",
      "[1]\tvalidation_0-aucpr:0.69199\n",
      "[2]\tvalidation_0-aucpr:0.68660\n",
      "[3]\tvalidation_0-aucpr:0.69178\n",
      "[4]\tvalidation_0-aucpr:0.69122\n",
      "[5]\tvalidation_0-aucpr:0.69163\n",
      "[6]\tvalidation_0-aucpr:0.69159\n",
      "[7]\tvalidation_0-aucpr:0.69158\n",
      "[8]\tvalidation_0-aucpr:0.69058\n",
      "[9]\tvalidation_0-aucpr:0.68972\n",
      "Accuracy: 0.6543778801843319\n"
     ]
    },
    {
     "data": {
      "text/plain": [
       "<sklearn.metrics._plot.confusion_matrix.ConfusionMatrixDisplay at 0x2d694b23448>"
      ]
     },
     "execution_count": 8,
     "metadata": {},
     "output_type": "execute_result"
    },
    {
     "data": {
      "image/png": "[encoded data removed]",
      "text/plain": [
       "<Figure size 432x288 with 2 Axes>"
      ]
     },
     "metadata": {
      "needs_background": "light"
     },
     "output_type": "display_data"
    }
   ],
   "source": [
    "# XGBoost\n",
    "model = XGBClassifier( \n",
    "    objective = 'binary:logistic',\n",
    "    seed = 42,\n",
    "    missing = None,\n",
    "    min_child_weight = 0, learning_rate = 0.01, n_estimators= 10\n",
    ")\n",
    "model.fit( \n",
    "    X_train, y_train, \n",
    "    verbose = True, early_stopping_rounds = 10, eval_metric = 'aucpr',\n",
    "    eval_set = [ ( X_test, y_test ) ]\n",
    ")\n",
    "\n",
    "scores[ 'raw' ] = accuracy_score( y_test, model.predict( X_test ) )\n",
    "training_scores[ 'raw' ] = accuracy_score( y_train, model.predict( X_train ) )\n",
    "print( \"Accuracy: {0}\".format( scores[ 'raw' ] ) )\n",
    "plot_confusion_matrix( model, X_test, y_test, values_format = 'd', display_labels = [ \"Not a Suicide\", \"Suicide\" ] )"
   ]
  },
  {
   "cell_type": "markdown",
   "id": "identical-commons",
   "metadata": {},
   "source": [
    "#### find optimal parameters for XGBoost classifier using cross validation (GridSearchCV)"
   ]
  },
  {
   "cell_type": "code",
   "execution_count": 9,
   "id": "innovative-graduation",
   "metadata": {},
   "outputs": [
    {
     "name": "stdout",
     "output_type": "stream",
     "text": [
      "Fitting 3 folds for each of 1080 candidates, totalling 3240 fits\n"
     ]
    },
    {
     "name": "stderr",
     "output_type": "stream",
     "text": [
      "[Parallel(n_jobs=10)]: Using backend LokyBackend with 10 concurrent workers.\n",
      "[Parallel(n_jobs=10)]: Done  21 tasks      | elapsed:    1.9s\n",
      "[Parallel(n_jobs=10)]: Done 142 tasks      | elapsed:    7.6s\n",
      "[Parallel(n_jobs=10)]: Done 345 tasks      | elapsed:   16.8s\n",
      "[Parallel(n_jobs=10)]: Done 628 tasks      | elapsed:   30.6s\n",
      "[Parallel(n_jobs=10)]: Done 993 tasks      | elapsed:   47.5s\n",
      "[Parallel(n_jobs=10)]: Done 1438 tasks      | elapsed:  1.2min\n",
      "[Parallel(n_jobs=10)]: Done 1965 tasks      | elapsed:  1.7min\n",
      "[Parallel(n_jobs=10)]: Done 2572 tasks      | elapsed:  2.4min\n",
      "[Parallel(n_jobs=10)]: Done 3240 out of 3240 | elapsed:  3.1min finished\n"
     ]
    },
    {
     "name": "stdout",
     "output_type": "stream",
     "text": [
      "params: {'colsample_bytree': 1.0, 'gamma': 0.3, 'learning_rate': 0.05, 'max_depth': 3, 'min_child_weight': 5, 'scale_pos_weight': 1}\n",
      "\n",
      " score: 0.738581078027996\n",
      "Accuracy: 0.6737327188940092\n"
     ]
    },
    {
     "data": {
      "text/plain": [
       "<sklearn.metrics._plot.confusion_matrix.ConfusionMatrixDisplay at 0x2d6958185c8>"
      ]
     },
     "execution_count": 9,
     "metadata": {},
     "output_type": "execute_result"
    },
    {
     "data": {
      "image/png": "[encoded data removed]",
      "text/plain": [
       "<Figure size 432x288 with 2 Axes>"
      ]
     },
     "metadata": {
      "needs_background": "light"
     },
     "output_type": "display_data"
    }
   ],
   "source": [
    "# round 1\n",
    "param_grid = {\n",
    "    'max_depth' : range( 3, 10, 2 ),\n",
    "    \"learning_rate\" : [ 0.1, 0.01, 0.05 ],\n",
    "    'gamma' : [ i / 10.0 for i in range( 0, 5 ) ],\n",
    "    'min_child_weight' : range( 1, 6, 2 ),\n",
    "    \"colsample_bytree\" : [ 0.5, 0.9, 1.0 ],\n",
    "    \"scale_pos_weight\" : [ 0.7, 1 ]\n",
    "}\n",
    "optimal_params = GridSearchCV(\n",
    "    estimator = XGBClassifier( objective = 'binary:logistic', seed = 42, \n",
    "    subsample = 0.9, colsample_bytree = 0.5 ),\n",
    "    param_grid = param_grid, scoring = 'roc_auc',\n",
    "    verbose = 2,\n",
    "    n_jobs = 10,\n",
    "    cv = 3\n",
    ")\n",
    "\n",
    "optimal_params.fit( X_train, y_train,\n",
    "    early_stopping_rounds = 25,\n",
    "    eval_metric = 'auc',\n",
    "    eval_set = [ ( X_test, y_test ) ],\n",
    "    verbose = False\n",
    ")\n",
    "\n",
    "model = optimal_params.best_estimator_\n",
    "print( \"params: {0}\\n\\n score: {1}\".format( optimal_params.best_params_, optimal_params.best_score_ ) )\n",
    "# print( fetch_feature_importance( data_, model.feature_importances_ ) )\n",
    "scores[ 'cv_1' ] = accuracy_score( y_test, model.predict( X_test ) )\n",
    "training_scores[ 'cv_1' ] = accuracy_score( y_train, model.predict( X_train ) )\n",
    "print( \"Accuracy: {0}\".format( scores[ 'cv_1' ] ) )\n",
    "plot_confusion_matrix( model, X_test, y_test, values_format = 'd', display_labels = [ \"Not a Suicide\", \"Suicide\" ] )"
   ]
  },
  {
   "cell_type": "code",
   "execution_count": 10,
   "id": "naval-passion",
   "metadata": {},
   "outputs": [
    {
     "data": {
      "text/markdown": [
       "the model filters below attributes to be not useful, and having zero importance towards the outcome variable : \n",
       "'Hhnum_10', 'Hhnum_11', 'Hhnum_12', 'Hhnum_13', 'Hhnum_14', 'Hhnum_16', 'Hhnum_6', 'Hhnum_8', 'Hhnum_9', 'Majind_1', 'Majind_10', 'Majind_13', 'Majind_14', 'Majind_2', 'Majind_3', 'Majind_5', 'Majind_7', 'Majocc_11', 'Majocc_6', 'Majocc_7', 'Majocc_8', 'Majocc_9', 'Pob_A_country_in_Central_America', 'Pob_A_country_in_Eastern_Europe', 'Pob_A_country_in_Western_Europe', 'Pob_A_country_not_on_a_continent_(identified_as_an_island)', 'Pob_A_country_on_South_America_Continent', 'Pob_African_Continent', 'Pob_Asian_Continent_', 'Pob_Elsewhere_but_not_in_the_US', 'Pob_Mexico', 'Pob_North_America_(Not_US_or_Mexico)', 'Pob_Not_in_the_US__PR__or_outlying_possession', 'Sex_2', 'Ssnyn_1', 'Stater_East_South_Central_Division', 'Stater_South_Atlantic_Division', 'Working_0', 'Working_1'"
      ],
      "text/plain": [
       "<IPython.core.display.Markdown object>"
      ]
     },
     "execution_count": 10,
     "metadata": {},
     "output_type": "execute_result"
    }
   ],
   "source": [
    "md(\n",
    "    \"\"\"the model filters below attributes to be not useful, and having zero importance towards the outcome variable : \\n'{0}'\"\"\".format( \n",
    "    \"', '\".join( np.setdiff1d( data_.columns, filter_data_for_imp_variables( data_, model.feature_importances_, output_column ).columns.tolist() ) )\n",
    ")\n",
    "  )"
   ]
  },
  {
   "cell_type": "code",
   "execution_count": 11,
   "id": "further-refund",
   "metadata": {},
   "outputs": [],
   "source": [
    "# filter out insignificant variables from the data \n",
    "data_ = filter_data_for_imp_variables( data_, model.feature_importances_, output_column )\n",
    "X_train, X_test, y_train, y_test = train_test_split( data_.drop( columns = [output_column] ), data_[ output_column ], test_size = 0.25, random_state = 42, stratify = data_[ output_column ] )"
   ]
  },
  {
   "cell_type": "markdown",
   "id": "moderate-being",
   "metadata": {},
   "source": [
    "#### perform a second round of cross validation to find optimal parameters\n",
    "this time, the operation is baselined on the optimal parameters observed in first round"
   ]
  },
  {
   "cell_type": "code",
   "execution_count": 12,
   "id": "foster-joseph",
   "metadata": {},
   "outputs": [
    {
     "name": "stdout",
     "output_type": "stream",
     "text": [
      "Fitting 3 folds for each of 2000 candidates, totalling 6000 fits\n"
     ]
    },
    {
     "name": "stderr",
     "output_type": "stream",
     "text": [
      "[Parallel(n_jobs=10)]: Using backend LokyBackend with 10 concurrent workers.\n",
      "[Parallel(n_jobs=10)]: Done  22 tasks      | elapsed:    0.4s\n",
      "[Parallel(n_jobs=10)]: Done 264 tasks      | elapsed:    6.5s\n",
      "[Parallel(n_jobs=10)]: Done 670 tasks      | elapsed:   16.2s\n",
      "[Parallel(n_jobs=10)]: Done 1236 tasks      | elapsed:   30.9s\n",
      "[Parallel(n_jobs=10)]: Done 1966 tasks      | elapsed:   50.8s\n",
      "[Parallel(n_jobs=10)]: Done 2856 tasks      | elapsed:  1.3min\n",
      "[Parallel(n_jobs=10)]: Done 3910 tasks      | elapsed:  1.8min\n",
      "[Parallel(n_jobs=10)]: Done 5022 tasks      | elapsed:  2.4min\n",
      "[Parallel(n_jobs=10)]: Done 5711 tasks      | elapsed:  2.8min\n",
      "[Parallel(n_jobs=10)]: Done 6000 out of 6000 | elapsed:  3.0min finished\n"
     ]
    },
    {
     "name": "stdout",
     "output_type": "stream",
     "text": [
      "{'colsample_bytree': 0.5, 'gamma': 0.15, 'learning_rate': 0.09, 'max_depth': 4, 'min_child_weight': 2}\n",
      "Accuracy: 0.6645161290322581\n"
     ]
    },
    {
     "data": {
      "text/plain": [
       "<sklearn.metrics._plot.confusion_matrix.ConfusionMatrixDisplay at 0x2d6f1e71608>"
      ]
     },
     "execution_count": 12,
     "metadata": {},
     "output_type": "execute_result"
    },
    {
     "data": {
      "image/png": "[encoded data removed]",
      "text/plain": [
       "<Figure size 432x288 with 2 Axes>"
      ]
     },
     "metadata": {
      "needs_background": "light"
     },
     "output_type": "display_data"
    }
   ],
   "source": [
    "# round 2\n",
    "param_grid = {\n",
    "    \"max_depth\" : [ 4, 6, 7, 8, 10 ],\n",
    "    \"learning_rate\" : [ 0.01, 0.05, 0.075, 0.08, 0.09 ],\n",
    "    \"gamma\" : [ 0, 0.1, 0.15, 0.25 ],\n",
    "    \"min_child_weight\" : [ 2, 3, 4, 6 ],\n",
    "    \"colsample_bytree\" : [ 0.5, 0.6, 0.75, 0.9, 1 ]\n",
    "}\n",
    "\n",
    "optimal_params = GridSearchCV(\n",
    "    estimator = XGBClassifier( objective = 'binary:logistic', seed = 42, \n",
    "    subsample = 0.9, colsample_bytree = 0.5 ),\n",
    "    param_grid = param_grid, scoring = 'roc_auc',\n",
    "    verbose = 2,\n",
    "    n_jobs = 10,\n",
    "    cv = 3\n",
    ")\n",
    "\n",
    "optimal_params.fit( X_train, y_train,\n",
    "    early_stopping_rounds = 25,\n",
    "    eval_metric = 'auc',\n",
    "    eval_set = [ ( X_test, y_test ) ],\n",
    "    verbose = False\n",
    ")\n",
    "\n",
    "model = optimal_params.best_estimator_\n",
    "print( optimal_params.best_params_ )\n",
    "# print( fetch_feature_importance( data_, model.feature_importances_ ) )\n",
    "scores[ 'cv_2' ] = accuracy_score( y_test, model.predict( X_test ) )\n",
    "print( \"Accuracy: {0}\".format( scores[ 'cv_2' ] ) )\n",
    "plot_confusion_matrix( model, X_test, y_test, values_format = 'd', display_labels = [ \"Not a Suicide\", \"Suicide\" ] )"
   ]
  },
  {
   "cell_type": "markdown",
   "id": "sporting-weekend",
   "metadata": {},
   "source": [
    "#### the second iteration has helped increase True positives, decrease False negatives- which is a good thing.\n",
    "The False positives have increased, but it is not very critical because suspecting a person who might commit Suicide, but is not going to- is less harmful than the opposite case"
   ]
  },
  {
   "cell_type": "code",
   "execution_count": 13,
   "id": "external-involvement",
   "metadata": {},
   "outputs": [
    {
     "data": {
      "text/markdown": [
       "the model filters below attributes to be not useful, and having zero importance towards the outcome variable : \n",
       "''"
      ],
      "text/plain": [
       "<IPython.core.display.Markdown object>"
      ]
     },
     "execution_count": 13,
     "metadata": {},
     "output_type": "execute_result"
    }
   ],
   "source": [
    "md(\n",
    "    \"\"\"the model filters below attributes to be not useful, and having zero importance towards the outcome variable : \\n'{0}'\"\"\".format( \n",
    "    \"', '\".join( np.setdiff1d( data_.columns, filter_data_for_imp_variables( data_, model.feature_importances_, output_column ).columns.tolist() ) )\n",
    ")\n",
    "  )"
   ]
  },
  {
   "cell_type": "markdown",
   "id": "mounted-knight",
   "metadata": {},
   "source": [
    "#### we again filter the data for these attributes"
   ]
  },
  {
   "cell_type": "code",
   "execution_count": 14,
   "id": "owned-culture",
   "metadata": {},
   "outputs": [],
   "source": [
    "data_ = filter_data_for_imp_variables( data_, model.feature_importances_, output_column )\n",
    "X_train, X_test, y_train, y_test = train_test_split( data_.drop( columns = [output_column] ), data_[ output_column ], test_size = 0.25, random_state = 42, stratify = data_[ output_column ] )"
   ]
  },
  {
   "cell_type": "code",
   "execution_count": 15,
   "id": "constitutional-postage",
   "metadata": {},
   "outputs": [
    {
     "name": "stdout",
     "output_type": "stream",
     "text": [
      "[0]\tvalidation_0-aucpr:0.67270\n",
      "Will train until validation_0-aucpr hasn't improved in 10 rounds.\n"
     ]
    }
   ],
   "source": [
    "# train with 1 estimator to plot the tree\n",
    "xgb_model = XGBClassifier( \n",
    "    objective = 'binary:logistic',\n",
    "    seed = 42,\n",
    "    missing = None,\n",
    "    gamma = 0.1,\n",
    "    learning_rate = 0.09,\n",
    "    max_depth = 4,\n",
    "    reg_lambda = 0,\n",
    "    scale_pos_weight = 1,\n",
    "    n_estimators = 1, min_child_weight = 2,\n",
    "    colsample_bytree = 0.6,\n",
    "    subsample = 0.9\n",
    ")\n",
    "xgb_model.fit( \n",
    "    X_train, y_train, \n",
    "    verbose = True, early_stopping_rounds = 10, eval_metric = 'aucpr',\n",
    "    eval_set = [ ( X_test, y_test ) ]\n",
    ")\n",
    "\n",
    "scores[ 'single_estimator_from_best' ] = accuracy_score( y_test, xgb_model.predict( X_test ) )\n",
    "training_scores[ 'single_estimator_from_best' ] = accuracy_score( y_train, xgb_model.predict( X_train ) )"
   ]
  },
  {
   "cell_type": "code",
   "execution_count": 16,
   "id": "nearby-thunder",
   "metadata": {},
   "outputs": [
    {
     "data": {
      "text/plain": [
       "'output\\\\xgboost_viz.pdf'"
      ]
     },
     "execution_count": 16,
     "metadata": {},
     "output_type": "execute_result"
    }
   ],
   "source": [
    "from xgboost import to_graphviz\n",
    "\n",
    "\n",
    "node_params = {\n",
    "    \"shape\" : \"box\",\n",
    "    \"style\" : \"filled, rounded\",\n",
    "    \"fillcolor\" : \"#78cbe\"\n",
    "}\n",
    "\n",
    "leaf_params = {\n",
    "    \"shape\" : \"box\",\n",
    "    \"style\" : \"filled\",\n",
    "    \"fillcolor\" : \"#e48038\"\n",
    "}\n",
    "\n",
    "\n",
    "to_graphviz(\n",
    "    model, num_trees = 0, size = \"10,10\",\n",
    "    condition_node_params = node_params,\n",
    "    leaf_node_params = leaf_params\n",
    ")\n",
    "\n",
    "\n",
    "xg_viz = to_graphviz(\n",
    "    model, num_trees = 0, size = \"10,10\",\n",
    "    condition_node_params = node_params,\n",
    "    leaf_node_params = leaf_params\n",
    ")\n",
    "xg_viz.render( \"xgboost_viz\", \"output\", format = 'pdf' )"
   ]
  },
  {
   "cell_type": "code",
   "execution_count": 17,
   "id": "electrical-stocks",
   "metadata": {},
   "outputs": [
    {
     "data": {
      "image/svg+xml": [
       "<?xml version=\"1.0\" encoding=\"UTF-8\" standalone=\"no\"?>\r\n",
       "<!DOCTYPE svg PUBLIC \"-//W3C//DTD SVG 1.1//EN\"\r\n",
       " \"http://www.w3.org/Graphics/SVG/1.1/DTD/svg11.dtd\">\r\n",
       "<!-- Generated by graphviz version 2.47.0 (20210316.0004)\r\n",
       " -->\r\n",
       "<!-- Pages: 1 -->\r\n",
       "<svg width=\"2262pt\" height=\"392pt\"\r\n",
       " viewBox=\"0.00 0.00 2262.00 392.00\" xmlns=\"http://www.w3.org/2000/svg\" xmlns:xlink=\"http://www.w3.org/1999/xlink\">\r\n",
       "<g id=\"graph0\" class=\"graph\" transform=\"scale(1 1) rotate(0) translate(4 388)\">\r\n",
       "<polygon fill=\"white\" stroke=\"transparent\" points=\"-4,4 -4,-388 2258,-388 2258,4 -4,4\"/>\r\n",
       "<!-- 0 -->\r\n",
       "<g id=\"node1\" class=\"node\">\r\n",
       "<title>0</title>\r\n",
       "<path fill=\"#78cb0e\" stroke=\"black\" d=\"M1152,-384C1152,-384 1099,-384 1099,-384 1093,-384 1087,-378 1087,-372 1087,-372 1087,-360 1087,-360 1087,-354 1093,-348 1099,-348 1099,-348 1152,-348 1152,-348 1158,-348 1164,-354 1164,-360 1164,-360 1164,-372 1164,-372 1164,-378 1158,-384 1152,-384\"/>\r\n",
       "<text text-anchor=\"middle\" x=\"1125.5\" y=\"-362.3\" font-family=\"Times New Roman,serif\" font-size=\"14.00\">Sex_1&lt;0.5</text>\r\n",
       "</g>\r\n",
       "<!-- 1 -->\r\n",
       "<g id=\"node2\" class=\"node\">\r\n",
       "<title>1</title>\r\n",
       "<path fill=\"#78cb0e\" stroke=\"black\" d=\"M831,-297C831,-297 764,-297 764,-297 758,-297 752,-291 752,-285 752,-285 752,-273 752,-273 752,-267 758,-261 764,-261 764,-261 831,-261 831,-261 837,-261 843,-267 843,-273 843,-273 843,-285 843,-285 843,-291 837,-297 831,-297\"/>\r\n",
       "<text text-anchor=\"middle\" x=\"797.5\" y=\"-275.3\" font-family=\"Times New Roman,serif\" font-size=\"14.00\">Ssnyn_0&lt;0.5</text>\r\n",
       "</g>\r\n",
       "<!-- 0&#45;&gt;1 -->\r\n",
       "<g id=\"edge1\" class=\"edge\">\r\n",
       "<title>0&#45;&gt;1</title>\r\n",
       "<path fill=\"none\" stroke=\"#0000ff\" d=\"M1086.91,-355C1029,-339.99 919.36,-311.58 852.91,-294.36\"/>\r\n",
       "<polygon fill=\"#0000ff\" stroke=\"#0000ff\" points=\"853.59,-290.92 843.03,-291.8 851.83,-297.7 853.59,-290.92\"/>\r\n",
       "<text text-anchor=\"middle\" x=\"1016\" y=\"-318.8\" font-family=\"Times New Roman,serif\" font-size=\"14.00\">yes, missing</text>\r\n",
       "</g>\r\n",
       "<!-- 2 -->\r\n",
       "<g id=\"node3\" class=\"node\">\r\n",
       "<title>2</title>\r\n",
       "<path fill=\"#78cb0e\" stroke=\"black\" d=\"M1451,-297C1451,-297 1384,-297 1384,-297 1378,-297 1372,-291 1372,-285 1372,-285 1372,-273 1372,-273 1372,-267 1378,-261 1384,-261 1384,-261 1451,-261 1451,-261 1457,-261 1463,-267 1463,-273 1463,-273 1463,-285 1463,-285 1463,-291 1457,-297 1451,-297\"/>\r\n",
       "<text text-anchor=\"middle\" x=\"1417.5\" y=\"-275.3\" font-family=\"Times New Roman,serif\" font-size=\"14.00\">Ssnyn_0&lt;0.5</text>\r\n",
       "</g>\r\n",
       "<!-- 0&#45;&gt;2 -->\r\n",
       "<g id=\"edge2\" class=\"edge\">\r\n",
       "<title>0&#45;&gt;2</title>\r\n",
       "<path fill=\"none\" stroke=\"#ff0000\" d=\"M1164.28,-353.71C1215.02,-338.94 1304.27,-312.96 1362.12,-296.12\"/>\r\n",
       "<polygon fill=\"#ff0000\" stroke=\"#ff0000\" points=\"1363.21,-299.45 1371.83,-293.29 1361.25,-292.73 1363.21,-299.45\"/>\r\n",
       "<text text-anchor=\"middle\" x=\"1297\" y=\"-318.8\" font-family=\"Times New Roman,serif\" font-size=\"14.00\">no</text>\r\n",
       "</g>\r\n",
       "<!-- 3 -->\r\n",
       "<g id=\"node4\" class=\"node\">\r\n",
       "<title>3</title>\r\n",
       "<path fill=\"#78cb0e\" stroke=\"black\" d=\"M500,-210C500,-210 417,-210 417,-210 411,-210 405,-204 405,-198 405,-198 405,-186 405,-186 405,-180 411,-174 417,-174 417,-174 500,-174 500,-174 506,-174 512,-180 512,-186 512,-186 512,-198 512,-198 512,-204 506,-210 500,-210\"/>\r\n",
       "<text text-anchor=\"middle\" x=\"458.5\" y=\"-188.3\" font-family=\"Times New Roman,serif\" font-size=\"14.00\">Age_31_59&lt;0.5</text>\r\n",
       "</g>\r\n",
       "<!-- 1&#45;&gt;3 -->\r\n",
       "<g id=\"edge3\" class=\"edge\">\r\n",
       "<title>1&#45;&gt;3</title>\r\n",
       "<path fill=\"none\" stroke=\"#0000ff\" d=\"M751.78,-266.54C692.56,-251.69 589.01,-225.72 522.14,-208.96\"/>\r\n",
       "<polygon fill=\"#0000ff\" stroke=\"#0000ff\" points=\"522.69,-205.49 512.14,-206.45 520.99,-212.28 522.69,-205.49\"/>\r\n",
       "<text text-anchor=\"middle\" x=\"683\" y=\"-231.8\" font-family=\"Times New Roman,serif\" font-size=\"14.00\">yes, missing</text>\r\n",
       "</g>\r\n",
       "<!-- 4 -->\r\n",
       "<g id=\"node5\" class=\"node\">\r\n",
       "<title>4</title>\r\n",
       "<path fill=\"#78cb0e\" stroke=\"black\" d=\"M839,-210C839,-210 756,-210 756,-210 750,-210 744,-204 744,-198 744,-198 744,-186 744,-186 744,-180 750,-174 756,-174 756,-174 839,-174 839,-174 845,-174 851,-180 851,-186 851,-186 851,-198 851,-198 851,-204 845,-210 839,-210\"/>\r\n",
       "<text text-anchor=\"middle\" x=\"797.5\" y=\"-188.3\" font-family=\"Times New Roman,serif\" font-size=\"14.00\">Age_31_59&lt;0.5</text>\r\n",
       "</g>\r\n",
       "<!-- 1&#45;&gt;4 -->\r\n",
       "<g id=\"edge4\" class=\"edge\">\r\n",
       "<title>1&#45;&gt;4</title>\r\n",
       "<path fill=\"none\" stroke=\"#ff0000\" d=\"M797.5,-260.8C797.5,-249.16 797.5,-233.55 797.5,-220.24\"/>\r\n",
       "<polygon fill=\"#ff0000\" stroke=\"#ff0000\" points=\"801,-220.18 797.5,-210.18 794,-220.18 801,-220.18\"/>\r\n",
       "<text text-anchor=\"middle\" x=\"805\" y=\"-231.8\" font-family=\"Times New Roman,serif\" font-size=\"14.00\">no</text>\r\n",
       "</g>\r\n",
       "<!-- 5 -->\r\n",
       "<g id=\"node18\" class=\"node\">\r\n",
       "<title>5</title>\r\n",
       "<path fill=\"#78cb0e\" stroke=\"black\" d=\"M1454,-210C1454,-210 1381,-210 1381,-210 1375,-210 1369,-204 1369,-198 1369,-198 1369,-186 1369,-186 1369,-180 1375,-174 1381,-174 1381,-174 1454,-174 1454,-174 1460,-174 1466,-180 1466,-186 1466,-186 1466,-198 1466,-198 1466,-204 1460,-210 1454,-210\"/>\r\n",
       "<text text-anchor=\"middle\" x=\"1417.5\" y=\"-188.3\" font-family=\"Times New Roman,serif\" font-size=\"14.00\">Hhnum_2&lt;0.5</text>\r\n",
       "</g>\r\n",
       "<!-- 2&#45;&gt;5 -->\r\n",
       "<g id=\"edge17\" class=\"edge\">\r\n",
       "<title>2&#45;&gt;5</title>\r\n",
       "<path fill=\"none\" stroke=\"#0000ff\" d=\"M1417.5,-260.8C1417.5,-249.16 1417.5,-233.55 1417.5,-220.24\"/>\r\n",
       "<polygon fill=\"#0000ff\" stroke=\"#0000ff\" points=\"1421,-220.18 1417.5,-210.18 1414,-220.18 1421,-220.18\"/>\r\n",
       "<text text-anchor=\"middle\" x=\"1452\" y=\"-231.8\" font-family=\"Times New Roman,serif\" font-size=\"14.00\">yes, missing</text>\r\n",
       "</g>\r\n",
       "<!-- 6 -->\r\n",
       "<g id=\"node19\" class=\"node\">\r\n",
       "<title>6</title>\r\n",
       "<path fill=\"#78cb0e\" stroke=\"black\" d=\"M1849,-210C1849,-210 1776,-210 1776,-210 1770,-210 1764,-204 1764,-198 1764,-198 1764,-186 1764,-186 1764,-180 1770,-174 1776,-174 1776,-174 1849,-174 1849,-174 1855,-174 1861,-180 1861,-186 1861,-186 1861,-198 1861,-198 1861,-204 1855,-210 1849,-210\"/>\r\n",
       "<text text-anchor=\"middle\" x=\"1812.5\" y=\"-188.3\" font-family=\"Times New Roman,serif\" font-size=\"14.00\">Hhnum_2&lt;0.5</text>\r\n",
       "</g>\r\n",
       "<!-- 2&#45;&gt;6 -->\r\n",
       "<g id=\"edge18\" class=\"edge\">\r\n",
       "<title>2&#45;&gt;6</title>\r\n",
       "<path fill=\"none\" stroke=\"#ff0000\" d=\"M1463.2,-268.17C1535.16,-252.68 1674.82,-222.63 1754.01,-205.59\"/>\r\n",
       "<polygon fill=\"#ff0000\" stroke=\"#ff0000\" points=\"1754.79,-209 1763.83,-203.47 1753.31,-202.16 1754.79,-209\"/>\r\n",
       "<text text-anchor=\"middle\" x=\"1647\" y=\"-231.8\" font-family=\"Times New Roman,serif\" font-size=\"14.00\">no</text>\r\n",
       "</g>\r\n",
       "<!-- 7 -->\r\n",
       "<g id=\"node6\" class=\"node\">\r\n",
       "<title>7</title>\r\n",
       "<path fill=\"#78cb0e\" stroke=\"black\" d=\"M322.5,-123C322.5,-123 94.5,-123 94.5,-123 88.5,-123 82.5,-117 82.5,-111 82.5,-111 82.5,-99 82.5,-99 82.5,-93 88.5,-87 94.5,-87 94.5,-87 322.5,-87 322.5,-87 328.5,-87 334.5,-93 334.5,-99 334.5,-99 334.5,-111 334.5,-111 334.5,-117 328.5,-123 322.5,-123\"/>\r\n",
       "<text text-anchor=\"middle\" x=\"208.5\" y=\"-101.3\" font-family=\"Times New Roman,serif\" font-size=\"14.00\">Stater_West_South_Central_Division&lt;0.5</text>\r\n",
       "</g>\r\n",
       "<!-- 3&#45;&gt;7 -->\r\n",
       "<g id=\"edge5\" class=\"edge\">\r\n",
       "<title>3&#45;&gt;7</title>\r\n",
       "<path fill=\"none\" stroke=\"#0000ff\" d=\"M408.21,-173.9C367.86,-160.18 311.12,-140.89 268.42,-126.37\"/>\r\n",
       "<polygon fill=\"#0000ff\" stroke=\"#0000ff\" points=\"269.3,-122.98 258.71,-123.07 267.05,-129.6 269.3,-122.98\"/>\r\n",
       "<text text-anchor=\"middle\" x=\"383\" y=\"-144.8\" font-family=\"Times New Roman,serif\" font-size=\"14.00\">yes, missing</text>\r\n",
       "</g>\r\n",
       "<!-- 8 -->\r\n",
       "<g id=\"node7\" class=\"node\">\r\n",
       "<title>8</title>\r\n",
       "<path fill=\"#78cb0e\" stroke=\"black\" d=\"M495,-123C495,-123 422,-123 422,-123 416,-123 410,-117 410,-111 410,-111 410,-99 410,-99 410,-93 416,-87 422,-87 422,-87 495,-87 495,-87 501,-87 507,-93 507,-99 507,-99 507,-111 507,-111 507,-117 501,-123 495,-123\"/>\r\n",
       "<text text-anchor=\"middle\" x=\"458.5\" y=\"-101.3\" font-family=\"Times New Roman,serif\" font-size=\"14.00\">Hhnum_2&lt;0.5</text>\r\n",
       "</g>\r\n",
       "<!-- 3&#45;&gt;8 -->\r\n",
       "<g id=\"edge6\" class=\"edge\">\r\n",
       "<title>3&#45;&gt;8</title>\r\n",
       "<path fill=\"none\" stroke=\"#ff0000\" d=\"M458.5,-173.8C458.5,-162.16 458.5,-146.55 458.5,-133.24\"/>\r\n",
       "<polygon fill=\"#ff0000\" stroke=\"#ff0000\" points=\"462,-133.18 458.5,-123.18 455,-133.18 462,-133.18\"/>\r\n",
       "<text text-anchor=\"middle\" x=\"466\" y=\"-144.8\" font-family=\"Times New Roman,serif\" font-size=\"14.00\">no</text>\r\n",
       "</g>\r\n",
       "<!-- 9 -->\r\n",
       "<g id=\"node12\" class=\"node\">\r\n",
       "<title>9</title>\r\n",
       "<path fill=\"#78cb0e\" stroke=\"black\" d=\"M806,-123C806,-123 579,-123 579,-123 573,-123 567,-117 567,-111 567,-111 567,-99 567,-99 567,-93 573,-87 579,-87 579,-87 806,-87 806,-87 812,-87 818,-93 818,-99 818,-99 818,-111 818,-111 818,-117 812,-123 806,-123\"/>\r\n",
       "<text text-anchor=\"middle\" x=\"692.5\" y=\"-101.3\" font-family=\"Times New Roman,serif\" font-size=\"14.00\">Stater_West_North_Central_Division&lt;0.5</text>\r\n",
       "</g>\r\n",
       "<!-- 4&#45;&gt;9 -->\r\n",
       "<g id=\"edge11\" class=\"edge\">\r\n",
       "<title>4&#45;&gt;9</title>\r\n",
       "<path fill=\"none\" stroke=\"#0000ff\" d=\"M776.25,-173.8C760.6,-161.13 739.11,-143.73 721.82,-129.74\"/>\r\n",
       "<polygon fill=\"#0000ff\" stroke=\"#0000ff\" points=\"723.69,-126.75 713.72,-123.18 719.29,-132.19 723.69,-126.75\"/>\r\n",
       "<text text-anchor=\"middle\" x=\"786\" y=\"-144.8\" font-family=\"Times New Roman,serif\" font-size=\"14.00\">yes, missing</text>\r\n",
       "</g>\r\n",
       "<!-- 10 -->\r\n",
       "<g id=\"node13\" class=\"node\">\r\n",
       "<title>10</title>\r\n",
       "<path fill=\"#78cb0e\" stroke=\"black\" d=\"M1070.5,-123C1070.5,-123 848.5,-123 848.5,-123 842.5,-123 836.5,-117 836.5,-111 836.5,-111 836.5,-99 836.5,-99 836.5,-93 842.5,-87 848.5,-87 848.5,-87 1070.5,-87 1070.5,-87 1076.5,-87 1082.5,-93 1082.5,-99 1082.5,-99 1082.5,-111 1082.5,-111 1082.5,-117 1076.5,-123 1070.5,-123\"/>\r\n",
       "<text text-anchor=\"middle\" x=\"959.5\" y=\"-101.3\" font-family=\"Times New Roman,serif\" font-size=\"14.00\">Stater_East_North_Central_Division&lt;0.5</text>\r\n",
       "</g>\r\n",
       "<!-- 4&#45;&gt;10 -->\r\n",
       "<g id=\"edge12\" class=\"edge\">\r\n",
       "<title>4&#45;&gt;10</title>\r\n",
       "<path fill=\"none\" stroke=\"#ff0000\" d=\"M830.28,-173.8C855.62,-160.51 890.85,-142.02 918.12,-127.71\"/>\r\n",
       "<polygon fill=\"#ff0000\" stroke=\"#ff0000\" points=\"919.81,-130.78 927.04,-123.03 916.56,-124.58 919.81,-130.78\"/>\r\n",
       "<text text-anchor=\"middle\" x=\"896\" y=\"-144.8\" font-family=\"Times New Roman,serif\" font-size=\"14.00\">no</text>\r\n",
       "</g>\r\n",
       "<!-- 15 -->\r\n",
       "<g id=\"node8\" class=\"node\">\r\n",
       "<title>15</title>\r\n",
       "<polygon fill=\"#e48038\" stroke=\"black\" points=\"127,-36 0,-36 0,0 127,0 127,-36\"/>\r\n",
       "<text text-anchor=\"middle\" x=\"63.5\" y=\"-14.3\" font-family=\"Times New Roman,serif\" font-size=\"14.00\">leaf=&#45;0.0858139545</text>\r\n",
       "</g>\r\n",
       "<!-- 7&#45;&gt;15 -->\r\n",
       "<g id=\"edge7\" class=\"edge\">\r\n",
       "<title>7&#45;&gt;15</title>\r\n",
       "<path fill=\"none\" stroke=\"#0000ff\" d=\"M170.01,-86.96C158.7,-81.58 146.43,-75.36 135.5,-69 121.61,-60.92 106.92,-50.99 94.46,-42.12\"/>\r\n",
       "<polygon fill=\"#0000ff\" stroke=\"#0000ff\" points=\"96.39,-39.19 86.23,-36.18 92.29,-44.87 96.39,-39.19\"/>\r\n",
       "<text text-anchor=\"middle\" x=\"170\" y=\"-57.8\" font-family=\"Times New Roman,serif\" font-size=\"14.00\">yes, missing</text>\r\n",
       "</g>\r\n",
       "<!-- 16 -->\r\n",
       "<g id=\"node9\" class=\"node\">\r\n",
       "<title>16</title>\r\n",
       "<polygon fill=\"#e48038\" stroke=\"black\" points=\"272,-36 145,-36 145,0 272,0 272,-36\"/>\r\n",
       "<text text-anchor=\"middle\" x=\"208.5\" y=\"-14.3\" font-family=\"Times New Roman,serif\" font-size=\"14.00\">leaf=&#45;0.0138461553</text>\r\n",
       "</g>\r\n",
       "<!-- 7&#45;&gt;16 -->\r\n",
       "<g id=\"edge8\" class=\"edge\">\r\n",
       "<title>7&#45;&gt;16</title>\r\n",
       "<path fill=\"none\" stroke=\"#ff0000\" d=\"M208.5,-86.8C208.5,-75.16 208.5,-59.55 208.5,-46.24\"/>\r\n",
       "<polygon fill=\"#ff0000\" stroke=\"#ff0000\" points=\"212,-46.18 208.5,-36.18 205,-46.18 212,-46.18\"/>\r\n",
       "<text text-anchor=\"middle\" x=\"216\" y=\"-57.8\" font-family=\"Times New Roman,serif\" font-size=\"14.00\">no</text>\r\n",
       "</g>\r\n",
       "<!-- 17 -->\r\n",
       "<g id=\"node10\" class=\"node\">\r\n",
       "<title>17</title>\r\n",
       "<polygon fill=\"#e48038\" stroke=\"black\" points=\"417,-36 290,-36 290,0 417,0 417,-36\"/>\r\n",
       "<text text-anchor=\"middle\" x=\"353.5\" y=\"-14.3\" font-family=\"Times New Roman,serif\" font-size=\"14.00\">leaf=&#45;0.0638247058</text>\r\n",
       "</g>\r\n",
       "<!-- 8&#45;&gt;17 -->\r\n",
       "<g id=\"edge9\" class=\"edge\">\r\n",
       "<title>8&#45;&gt;17</title>\r\n",
       "<path fill=\"none\" stroke=\"#0000ff\" d=\"M429.14,-86.98C420.6,-81.59 411.45,-75.37 403.5,-69 393.97,-61.35 384.29,-52.1 376.02,-43.63\"/>\r\n",
       "<polygon fill=\"#0000ff\" stroke=\"#0000ff\" points=\"378.31,-40.96 368.87,-36.16 373.25,-45.8 378.31,-40.96\"/>\r\n",
       "<text text-anchor=\"middle\" x=\"438\" y=\"-57.8\" font-family=\"Times New Roman,serif\" font-size=\"14.00\">yes, missing</text>\r\n",
       "</g>\r\n",
       "<!-- 18 -->\r\n",
       "<g id=\"node11\" class=\"node\">\r\n",
       "<title>18</title>\r\n",
       "<polygon fill=\"#e48038\" stroke=\"black\" points=\"562,-36 435,-36 435,0 562,0 562,-36\"/>\r\n",
       "<text text-anchor=\"middle\" x=\"498.5\" y=\"-14.3\" font-family=\"Times New Roman,serif\" font-size=\"14.00\">leaf=&#45;0.0075000003</text>\r\n",
       "</g>\r\n",
       "<!-- 8&#45;&gt;18 -->\r\n",
       "<g id=\"edge10\" class=\"edge\">\r\n",
       "<title>8&#45;&gt;18</title>\r\n",
       "<path fill=\"none\" stroke=\"#ff0000\" d=\"M466.59,-86.8C472.18,-74.93 479.71,-58.93 486.05,-45.45\"/>\r\n",
       "<polygon fill=\"#ff0000\" stroke=\"#ff0000\" points=\"489.33,-46.71 490.42,-36.18 482.99,-43.73 489.33,-46.71\"/>\r\n",
       "<text text-anchor=\"middle\" x=\"489\" y=\"-57.8\" font-family=\"Times New Roman,serif\" font-size=\"14.00\">no</text>\r\n",
       "</g>\r\n",
       "<!-- 19 -->\r\n",
       "<g id=\"node14\" class=\"node\">\r\n",
       "<title>19</title>\r\n",
       "<polygon fill=\"#e48038\" stroke=\"black\" points=\"693,-36 580,-36 580,0 693,0 693,-36\"/>\r\n",
       "<text text-anchor=\"middle\" x=\"636.5\" y=\"-14.3\" font-family=\"Times New Roman,serif\" font-size=\"14.00\">leaf=&#45;0.13457945</text>\r\n",
       "</g>\r\n",
       "<!-- 9&#45;&gt;19 -->\r\n",
       "<g id=\"edge13\" class=\"edge\">\r\n",
       "<title>9&#45;&gt;19</title>\r\n",
       "<path fill=\"none\" stroke=\"#0000ff\" d=\"M681.17,-86.8C673.2,-74.7 662.39,-58.3 653.41,-44.67\"/>\r\n",
       "<polygon fill=\"#0000ff\" stroke=\"#0000ff\" points=\"656.24,-42.6 647.82,-36.18 650.39,-46.45 656.24,-42.6\"/>\r\n",
       "<text text-anchor=\"middle\" x=\"703\" y=\"-57.8\" font-family=\"Times New Roman,serif\" font-size=\"14.00\">yes, missing</text>\r\n",
       "</g>\r\n",
       "<!-- 20 -->\r\n",
       "<g id=\"node15\" class=\"node\">\r\n",
       "<title>20</title>\r\n",
       "<polygon fill=\"#e48038\" stroke=\"black\" points=\"838,-36 711,-36 711,0 838,0 838,-36\"/>\r\n",
       "<text text-anchor=\"middle\" x=\"774.5\" y=\"-14.3\" font-family=\"Times New Roman,serif\" font-size=\"14.00\">leaf=&#45;0.0692307726</text>\r\n",
       "</g>\r\n",
       "<!-- 9&#45;&gt;20 -->\r\n",
       "<g id=\"edge14\" class=\"edge\">\r\n",
       "<title>9&#45;&gt;20</title>\r\n",
       "<path fill=\"none\" stroke=\"#ff0000\" d=\"M720.12,-86.94C727.51,-81.69 735.19,-75.55 741.5,-69 748.39,-61.85 754.73,-53.08 759.97,-44.89\"/>\r\n",
       "<polygon fill=\"#ff0000\" stroke=\"#ff0000\" points=\"762.97,-46.7 765.21,-36.34 757,-43.04 762.97,-46.7\"/>\r\n",
       "<text text-anchor=\"middle\" x=\"761\" y=\"-57.8\" font-family=\"Times New Roman,serif\" font-size=\"14.00\">no</text>\r\n",
       "</g>\r\n",
       "<!-- 21 -->\r\n",
       "<g id=\"node16\" class=\"node\">\r\n",
       "<title>21</title>\r\n",
       "<polygon fill=\"#e48038\" stroke=\"black\" points=\"983,-36 856,-36 856,0 983,0 983,-36\"/>\r\n",
       "<text text-anchor=\"middle\" x=\"919.5\" y=\"-14.3\" font-family=\"Times New Roman,serif\" font-size=\"14.00\">leaf=&#45;0.0800000057</text>\r\n",
       "</g>\r\n",
       "<!-- 10&#45;&gt;21 -->\r\n",
       "<g id=\"edge15\" class=\"edge\">\r\n",
       "<title>10&#45;&gt;21</title>\r\n",
       "<path fill=\"none\" stroke=\"#0000ff\" d=\"M951.41,-86.8C945.82,-74.93 938.29,-58.93 931.95,-45.45\"/>\r\n",
       "<polygon fill=\"#0000ff\" stroke=\"#0000ff\" points=\"935.01,-43.73 927.58,-36.18 928.67,-46.71 935.01,-43.73\"/>\r\n",
       "<text text-anchor=\"middle\" x=\"977\" y=\"-57.8\" font-family=\"Times New Roman,serif\" font-size=\"14.00\">yes, missing</text>\r\n",
       "</g>\r\n",
       "<!-- 22 -->\r\n",
       "<g id=\"node17\" class=\"node\">\r\n",
       "<title>22</title>\r\n",
       "<polygon fill=\"#e48038\" stroke=\"black\" points=\"1128,-36 1001,-36 1001,0 1128,0 1128,-36\"/>\r\n",
       "<text text-anchor=\"middle\" x=\"1064.5\" y=\"-14.3\" font-family=\"Times New Roman,serif\" font-size=\"14.00\">leaf=&#45;0.0360000022</text>\r\n",
       "</g>\r\n",
       "<!-- 10&#45;&gt;22 -->\r\n",
       "<g id=\"edge16\" class=\"edge\">\r\n",
       "<title>10&#45;&gt;22</title>\r\n",
       "<path fill=\"none\" stroke=\"#ff0000\" d=\"M989.75,-86.91C998.36,-81.57 1007.55,-75.39 1015.5,-69 1024.93,-61.42 1034.43,-52.18 1042.53,-43.71\"/>\r\n",
       "<polygon fill=\"#ff0000\" stroke=\"#ff0000\" points=\"1045.26,-45.92 1049.52,-36.22 1040.14,-41.14 1045.26,-45.92\"/>\r\n",
       "<text text-anchor=\"middle\" x=\"1039\" y=\"-57.8\" font-family=\"Times New Roman,serif\" font-size=\"14.00\">no</text>\r\n",
       "</g>\r\n",
       "<!-- 11 -->\r\n",
       "<g id=\"node20\" class=\"node\">\r\n",
       "<title>11</title>\r\n",
       "<path fill=\"#78cb0e\" stroke=\"black\" d=\"M1384.5,-123C1384.5,-123 1310.5,-123 1310.5,-123 1304.5,-123 1298.5,-117 1298.5,-111 1298.5,-111 1298.5,-99 1298.5,-99 1298.5,-93 1304.5,-87 1310.5,-87 1310.5,-87 1384.5,-87 1384.5,-87 1390.5,-87 1396.5,-93 1396.5,-99 1396.5,-99 1396.5,-111 1396.5,-111 1396.5,-117 1390.5,-123 1384.5,-123\"/>\r\n",
       "<text text-anchor=\"middle\" x=\"1347.5\" y=\"-101.3\" font-family=\"Times New Roman,serif\" font-size=\"14.00\">Majocc_1&lt;0.5</text>\r\n",
       "</g>\r\n",
       "<!-- 5&#45;&gt;11 -->\r\n",
       "<g id=\"edge19\" class=\"edge\">\r\n",
       "<title>5&#45;&gt;11</title>\r\n",
       "<path fill=\"none\" stroke=\"#0000ff\" d=\"M1391.46,-173.9C1384.75,-168.69 1377.9,-162.58 1372.5,-156 1366.81,-149.06 1361.97,-140.62 1358.11,-132.66\"/>\r\n",
       "<polygon fill=\"#0000ff\" stroke=\"#0000ff\" points=\"1361.2,-130.99 1353.89,-123.32 1354.82,-133.88 1361.2,-130.99\"/>\r\n",
       "<text text-anchor=\"middle\" x=\"1407\" y=\"-144.8\" font-family=\"Times New Roman,serif\" font-size=\"14.00\">yes, missing</text>\r\n",
       "</g>\r\n",
       "<!-- 12 -->\r\n",
       "<g id=\"node21\" class=\"node\">\r\n",
       "<title>12</title>\r\n",
       "<path fill=\"#78cb0e\" stroke=\"black\" d=\"M1523,-123C1523,-123 1452,-123 1452,-123 1446,-123 1440,-117 1440,-111 1440,-111 1440,-99 1440,-99 1440,-93 1446,-87 1452,-87 1452,-87 1523,-87 1523,-87 1529,-87 1535,-93 1535,-99 1535,-99 1535,-111 1535,-111 1535,-117 1529,-123 1523,-123\"/>\r\n",
       "<text text-anchor=\"middle\" x=\"1487.5\" y=\"-101.3\" font-family=\"Times New Roman,serif\" font-size=\"14.00\">Majind_4&lt;0.5</text>\r\n",
       "</g>\r\n",
       "<!-- 5&#45;&gt;12 -->\r\n",
       "<g id=\"edge20\" class=\"edge\">\r\n",
       "<title>5&#45;&gt;12</title>\r\n",
       "<path fill=\"none\" stroke=\"#ff0000\" d=\"M1431.67,-173.8C1441.72,-161.59 1455.39,-144.99 1466.68,-131.28\"/>\r\n",
       "<polygon fill=\"#ff0000\" stroke=\"#ff0000\" points=\"1469.7,-133.12 1473.36,-123.18 1464.3,-128.67 1469.7,-133.12\"/>\r\n",
       "<text text-anchor=\"middle\" x=\"1465\" y=\"-144.8\" font-family=\"Times New Roman,serif\" font-size=\"14.00\">no</text>\r\n",
       "</g>\r\n",
       "<!-- 13 -->\r\n",
       "<g id=\"node26\" class=\"node\">\r\n",
       "<title>13</title>\r\n",
       "<path fill=\"#78cb0e\" stroke=\"black\" d=\"M1851,-123C1851,-123 1774,-123 1774,-123 1768,-123 1762,-117 1762,-111 1762,-111 1762,-99 1762,-99 1762,-93 1768,-87 1774,-87 1774,-87 1851,-87 1851,-87 1857,-87 1863,-93 1863,-99 1863,-99 1863,-111 1863,-111 1863,-117 1857,-123 1851,-123\"/>\r\n",
       "<text text-anchor=\"middle\" x=\"1812.5\" y=\"-101.3\" font-family=\"Times New Roman,serif\" font-size=\"14.00\">Majind_11&lt;0.5</text>\r\n",
       "</g>\r\n",
       "<!-- 6&#45;&gt;13 -->\r\n",
       "<g id=\"edge25\" class=\"edge\">\r\n",
       "<title>6&#45;&gt;13</title>\r\n",
       "<path fill=\"none\" stroke=\"#0000ff\" d=\"M1812.5,-173.8C1812.5,-162.16 1812.5,-146.55 1812.5,-133.24\"/>\r\n",
       "<polygon fill=\"#0000ff\" stroke=\"#0000ff\" points=\"1816,-133.18 1812.5,-123.18 1809,-133.18 1816,-133.18\"/>\r\n",
       "<text text-anchor=\"middle\" x=\"1847\" y=\"-144.8\" font-family=\"Times New Roman,serif\" font-size=\"14.00\">yes, missing</text>\r\n",
       "</g>\r\n",
       "<!-- 14 -->\r\n",
       "<g id=\"node27\" class=\"node\">\r\n",
       "<title>14</title>\r\n",
       "<path fill=\"#78cb0e\" stroke=\"black\" d=\"M2111.5,-123C2111.5,-123 1983.5,-123 1983.5,-123 1977.5,-123 1971.5,-117 1971.5,-111 1971.5,-111 1971.5,-99 1971.5,-99 1971.5,-93 1977.5,-87 1983.5,-87 1983.5,-87 2111.5,-87 2111.5,-87 2117.5,-87 2123.5,-93 2123.5,-99 2123.5,-99 2123.5,-111 2123.5,-111 2123.5,-117 2117.5,-123 2111.5,-123\"/>\r\n",
       "<text text-anchor=\"middle\" x=\"2047.5\" y=\"-101.3\" font-family=\"Times New Roman,serif\" font-size=\"14.00\">Pob_Missing_POB&lt;0.5</text>\r\n",
       "</g>\r\n",
       "<!-- 6&#45;&gt;14 -->\r\n",
       "<g id=\"edge26\" class=\"edge\">\r\n",
       "<title>6&#45;&gt;14</title>\r\n",
       "<path fill=\"none\" stroke=\"#ff0000\" d=\"M1859.77,-173.9C1897.54,-160.24 1950.59,-141.05 1990.67,-126.56\"/>\r\n",
       "<polygon fill=\"#ff0000\" stroke=\"#ff0000\" points=\"1992.09,-129.76 2000.3,-123.07 1989.71,-123.18 1992.09,-129.76\"/>\r\n",
       "<text text-anchor=\"middle\" x=\"1952\" y=\"-144.8\" font-family=\"Times New Roman,serif\" font-size=\"14.00\">no</text>\r\n",
       "</g>\r\n",
       "<!-- 23 -->\r\n",
       "<g id=\"node22\" class=\"node\">\r\n",
       "<title>23</title>\r\n",
       "<polygon fill=\"#e48038\" stroke=\"black\" points=\"1268.5,-36 1146.5,-36 1146.5,0 1268.5,0 1268.5,-36\"/>\r\n",
       "<text text-anchor=\"middle\" x=\"1207.5\" y=\"-14.3\" font-family=\"Times New Roman,serif\" font-size=\"14.00\">leaf=0.0574647896</text>\r\n",
       "</g>\r\n",
       "<!-- 11&#45;&gt;23 -->\r\n",
       "<g id=\"edge21\" class=\"edge\">\r\n",
       "<title>11&#45;&gt;23</title>\r\n",
       "<path fill=\"none\" stroke=\"#0000ff\" d=\"M1308.12,-86.84C1297.02,-81.54 1285.08,-75.4 1274.5,-69 1261.41,-61.08 1247.74,-51.2 1236.19,-42.33\"/>\r\n",
       "<polygon fill=\"#0000ff\" stroke=\"#0000ff\" points=\"1238.22,-39.48 1228.19,-36.08 1233.92,-44.99 1238.22,-39.48\"/>\r\n",
       "<text text-anchor=\"middle\" x=\"1309\" y=\"-57.8\" font-family=\"Times New Roman,serif\" font-size=\"14.00\">yes, missing</text>\r\n",
       "</g>\r\n",
       "<!-- 24 -->\r\n",
       "<g id=\"node23\" class=\"node\">\r\n",
       "<title>24</title>\r\n",
       "<polygon fill=\"#e48038\" stroke=\"black\" points=\"1408.5,-36 1286.5,-36 1286.5,0 1408.5,0 1408.5,-36\"/>\r\n",
       "<text text-anchor=\"middle\" x=\"1347.5\" y=\"-14.3\" font-family=\"Times New Roman,serif\" font-size=\"14.00\">leaf=0.0112500004</text>\r\n",
       "</g>\r\n",
       "<!-- 11&#45;&gt;24 -->\r\n",
       "<g id=\"edge22\" class=\"edge\">\r\n",
       "<title>11&#45;&gt;24</title>\r\n",
       "<path fill=\"none\" stroke=\"#ff0000\" d=\"M1347.5,-86.8C1347.5,-75.16 1347.5,-59.55 1347.5,-46.24\"/>\r\n",
       "<polygon fill=\"#ff0000\" stroke=\"#ff0000\" points=\"1351,-46.18 1347.5,-36.18 1344,-46.18 1351,-46.18\"/>\r\n",
       "<text text-anchor=\"middle\" x=\"1355\" y=\"-57.8\" font-family=\"Times New Roman,serif\" font-size=\"14.00\">no</text>\r\n",
       "</g>\r\n",
       "<!-- 25 -->\r\n",
       "<g id=\"node24\" class=\"node\">\r\n",
       "<title>25</title>\r\n",
       "<polygon fill=\"#e48038\" stroke=\"black\" points=\"1548.5,-36 1426.5,-36 1426.5,0 1548.5,0 1548.5,-36\"/>\r\n",
       "<text text-anchor=\"middle\" x=\"1487.5\" y=\"-14.3\" font-family=\"Times New Roman,serif\" font-size=\"14.00\">leaf=0.0943783745</text>\r\n",
       "</g>\r\n",
       "<!-- 12&#45;&gt;25 -->\r\n",
       "<g id=\"edge23\" class=\"edge\">\r\n",
       "<title>12&#45;&gt;25</title>\r\n",
       "<path fill=\"none\" stroke=\"#0000ff\" d=\"M1487.5,-86.8C1487.5,-75.16 1487.5,-59.55 1487.5,-46.24\"/>\r\n",
       "<polygon fill=\"#0000ff\" stroke=\"#0000ff\" points=\"1491,-46.18 1487.5,-36.18 1484,-46.18 1491,-46.18\"/>\r\n",
       "<text text-anchor=\"middle\" x=\"1522\" y=\"-57.8\" font-family=\"Times New Roman,serif\" font-size=\"14.00\">yes, missing</text>\r\n",
       "</g>\r\n",
       "<!-- 26 -->\r\n",
       "<g id=\"node25\" class=\"node\">\r\n",
       "<title>26</title>\r\n",
       "<polygon fill=\"#e48038\" stroke=\"black\" points=\"1682.5,-36 1566.5,-36 1566.5,0 1682.5,0 1682.5,-36\"/>\r\n",
       "<text text-anchor=\"middle\" x=\"1624.5\" y=\"-14.3\" font-family=\"Times New Roman,serif\" font-size=\"14.00\">leaf=0.032142859</text>\r\n",
       "</g>\r\n",
       "<!-- 12&#45;&gt;26 -->\r\n",
       "<g id=\"edge24\" class=\"edge\">\r\n",
       "<title>12&#45;&gt;26</title>\r\n",
       "<path fill=\"none\" stroke=\"#ff0000\" d=\"M1526.97,-86.99C1538.08,-81.69 1549.99,-75.52 1560.5,-69 1573.01,-61.24 1585.96,-51.5 1596.91,-42.68\"/>\r\n",
       "<polygon fill=\"#ff0000\" stroke=\"#ff0000\" points=\"1599.34,-45.21 1604.85,-36.16 1594.9,-39.8 1599.34,-45.21\"/>\r\n",
       "<text text-anchor=\"middle\" x=\"1589\" y=\"-57.8\" font-family=\"Times New Roman,serif\" font-size=\"14.00\">no</text>\r\n",
       "</g>\r\n",
       "<!-- 27 -->\r\n",
       "<g id=\"node28\" class=\"node\">\r\n",
       "<title>27</title>\r\n",
       "<polygon fill=\"#e48038\" stroke=\"black\" points=\"1828,-36 1701,-36 1701,0 1828,0 1828,-36\"/>\r\n",
       "<text text-anchor=\"middle\" x=\"1764.5\" y=\"-14.3\" font-family=\"Times New Roman,serif\" font-size=\"14.00\">leaf=&#45;0.0282352958</text>\r\n",
       "</g>\r\n",
       "<!-- 13&#45;&gt;27 -->\r\n",
       "<g id=\"edge27\" class=\"edge\">\r\n",
       "<title>13&#45;&gt;27</title>\r\n",
       "<path fill=\"none\" stroke=\"#0000ff\" d=\"M1802.79,-86.8C1796.02,-74.82 1786.87,-58.62 1779.21,-45.06\"/>\r\n",
       "<polygon fill=\"#0000ff\" stroke=\"#0000ff\" points=\"1782.16,-43.16 1774.2,-36.18 1776.07,-46.6 1782.16,-43.16\"/>\r\n",
       "<text text-anchor=\"middle\" x=\"1826\" y=\"-57.8\" font-family=\"Times New Roman,serif\" font-size=\"14.00\">yes, missing</text>\r\n",
       "</g>\r\n",
       "<!-- 28 -->\r\n",
       "<g id=\"node29\" class=\"node\">\r\n",
       "<title>28</title>\r\n",
       "<polygon fill=\"#e48038\" stroke=\"black\" points=\"1968.5,-36 1846.5,-36 1846.5,0 1968.5,0 1968.5,-36\"/>\r\n",
       "<text text-anchor=\"middle\" x=\"1907.5\" y=\"-14.3\" font-family=\"Times New Roman,serif\" font-size=\"14.00\">leaf=0.0935999975</text>\r\n",
       "</g>\r\n",
       "<!-- 13&#45;&gt;28 -->\r\n",
       "<g id=\"edge28\" class=\"edge\">\r\n",
       "<title>13&#45;&gt;28</title>\r\n",
       "<path fill=\"none\" stroke=\"#ff0000\" d=\"M1840.77,-86.96C1848.77,-81.62 1857.26,-75.43 1864.5,-69 1872.84,-61.59 1881.07,-52.57 1888.06,-44.24\"/>\r\n",
       "<polygon fill=\"#ff0000\" stroke=\"#ff0000\" points=\"1890.98,-46.19 1894.59,-36.23 1885.56,-41.77 1890.98,-46.19\"/>\r\n",
       "<text text-anchor=\"middle\" x=\"1887\" y=\"-57.8\" font-family=\"Times New Roman,serif\" font-size=\"14.00\">no</text>\r\n",
       "</g>\r\n",
       "<!-- 29 -->\r\n",
       "<g id=\"node30\" class=\"node\">\r\n",
       "<title>29</title>\r\n",
       "<polygon fill=\"#e48038\" stroke=\"black\" points=\"2108.5,-36 1986.5,-36 1986.5,0 2108.5,0 2108.5,-36\"/>\r\n",
       "<text text-anchor=\"middle\" x=\"2047.5\" y=\"-14.3\" font-family=\"Times New Roman,serif\" font-size=\"14.00\">leaf=0.0397894755</text>\r\n",
       "</g>\r\n",
       "<!-- 14&#45;&gt;29 -->\r\n",
       "<g id=\"edge29\" class=\"edge\">\r\n",
       "<title>14&#45;&gt;29</title>\r\n",
       "<path fill=\"none\" stroke=\"#0000ff\" d=\"M2047.5,-86.8C2047.5,-75.16 2047.5,-59.55 2047.5,-46.24\"/>\r\n",
       "<polygon fill=\"#0000ff\" stroke=\"#0000ff\" points=\"2051,-46.18 2047.5,-36.18 2044,-46.18 2051,-46.18\"/>\r\n",
       "<text text-anchor=\"middle\" x=\"2082\" y=\"-57.8\" font-family=\"Times New Roman,serif\" font-size=\"14.00\">yes, missing</text>\r\n",
       "</g>\r\n",
       "<!-- 30 -->\r\n",
       "<g id=\"node31\" class=\"node\">\r\n",
       "<title>30</title>\r\n",
       "<polygon fill=\"#e48038\" stroke=\"black\" points=\"2254,-36 2127,-36 2127,0 2254,0 2254,-36\"/>\r\n",
       "<text text-anchor=\"middle\" x=\"2190.5\" y=\"-14.3\" font-family=\"Times New Roman,serif\" font-size=\"14.00\">leaf=&#45;0.0300000012</text>\r\n",
       "</g>\r\n",
       "<!-- 14&#45;&gt;30 -->\r\n",
       "<g id=\"edge30\" class=\"edge\">\r\n",
       "<title>14&#45;&gt;30</title>\r\n",
       "<path fill=\"none\" stroke=\"#ff0000\" d=\"M2086.42,-86.87C2097.63,-81.53 2109.73,-75.36 2120.5,-69 2134.19,-60.91 2148.59,-50.91 2160.75,-41.98\"/>\r\n",
       "<polygon fill=\"#ff0000\" stroke=\"#ff0000\" points=\"2162.85,-44.78 2168.78,-36 2158.67,-39.17 2162.85,-44.78\"/>\r\n",
       "<text text-anchor=\"middle\" x=\"2149\" y=\"-57.8\" font-family=\"Times New Roman,serif\" font-size=\"14.00\">no</text>\r\n",
       "</g>\r\n",
       "</g>\r\n",
       "</svg>\r\n"
      ],
      "text/plain": [
       "<graphviz.files.Source at 0x2d695761148>"
      ]
     },
     "execution_count": 17,
     "metadata": {},
     "output_type": "execute_result"
    }
   ],
   "source": [
    "to_graphviz(\n",
    "    model, num_trees = 0, size = \"10,10\",\n",
    "    condition_node_params = node_params,\n",
    "    leaf_node_params = leaf_params\n",
    ")"
   ]
  },
  {
   "cell_type": "code",
   "execution_count": 18,
   "id": "virtual-bandwidth",
   "metadata": {},
   "outputs": [
    {
     "data": {
      "text/plain": [
       "Text(0.5, 1.0, 'XGBoostClassifier')"
      ]
     },
     "execution_count": 18,
     "metadata": {},
     "output_type": "execute_result"
    },
    {
     "data": {
      "image/png": "[encoded data removed]",
      "text/plain": [
       "<Figure size 432x288 with 1 Axes>"
      ]
     },
     "metadata": {
      "needs_background": "light"
     },
     "output_type": "display_data"
    }
   ],
   "source": [
    "scores_xg = pd.DataFrame.from_dict( scores.items())\n",
    "scores_xg.columns = [ \"approach\", \"test_accuracy\" ]\n",
    "plt_ = scores_xg.drop(3).set_index( \"approach\" ).plot( kind = 'bar' )\n",
    "plt_.set_ylim( bottom = 0, top = 1)\n",
    "plt_.set_title( \"XGBoostClassifier\" )"
   ]
  },
  {
   "cell_type": "code",
   "execution_count": null,
   "id": "allied-india",
   "metadata": {},
   "outputs": [],
   "source": [
    "test_scores_xg = pd.DataFrame.from_dict( training_scores.items() )\n",
    "test_scores_xg.columns = [ \"approach\", \"train_accuracy\" ]\n",
    "scores_xg = pd.merge( scores_xg, test_scores_xg, on = \"approach\" )\n",
    "write_excel_sheet_v2( scores_xg, \"output/accuracy/xgboost.xlsx\" )"
   ]
  }
 ],
 "metadata": {
  "kernelspec": {
   "display_name": "Python 3",
   "language": "python",
   "name": "python3"
  },
  "language_info": {
   "codemirror_mode": {
    "name": "ipython",
    "version": 3
   },
   "file_extension": ".py",
   "mimetype": "text/x-python",
   "name": "python",
   "nbconvert_exporter": "python",
   "pygments_lexer": "ipython3",
   "version": "3.7.8"
  }
 },
 "nbformat": 4,
 "nbformat_minor": 5
}
