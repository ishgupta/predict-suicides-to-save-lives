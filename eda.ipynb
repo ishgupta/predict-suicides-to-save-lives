{
 "cells": [
  {
   "cell_type": "markdown",
   "id": "opened-brake",
   "metadata": {},
   "source": [
    "### Overview\n",
    "This is 1/3 scripts, focussed only on exploring the data, and its important variables utilizing a basic Random forest model.\n",
    "\n",
    "National Institutes of Health, and Center for Disease Control and Prevention and the U.S. Census Bureau conducted a National Longitudinal Mortality Study (NLMS) for the purpose of studying effects of differentials in demographic and socio-economic characteristics on mortality.\n",
    "Mortality information was obtained from death certificates available for deceased persons through the National Center for Health Statistics. Standard demographic and socio-economic variables such as education, income, and employment, as well as information collected from death certificates including cause of death are available for analyses.\n",
    "\n",
    "The dataset is 4302 rows x 31 columns, with attributes in respect to citizenship, demographics, family, education, profession, income, health, habits, mortality.\n",
    "We'll be looking at how different attributes of an individual might drive them towards harming oneself for Life, and if there's anything that can be done to prevent such cases, by employing machine learning techniques to predict in advance."
   ]
  },
  {
   "cell_type": "code",
   "execution_count": 1,
   "id": "complicated-trainer",
   "metadata": {},
   "outputs": [
    {
     "name": "stderr",
     "output_type": "stream",
     "text": [
      "c:\\python\\python37\\lib\\site-packages\\sklearn\\utils\\deprecation.py:144: FutureWarning: The sklearn.metrics.scorer module is  deprecated in version 0.22 and will be removed in version 0.24. The corresponding classes / functions should instead be imported from sklearn.metrics. Anything that cannot be imported from sklearn.metrics is now part of the private API.\n",
      "  warnings.warn(message, FutureWarning)\n",
      "c:\\python\\python37\\lib\\site-packages\\sklearn\\utils\\deprecation.py:144: FutureWarning: The sklearn.feature_selection.base module is  deprecated in version 0.22 and will be removed in version 0.24. The corresponding classes / functions should instead be imported from sklearn.feature_selection. Anything that cannot be imported from sklearn.feature_selection is now part of the private API.\n",
      "  warnings.warn(message, FutureWarning)\n"
     ]
    }
   ],
   "source": [
    "# import required libraries\n",
    "# ml_toolkit is a custom script made to include the generic functionalities required in one and every data exploration task. \n",
    "# The individual script enhances its re-usability.\n",
    "from ml_toolkit import encode_str_columns, fetch_train_test_split, write_excel_sheet_v2\n",
    "\n",
    "import matplotlib.pyplot as plt\n",
    "import numpy as np\n",
    "import pandas as pd\n",
    "\n",
    "from sklearn.ensemble import RandomForestClassifier\n",
    "from sklearn.preprocessing import StandardScaler\n",
    "from sklearn.metrics import accuracy_score\n",
    "\n",
    "from eli5.sklearn import PermutationImportance\n",
    "import eli5\n",
    "\n",
    "from IPython.display import Markdown as md\n",
    "import random"
   ]
  },
  {
   "cell_type": "code",
   "execution_count": 2,
   "id": "multiple-constitutional",
   "metadata": {},
   "outputs": [],
   "source": [
    "\"\"\"\n",
    "    an inline function to fetch a basic Random forest quickly for exploration\n",
    "\"\"\"\n",
    "def get_rf_model( X_train, y_train, output_column, random_state = 42 ):\n",
    "    rf_model = RandomForestClassifier( n_estimators = 100, random_state = random_state ).fit( X_train, y_train )\n",
    "    return rf_model"
   ]
  },
  {
   "cell_type": "markdown",
   "id": "detailed-tours",
   "metadata": {},
   "source": [
    "### Read raw data"
   ]
  },
  {
   "cell_type": "code",
   "execution_count": 3,
   "id": "advisory-oasis",
   "metadata": {},
   "outputs": [],
   "source": [
    "data = pd.read_csv( \"data_/11.csv\", dtype = str )"
   ]
  },
  {
   "cell_type": "code",
   "execution_count": 4,
   "id": "fossil-scott",
   "metadata": {},
   "outputs": [],
   "source": [
    "# transform variable names to follow same letter casing\n",
    "data.columns = [ x.title() for x in data.columns ]\n",
    "\n",
    "# type cast the two number variables, age and follow up period to Int\n",
    "number_cols = [ \"Age\", \"Follow\" ]\n",
    "data[ number_cols ] = data[ number_cols ].astype( int )\n",
    "\n",
    "# create a new variable for Suicides using the causes of death, segregate health related deaths by Suicide = 0, Suicides by 1, and Accidents by 2\n",
    "data[ \"Suicide\" ] = 0\n",
    "data.loc[ data[ \"Cause113\" ].isin( [ '105', '106' ] ), \"Suicide\" ] = 1\n",
    "data.loc[ data[ \"Cause113\" ].isin( [ '100', '104', '107', '108', '109' ] ), \"Suicide\" ] = 2\n",
    "\n",
    "# create a new variable to note if the individual was working\n",
    "data[ \"Working\" ] = 1\n",
    "data.loc[ data[ \"Occ\" ].isnull(), \"Working\" ] = 0"
   ]
  },
  {
   "cell_type": "code",
   "execution_count": 5,
   "id": "southeast-shaft",
   "metadata": {},
   "outputs": [],
   "source": [
    "\"\"\"\n",
    "impute missing values for occupational, and industry codes. \n",
    "they are blank for individuals who dont work or the ones for whom the detail could not be fetched\n",
    "\"\"\"\n",
    "data[ \"Majocc\" ].fillna( -1, inplace = True )\n",
    "data[ \"Majind\" ].fillna( -1, inplace = True )"
   ]
  },
  {
   "cell_type": "code",
   "execution_count": 6,
   "id": "young-lecture",
   "metadata": {},
   "outputs": [],
   "source": [
    "# read data\n",
    "# data = pd.read_csv( \"data_/data.csv\", dtype = str )\n",
    "output_column = \"Suicide\""
   ]
  },
  {
   "cell_type": "markdown",
   "id": "modified-dodge",
   "metadata": {},
   "source": [
    "check for any attributes which are more inclined towards any particular output\n",
    "for this, we are checking if any of the attributes are observed with Suicides and Accidents for more than 70% of the data"
   ]
  },
  {
   "cell_type": "code",
   "execution_count": 7,
   "id": "composite-kazakhstan",
   "metadata": {},
   "outputs": [
    {
     "name": "stderr",
     "output_type": "stream",
     "text": [
      "c:\\python\\python37\\lib\\site-packages\\pandas\\core\\ops\\array_ops.py:253: FutureWarning: elementwise comparison failed; returning scalar instead, but in the future will perform elementwise comparison\n",
      "  res_values = method(rvalues)\n"
     ]
    }
   ],
   "source": [
    "total_rows = data.shape[ 0 ]\n",
    "col_prop = {}\n",
    "for x in data.columns:\n",
    "    col_prop[ x ] = [ \n",
    "        ( ( data[ x ].notnull() ) & ( data[ output_column ] == '1' ) ).sum() / total_rows, \n",
    "        ( ( data[ x ].notnull() ) & ( data[ output_column ] == '0' ) ).sum() /  total_rows\n",
    "    ]\n",
    "\n",
    "cols_to_explore = [\n",
    "    ( x, y ) for x, y in col_prop.items()\n",
    "    if ( y[0] + y[1] > 0.7 )\n",
    "]"
   ]
  },
  {
   "cell_type": "code",
   "execution_count": 8,
   "id": "welsh-crown",
   "metadata": {},
   "outputs": [
    {
     "data": {
      "text/plain": [
       "[]"
      ]
     },
     "execution_count": 8,
     "metadata": {},
     "output_type": "execute_result"
    }
   ],
   "source": [
    "cols_to_explore"
   ]
  },
  {
   "cell_type": "markdown",
   "id": "unknown-converter",
   "metadata": {},
   "source": [
    "Now, as we see the proportion of the attributes is similar in both cases of Suicides or Accidents, and they actually have more than 40% of blanks in the data. \n",
    "They do not seem to really belong specifically to any such case, but will need to be validated for their values in the analysis now."
   ]
  },
  {
   "cell_type": "markdown",
   "id": "hungarian-bahamas",
   "metadata": {},
   "source": [
    "### data overview\n",
    "The numeric attributes are:\n",
    "1. Age - age of the person at the time of the survey\n",
    "2. Follow- The length of follow-up period in days\n",
    "\n",
    "The categorical features include:\n",
    "1. Sex- Gender\n",
    "2. POB - Region of Birth\n",
    "3. Race - An expanded version of race which separates the American Indian, etc. and Asian, etc. out of the Other category in early CPS files\n",
    "4. Hisp - Hispanic origin classifies all persons by Mexican, Hispanic (not Mexican) or Non-Hispanic (Not Mexican or Hispanic) origin\n",
    "5. Ms- marital status\n",
    "6. RELTRF - Relationship to reference person within the household\n",
    "7. HHNUM - number of persons residing in the household at the time of the interview\n",
    "8. SSNYN - Indicator of the presence or absence of Social Security Number on the CPS record\n",
    "9. STATER - state of residence at the date of interview\n",
    "10. URBAN - Urban or rural status\n",
    "11. SMSAST - Is a household located in an SMSA or not? (SMSA - standard metropolitan statistical area)\n",
    "12. TENURE - the type of ownership of the residence\n",
    "13. EDUC- highest grade completed\n",
    "14. VT - Indicates whether person was U.S. veteran\n",
    "15. CITIZEN - person’s citizenship at the time of survey\n",
    "16. health - the status of person health at the time of survey\n",
    "17. Working - if the person was employed\n",
    "18. ESR - Recoded employment status\n",
    "19. IND - Job specific industrial classification codes\n",
    "20. MAJIND - Major industry classification recode of 2007 specific industry\n",
    "21. RCOW - Recoded Class of Worker\n",
    "22. ADJINC - Inflation Adjusted Income\n",
    "23. POVPCT - Income as Percent of Poverty Level\n",
    "24. HISTATUS - Indicates whether person had health insurance coverage any time in the calendar year prior to the interview\n",
    "25. HITYPE - the type of health insurance\n",
    "\n",
    "output variable:\n",
    "1. Suicide - if the death was a Suicide (1), or due to accident (2), or health isssues (0)"
   ]
  },
  {
   "cell_type": "markdown",
   "id": "plastic-dealer",
   "metadata": {},
   "source": [
    "### clean data\n",
    "The data contains 2 numeric, 28 categorical features, and 1 output variable- Suicide\n",
    "\n",
    "cleaning steps:\n",
    "1. attributes unique to every record, or having a unique value in more than 60% of the data\n",
    "2. lets first drop the attributes which have only one unique value in the data, if any. Since, a constant would not affect the output variable\n",
    "3. drop the attributes which is missing values in more than 40% rows"
   ]
  },
  {
   "cell_type": "code",
   "execution_count": 9,
   "id": "departmental-negative",
   "metadata": {},
   "outputs": [
    {
     "name": "stdout",
     "output_type": "stream",
     "text": [
      "dropping 'Smok100, Agesmk, Smokstat, Smokhome, Curruse, Everuse' for they had only one unique value respectively\n"
     ]
    }
   ],
   "source": [
    "# clean data\n",
    "\"\"\"drop columns which have only one unique value\"\"\"\n",
    "single_val_cols = [ x for x in data.columns if data[ x ].unique().shape[0] == 1 ]\n",
    "if len( single_val_cols ) > 0:\n",
    "    print( \"dropping '{0}' for they had only one unique value respectively\".format( \", \".join( single_val_cols ) ) )\n",
    "    data.drop( columns = single_val_cols, inplace = True )\n",
    "else:\n",
    "    print( \"no change, all the columns have at least 2 unique values in the data\" )"
   ]
  },
  {
   "cell_type": "markdown",
   "id": "disciplinary-blame",
   "metadata": {},
   "source": [
    "#### drop columns with more than 40% of blank values"
   ]
  },
  {
   "cell_type": "code",
   "execution_count": 10,
   "id": "cathedral-dating",
   "metadata": {},
   "outputs": [],
   "source": [
    "# drop columns with more than 40% of blank values\n",
    "null_values = data.isnull().sum().reset_index()\n",
    "null_values.columns = [ \"column\", \"blanks\" ]\n",
    "null_values = null_values.loc[ ( null_values[ \"blanks\" ] / data.shape[0] ) > 0 ]\n",
    "blank_cols = null_values['column'].tolist()\n"
   ]
  },
  {
   "cell_type": "markdown",
   "id": "forty-intro",
   "metadata": {},
   "source": [
    "##### lets look at the proportion of attributes missing values, against the output column- Suicide"
   ]
  },
  {
   "cell_type": "code",
   "execution_count": 11,
   "id": "numerous-azerbaijan",
   "metadata": {},
   "outputs": [],
   "source": [
    "null_values_df = data[ blank_cols + [ output_column ] ].copy( deep = True )\n",
    "for col in blank_cols:\n",
    "    null_values_df.loc[ null_values_df[ col ].notnull(), col ] = 1\n",
    "    null_values_df.loc[ null_values_df[ col ].isnull(), col ] = 0"
   ]
  },
  {
   "cell_type": "code",
   "execution_count": 12,
   "id": "difficult-laser",
   "metadata": {},
   "outputs": [
    {
     "data": {
      "text/html": [
       "<div>\n",
       "<style scoped>\n",
       "    .dataframe tbody tr th:only-of-type {\n",
       "        vertical-align: middle;\n",
       "    }\n",
       "\n",
       "    .dataframe tbody tr th {\n",
       "        vertical-align: top;\n",
       "    }\n",
       "\n",
       "    .dataframe thead th {\n",
       "        text-align: right;\n",
       "    }\n",
       "</style>\n",
       "<table border=\"1\" class=\"dataframe\">\n",
       "  <thead>\n",
       "    <tr style=\"text-align: right;\">\n",
       "      <th></th>\n",
       "      <th>Race</th>\n",
       "      <th>Ms</th>\n",
       "      <th>Hisp</th>\n",
       "      <th>Adjinc</th>\n",
       "      <th>Educ</th>\n",
       "      <th>Reltrf</th>\n",
       "      <th>Occ</th>\n",
       "      <th>Ind</th>\n",
       "      <th>Esr</th>\n",
       "      <th>Urban</th>\n",
       "      <th>...</th>\n",
       "      <th>Hosp</th>\n",
       "      <th>Hospd</th>\n",
       "      <th>Vt</th>\n",
       "      <th>Histatus</th>\n",
       "      <th>Hitype</th>\n",
       "      <th>Rcow</th>\n",
       "      <th>Tenure</th>\n",
       "      <th>Citizen</th>\n",
       "      <th>Health</th>\n",
       "      <th>Indalg</th>\n",
       "    </tr>\n",
       "    <tr>\n",
       "      <th>Suicide</th>\n",
       "      <th></th>\n",
       "      <th></th>\n",
       "      <th></th>\n",
       "      <th></th>\n",
       "      <th></th>\n",
       "      <th></th>\n",
       "      <th></th>\n",
       "      <th></th>\n",
       "      <th></th>\n",
       "      <th></th>\n",
       "      <th></th>\n",
       "      <th></th>\n",
       "      <th></th>\n",
       "      <th></th>\n",
       "      <th></th>\n",
       "      <th></th>\n",
       "      <th></th>\n",
       "      <th></th>\n",
       "      <th></th>\n",
       "      <th></th>\n",
       "      <th></th>\n",
       "    </tr>\n",
       "  </thead>\n",
       "  <tbody>\n",
       "    <tr>\n",
       "      <th>0</th>\n",
       "      <td>0.996074</td>\n",
       "      <td>0.800989</td>\n",
       "      <td>0.969109</td>\n",
       "      <td>0.973566</td>\n",
       "      <td>0.806618</td>\n",
       "      <td>0.995105</td>\n",
       "      <td>0.532614</td>\n",
       "      <td>0.532494</td>\n",
       "      <td>0.806596</td>\n",
       "      <td>0.990550</td>\n",
       "      <td>...</td>\n",
       "      <td>0.083682</td>\n",
       "      <td>0.077037</td>\n",
       "      <td>0.782059</td>\n",
       "      <td>0.683604</td>\n",
       "      <td>0.683604</td>\n",
       "      <td>0.533484</td>\n",
       "      <td>0.983808</td>\n",
       "      <td>0.253015</td>\n",
       "      <td>0.208929</td>\n",
       "      <td>0.188696</td>\n",
       "    </tr>\n",
       "    <tr>\n",
       "      <th>1</th>\n",
       "      <td>0.001165</td>\n",
       "      <td>0.001095</td>\n",
       "      <td>0.001136</td>\n",
       "      <td>0.001144</td>\n",
       "      <td>0.001099</td>\n",
       "      <td>0.001161</td>\n",
       "      <td>0.000702</td>\n",
       "      <td>0.000703</td>\n",
       "      <td>0.001101</td>\n",
       "      <td>0.001163</td>\n",
       "      <td>...</td>\n",
       "      <td>0.001142</td>\n",
       "      <td>0.001031</td>\n",
       "      <td>0.001072</td>\n",
       "      <td>0.000786</td>\n",
       "      <td>0.000786</td>\n",
       "      <td>0.000706</td>\n",
       "      <td>0.001154</td>\n",
       "      <td>0.000148</td>\n",
       "      <td>0.000202</td>\n",
       "      <td>0.000702</td>\n",
       "    </tr>\n",
       "    <tr>\n",
       "      <th>2</th>\n",
       "      <td>0.001187</td>\n",
       "      <td>0.001071</td>\n",
       "      <td>0.001145</td>\n",
       "      <td>0.001166</td>\n",
       "      <td>0.001081</td>\n",
       "      <td>0.001187</td>\n",
       "      <td>0.000585</td>\n",
       "      <td>0.000584</td>\n",
       "      <td>0.001083</td>\n",
       "      <td>0.001180</td>\n",
       "      <td>...</td>\n",
       "      <td>0.001164</td>\n",
       "      <td>0.001043</td>\n",
       "      <td>0.001046</td>\n",
       "      <td>0.000763</td>\n",
       "      <td>0.000763</td>\n",
       "      <td>0.000591</td>\n",
       "      <td>0.001172</td>\n",
       "      <td>0.000157</td>\n",
       "      <td>0.000196</td>\n",
       "      <td>0.000654</td>\n",
       "    </tr>\n",
       "  </tbody>\n",
       "</table>\n",
       "<p>3 rows × 22 columns</p>\n",
       "</div>"
      ],
      "text/plain": [
       "             Race        Ms      Hisp    Adjinc      Educ    Reltrf       Occ  \\\n",
       "Suicide                                                                         \n",
       "0        0.996074  0.800989  0.969109  0.973566  0.806618  0.995105  0.532614   \n",
       "1        0.001165  0.001095  0.001136  0.001144  0.001099  0.001161  0.000702   \n",
       "2        0.001187  0.001071  0.001145  0.001166  0.001081  0.001187  0.000585   \n",
       "\n",
       "              Ind       Esr     Urban  ...      Hosp     Hospd        Vt  \\\n",
       "Suicide                                ...                                 \n",
       "0        0.532494  0.806596  0.990550  ...  0.083682  0.077037  0.782059   \n",
       "1        0.000703  0.001101  0.001163  ...  0.001142  0.001031  0.001072   \n",
       "2        0.000584  0.001083  0.001180  ...  0.001164  0.001043  0.001046   \n",
       "\n",
       "         Histatus    Hitype      Rcow    Tenure   Citizen    Health    Indalg  \n",
       "Suicide                                                                        \n",
       "0        0.683604  0.683604  0.533484  0.983808  0.253015  0.208929  0.188696  \n",
       "1        0.000786  0.000786  0.000706  0.001154  0.000148  0.000202  0.000702  \n",
       "2        0.000763  0.000763  0.000591  0.001172  0.000157  0.000196  0.000654  \n",
       "\n",
       "[3 rows x 22 columns]"
      ]
     },
     "execution_count": 12,
     "metadata": {},
     "output_type": "execute_result"
    }
   ],
   "source": [
    "null_values_df.groupby( output_column ).sum() / data.shape[0]"
   ]
  },
  {
   "cell_type": "markdown",
   "id": "quantitative-spiritual",
   "metadata": {},
   "source": [
    "##### since, the proportion of missing values is similar for the output column, we'll drop the attributes missing more than 40% of its values"
   ]
  },
  {
   "cell_type": "code",
   "execution_count": 13,
   "id": "regulation-germany",
   "metadata": {},
   "outputs": [
    {
     "name": "stdout",
     "output_type": "stream",
     "text": [
      "dropping columns: '['Race', 'Ms', 'Hisp', 'Adjinc', 'Educ', 'Reltrf', 'Occ', 'Ind', 'Esr', 'Urban', 'Smsast', 'Dayod', 'Hosp', 'Hospd', 'Vt', 'Histatus', 'Hitype', 'Rcow', 'Tenure', 'Citizen', 'Health', 'Indalg']', for they had more than 40% of missing values in the data\n"
     ]
    }
   ],
   "source": [
    "if null_values.shape[ 0 ] > 0:\n",
    "    print( \"dropping columns: '{0}', for they had more than 40% of missing values in the data\".format( null_values['column'].tolist() ) )\n",
    "    data.drop( columns = null_values['column'].tolist(), inplace = True )\n",
    "else:\n",
    "    print( \"all okay. all the columns have at least 60% of values available in the column\" )"
   ]
  },
  {
   "cell_type": "code",
   "execution_count": 14,
   "id": "unable-marble",
   "metadata": {},
   "outputs": [
    {
     "name": "stdout",
     "output_type": "stream",
     "text": [
      "dropping attributes unique to every record, or having a unique value in more than 60% of the data : 'Record'\n"
     ]
    }
   ],
   "source": [
    "record_specific_columns = [ x for x in data.columns if ( data[ x ].unique().shape[0] == total_rows ) or ( ( data[x].unique().shape[0] / total_rows ) > 0.6 ) ]\n",
    "data.drop( columns = record_specific_columns, inplace = True )\n",
    "\n",
    "print( \"dropping attributes unique to every record, or having a unique value in more than 60% of the data : '{0}'\".format( ', '.join( record_specific_columns ) ) )"
   ]
  },
  {
   "cell_type": "markdown",
   "id": "supposed-campaign",
   "metadata": {},
   "source": [
    "#### lets also drop the attributes which describe the event of death. Since, they are useful only when the event has happened- they cannot be helpful to predict a possible Suicide"
   ]
  },
  {
   "cell_type": "code",
   "execution_count": 15,
   "id": "declared-sleeping",
   "metadata": {},
   "outputs": [],
   "source": [
    "# HOSP - Place of Death\n",
    "# HOSPD - location of death relative to a hospital\n",
    "# DAYOD - day of the week, the decendent died\n",
    "data.drop( columns = [ 'Hosp', 'Hospd', 'Dayod', 'Inddea', 'Indalg',  'Cause113', 'Hhid', 'Wt', 'Povpct' ], inplace = True, errors = 'ignore' )"
   ]
  },
  {
   "cell_type": "code",
   "execution_count": 16,
   "id": "declared-partition",
   "metadata": {},
   "outputs": [
    {
     "data": {
      "text/html": [
       "<div>\n",
       "<style scoped>\n",
       "    .dataframe tbody tr th:only-of-type {\n",
       "        vertical-align: middle;\n",
       "    }\n",
       "\n",
       "    .dataframe tbody tr th {\n",
       "        vertical-align: top;\n",
       "    }\n",
       "\n",
       "    .dataframe thead th {\n",
       "        text-align: right;\n",
       "    }\n",
       "</style>\n",
       "<table border=\"1\" class=\"dataframe\">\n",
       "  <thead>\n",
       "    <tr style=\"text-align: right;\">\n",
       "      <th></th>\n",
       "      <th>Age</th>\n",
       "      <th>Sex</th>\n",
       "      <th>Pob</th>\n",
       "      <th>Hhnum</th>\n",
       "      <th>Majocc</th>\n",
       "      <th>Majind</th>\n",
       "      <th>Follow</th>\n",
       "      <th>Ssnyn</th>\n",
       "      <th>Stater</th>\n",
       "      <th>Suicide</th>\n",
       "      <th>Working</th>\n",
       "    </tr>\n",
       "  </thead>\n",
       "  <tbody>\n",
       "    <tr>\n",
       "      <th>453650</th>\n",
       "      <td>10</td>\n",
       "      <td>1</td>\n",
       "      <td>931</td>\n",
       "      <td>6</td>\n",
       "      <td>-1</td>\n",
       "      <td>-1</td>\n",
       "      <td>4018</td>\n",
       "      <td>0</td>\n",
       "      <td>46</td>\n",
       "      <td>0</td>\n",
       "      <td>0</td>\n",
       "    </tr>\n",
       "    <tr>\n",
       "      <th>1002432</th>\n",
       "      <td>39</td>\n",
       "      <td>2</td>\n",
       "      <td>933</td>\n",
       "      <td>1</td>\n",
       "      <td>09</td>\n",
       "      <td>04</td>\n",
       "      <td>4018</td>\n",
       "      <td>1</td>\n",
       "      <td>12</td>\n",
       "      <td>0</td>\n",
       "      <td>1</td>\n",
       "    </tr>\n",
       "    <tr>\n",
       "      <th>1549516</th>\n",
       "      <td>16</td>\n",
       "      <td>1</td>\n",
       "      <td>939</td>\n",
       "      <td>4</td>\n",
       "      <td>-1</td>\n",
       "      <td>-1</td>\n",
       "      <td>4018</td>\n",
       "      <td>0</td>\n",
       "      <td>31</td>\n",
       "      <td>0</td>\n",
       "      <td>0</td>\n",
       "    </tr>\n",
       "    <tr>\n",
       "      <th>1206596</th>\n",
       "      <td>53</td>\n",
       "      <td>1</td>\n",
       "      <td>103</td>\n",
       "      <td>1</td>\n",
       "      <td>05</td>\n",
       "      <td>05</td>\n",
       "      <td>4018</td>\n",
       "      <td>0</td>\n",
       "      <td>84</td>\n",
       "      <td>0</td>\n",
       "      <td>1</td>\n",
       "    </tr>\n",
       "    <tr>\n",
       "      <th>1695839</th>\n",
       "      <td>6</td>\n",
       "      <td>1</td>\n",
       "      <td>954</td>\n",
       "      <td>4</td>\n",
       "      <td>-1</td>\n",
       "      <td>-1</td>\n",
       "      <td>4018</td>\n",
       "      <td>0</td>\n",
       "      <td>55</td>\n",
       "      <td>0</td>\n",
       "      <td>0</td>\n",
       "    </tr>\n",
       "    <tr>\n",
       "      <th>567170</th>\n",
       "      <td>39</td>\n",
       "      <td>1</td>\n",
       "      <td>915</td>\n",
       "      <td>1</td>\n",
       "      <td>-1</td>\n",
       "      <td>-1</td>\n",
       "      <td>4018</td>\n",
       "      <td>1</td>\n",
       "      <td>95</td>\n",
       "      <td>0</td>\n",
       "      <td>0</td>\n",
       "    </tr>\n",
       "    <tr>\n",
       "      <th>1018517</th>\n",
       "      <td>66</td>\n",
       "      <td>2</td>\n",
       "      <td>901</td>\n",
       "      <td>1</td>\n",
       "      <td>-1</td>\n",
       "      <td>-1</td>\n",
       "      <td>4018</td>\n",
       "      <td>1</td>\n",
       "      <td>63</td>\n",
       "      <td>0</td>\n",
       "      <td>0</td>\n",
       "    </tr>\n",
       "    <tr>\n",
       "      <th>1221585</th>\n",
       "      <td>33</td>\n",
       "      <td>1</td>\n",
       "      <td>919</td>\n",
       "      <td>1</td>\n",
       "      <td>08</td>\n",
       "      <td>10</td>\n",
       "      <td>4018</td>\n",
       "      <td>1</td>\n",
       "      <td>42</td>\n",
       "      <td>0</td>\n",
       "      <td>1</td>\n",
       "    </tr>\n",
       "    <tr>\n",
       "      <th>1762088</th>\n",
       "      <td>43</td>\n",
       "      <td>1</td>\n",
       "      <td>906</td>\n",
       "      <td>5</td>\n",
       "      <td>09</td>\n",
       "      <td>04</td>\n",
       "      <td>4018</td>\n",
       "      <td>1</td>\n",
       "      <td>93</td>\n",
       "      <td>0</td>\n",
       "      <td>1</td>\n",
       "    </tr>\n",
       "    <tr>\n",
       "      <th>991535</th>\n",
       "      <td>18</td>\n",
       "      <td>1</td>\n",
       "      <td>902</td>\n",
       "      <td>5</td>\n",
       "      <td>-1</td>\n",
       "      <td>-1</td>\n",
       "      <td>4018</td>\n",
       "      <td>1</td>\n",
       "      <td>94</td>\n",
       "      <td>0</td>\n",
       "      <td>0</td>\n",
       "    </tr>\n",
       "    <tr>\n",
       "      <th>767435</th>\n",
       "      <td>38</td>\n",
       "      <td>2</td>\n",
       "      <td>954</td>\n",
       "      <td>4</td>\n",
       "      <td>-1</td>\n",
       "      <td>-1</td>\n",
       "      <td>4018</td>\n",
       "      <td>1</td>\n",
       "      <td>55</td>\n",
       "      <td>0</td>\n",
       "      <td>0</td>\n",
       "    </tr>\n",
       "    <tr>\n",
       "      <th>1530739</th>\n",
       "      <td>28</td>\n",
       "      <td>2</td>\n",
       "      <td>926</td>\n",
       "      <td>8</td>\n",
       "      <td>02</td>\n",
       "      <td>10</td>\n",
       "      <td>4018</td>\n",
       "      <td>0</td>\n",
       "      <td>34</td>\n",
       "      <td>0</td>\n",
       "      <td>1</td>\n",
       "    </tr>\n",
       "    <tr>\n",
       "      <th>1271253</th>\n",
       "      <td>58</td>\n",
       "      <td>1</td>\n",
       "      <td>944</td>\n",
       "      <td>3</td>\n",
       "      <td>09</td>\n",
       "      <td>04</td>\n",
       "      <td>4018</td>\n",
       "      <td>1</td>\n",
       "      <td>15</td>\n",
       "      <td>0</td>\n",
       "      <td>1</td>\n",
       "    </tr>\n",
       "    <tr>\n",
       "      <th>277984</th>\n",
       "      <td>76</td>\n",
       "      <td>1</td>\n",
       "      <td>931</td>\n",
       "      <td>2</td>\n",
       "      <td>-1</td>\n",
       "      <td>-1</td>\n",
       "      <td>1823</td>\n",
       "      <td>1</td>\n",
       "      <td>46</td>\n",
       "      <td>0</td>\n",
       "      <td>0</td>\n",
       "    </tr>\n",
       "    <tr>\n",
       "      <th>1545872</th>\n",
       "      <td>3</td>\n",
       "      <td>1</td>\n",
       "      <td>937</td>\n",
       "      <td>5</td>\n",
       "      <td>-1</td>\n",
       "      <td>-1</td>\n",
       "      <td>4018</td>\n",
       "      <td>0</td>\n",
       "      <td>56</td>\n",
       "      <td>0</td>\n",
       "      <td>0</td>\n",
       "    </tr>\n",
       "  </tbody>\n",
       "</table>\n",
       "</div>"
      ],
      "text/plain": [
       "         Age Sex  Pob Hhnum Majocc Majind  Follow Ssnyn Stater  Suicide  \\\n",
       "453650    10   1  931     6     -1     -1    4018     0     46        0   \n",
       "1002432   39   2  933     1     09     04    4018     1     12        0   \n",
       "1549516   16   1  939     4     -1     -1    4018     0     31        0   \n",
       "1206596   53   1  103     1     05     05    4018     0     84        0   \n",
       "1695839    6   1  954     4     -1     -1    4018     0     55        0   \n",
       "567170    39   1  915     1     -1     -1    4018     1     95        0   \n",
       "1018517   66   2  901     1     -1     -1    4018     1     63        0   \n",
       "1221585   33   1  919     1     08     10    4018     1     42        0   \n",
       "1762088   43   1  906     5     09     04    4018     1     93        0   \n",
       "991535    18   1  902     5     -1     -1    4018     1     94        0   \n",
       "767435    38   2  954     4     -1     -1    4018     1     55        0   \n",
       "1530739   28   2  926     8     02     10    4018     0     34        0   \n",
       "1271253   58   1  944     3     09     04    4018     1     15        0   \n",
       "277984    76   1  931     2     -1     -1    1823     1     46        0   \n",
       "1545872    3   1  937     5     -1     -1    4018     0     56        0   \n",
       "\n",
       "         Working  \n",
       "453650         0  \n",
       "1002432        1  \n",
       "1549516        0  \n",
       "1206596        1  \n",
       "1695839        0  \n",
       "567170         0  \n",
       "1018517        0  \n",
       "1221585        1  \n",
       "1762088        1  \n",
       "991535         0  \n",
       "767435         0  \n",
       "1530739        1  \n",
       "1271253        1  \n",
       "277984         0  \n",
       "1545872        0  "
      ]
     },
     "execution_count": 16,
     "metadata": {},
     "output_type": "execute_result"
    }
   ],
   "source": [
    "data.sample(15)"
   ]
  },
  {
   "cell_type": "code",
   "execution_count": 17,
   "id": "damaged-merchant",
   "metadata": {},
   "outputs": [],
   "source": [
    "# lets convert age to a range of age groups rather than a continuous variable\n",
    "age_groups = [ 0, 6, 13, 19, 31, 60, 91 ]\n",
    "age_labels = [ \"0-5\", \"6-12\", \"13-18\", \"19-30\", \"31-59\", \"60-90\" ]\n",
    "data['Age'] = pd.cut( data['Age'] , bins = age_groups, labels = age_labels, right = False )"
   ]
  },
  {
   "cell_type": "code",
   "execution_count": 18,
   "id": "clinical-needle",
   "metadata": {},
   "outputs": [],
   "source": [
    "pob_map = {\n",
    "    \"000\" : \"Missing POB\",\n",
    "\"101\" : \"African Continent\",\n",
    "\"102\" : \"Asian Continent \",\n",
    "\"103\" : \"A country in Eastern Europe\",\n",
    "\"104\" : \"A country in Western Europe\",\n",
    "\"105\" : \"North America (Not U.S. or Mexico)\",\n",
    "\"106\" : \"A country on South America Continent\",\n",
    "\"107\" : \"A country in Central America\",\n",
    "\"108\" : \"Mexico\",\n",
    "\"109\" : \"A country not on a continent (identified as an island)\",\n",
    "\"110\" : \"Elsewhere but not in the U.S.\",\n",
    "\"111\" : \"Not in the U.S., P.R., or outlying possession\",\n",
    "\"901-960\" : \"Born in the U.S.\"\n",
    "}\n",
    "pob_keys = {}\n",
    "for key, value in pob_map.items():\n",
    "    if \"-\" in key:\n",
    "        keys = \"901-960\".split(\"-\")\n",
    "        keys = list( range( int( keys[ 0 ] ), int( keys[1] )  + 1 ) )\n",
    "        for tmp_key in keys:\n",
    "                pob_keys[ tmp_key ] = value\n",
    "    else:\n",
    "        pob_keys[ int(key) ] = value\n",
    "        \n",
    "data['Pob'] = data['Pob'].apply( lambda x : pob_keys[ int( x ) ] )"
   ]
  },
  {
   "cell_type": "code",
   "execution_count": 19,
   "id": "collaborative-skiing",
   "metadata": {},
   "outputs": [],
   "source": [
    "# map state codes to their area\n",
    "state_r_codes = {\n",
    "    \"New-England Division\" : [ 11, 12, 13, 14, 15, 16 ],\n",
    "    \"Middle Atlantic Division\" : [ 21, 22, 23 ],\n",
    "    \"East North Central Division\" : [ 31, 32, 33, 34, 35 ],\n",
    "    \"West North Central Division\" : [ 41, 42, 43, 44, 45, 46, 47 ],\n",
    "    \"South Atlantic Division\" : [ 51, 52, 53, 54, 55, 56, 57, 58, 59 ],\n",
    "    \"East South Central Division\" : [ 61, 62, 63, 64 ],\n",
    "    \"West South Central Division\" : [ 71, 72, 73, 74 ],\n",
    "    \"Mountain Division\" : [ 81, 82, 83, 84, 85, 86, 87, 88 ],\n",
    "    \"Pacific Division\" : [ 91, 92, 93, 94, 95 ]\n",
    "}\n",
    "state_r_map = {}\n",
    "for key, values in state_r_codes.items():\n",
    "    for val in values:\n",
    "        state_r_map[ val ] = key\n",
    "data[ 'Stater' ] = data[ 'Stater' ].apply( lambda x : state_r_map[ int(x) ] )"
   ]
  },
  {
   "cell_type": "code",
   "execution_count": 20,
   "id": "australian-stupid",
   "metadata": {},
   "outputs": [],
   "source": [
    "# lets transform follow up days into years\n",
    "data['Follow'] = ( round( data['Follow'] / 365, 0 ) ).astype( int )"
   ]
  },
  {
   "cell_type": "markdown",
   "id": "distant-officer",
   "metadata": {},
   "source": [
    "Since, all the variables in data are now categorical. Transform all of them into categories"
   ]
  },
  {
   "cell_type": "code",
   "execution_count": 21,
   "id": "processed-floor",
   "metadata": {},
   "outputs": [],
   "source": [
    "# convert all the categorical attributes into categories\n",
    "data = data.astype( 'category' )"
   ]
  },
  {
   "cell_type": "markdown",
   "id": "gorgeous-aspect",
   "metadata": {},
   "source": [
    "Since, the data is currently a set of all the individuals who lost their Life because of health issues, accidents or Suicide.\n",
    "lets look at the proportion of all causes, and filter out the data which might causing imbalance in the proportion"
   ]
  },
  {
   "cell_type": "code",
   "execution_count": 22,
   "id": "magnetic-latex",
   "metadata": {},
   "outputs": [],
   "source": [
    "data = data.loc[ data[ output_column ] == 0 ].sample( 2200, random_state = 42 ).append( data.loc[ data[ output_column ].isin( [ 1, 2 ] ) ] ).reset_index( drop = True )"
   ]
  },
  {
   "cell_type": "code",
   "execution_count": 23,
   "id": "rubber-ordinary",
   "metadata": {},
   "outputs": [
    {
     "data": {
      "text/html": [
       "<div>\n",
       "<style scoped>\n",
       "    .dataframe tbody tr th:only-of-type {\n",
       "        vertical-align: middle;\n",
       "    }\n",
       "\n",
       "    .dataframe tbody tr th {\n",
       "        vertical-align: top;\n",
       "    }\n",
       "\n",
       "    .dataframe thead th {\n",
       "        text-align: right;\n",
       "    }\n",
       "</style>\n",
       "<table border=\"1\" class=\"dataframe\">\n",
       "  <thead>\n",
       "    <tr style=\"text-align: right;\">\n",
       "      <th></th>\n",
       "      <th>Age</th>\n",
       "      <th>Sex</th>\n",
       "      <th>Pob</th>\n",
       "      <th>Hhnum</th>\n",
       "      <th>Majocc</th>\n",
       "      <th>Majind</th>\n",
       "      <th>Follow</th>\n",
       "      <th>Ssnyn</th>\n",
       "      <th>Stater</th>\n",
       "      <th>Suicide</th>\n",
       "      <th>Working</th>\n",
       "    </tr>\n",
       "  </thead>\n",
       "  <tbody>\n",
       "    <tr>\n",
       "      <th>5286</th>\n",
       "      <td>60-90</td>\n",
       "      <td>1</td>\n",
       "      <td>Born in the U.S.</td>\n",
       "      <td>2</td>\n",
       "      <td>-1</td>\n",
       "      <td>-1</td>\n",
       "      <td>4</td>\n",
       "      <td>1</td>\n",
       "      <td>South Atlantic Division</td>\n",
       "      <td>2</td>\n",
       "      <td>0</td>\n",
       "    </tr>\n",
       "    <tr>\n",
       "      <th>4833</th>\n",
       "      <td>31-59</td>\n",
       "      <td>1</td>\n",
       "      <td>Born in the U.S.</td>\n",
       "      <td>4</td>\n",
       "      <td>08</td>\n",
       "      <td>05</td>\n",
       "      <td>11</td>\n",
       "      <td>1</td>\n",
       "      <td>West North Central Division</td>\n",
       "      <td>1</td>\n",
       "      <td>1</td>\n",
       "    </tr>\n",
       "    <tr>\n",
       "      <th>3040</th>\n",
       "      <td>19-30</td>\n",
       "      <td>2</td>\n",
       "      <td>Born in the U.S.</td>\n",
       "      <td>3</td>\n",
       "      <td>-1</td>\n",
       "      <td>-1</td>\n",
       "      <td>8</td>\n",
       "      <td>1</td>\n",
       "      <td>West South Central Division</td>\n",
       "      <td>2</td>\n",
       "      <td>0</td>\n",
       "    </tr>\n",
       "    <tr>\n",
       "      <th>1018</th>\n",
       "      <td>13-18</td>\n",
       "      <td>2</td>\n",
       "      <td>Born in the U.S.</td>\n",
       "      <td>4</td>\n",
       "      <td>-1</td>\n",
       "      <td>-1</td>\n",
       "      <td>11</td>\n",
       "      <td>1</td>\n",
       "      <td>East South Central Division</td>\n",
       "      <td>0</td>\n",
       "      <td>0</td>\n",
       "    </tr>\n",
       "    <tr>\n",
       "      <th>2424</th>\n",
       "      <td>31-59</td>\n",
       "      <td>2</td>\n",
       "      <td>Born in the U.S.</td>\n",
       "      <td>4</td>\n",
       "      <td>10</td>\n",
       "      <td>05</td>\n",
       "      <td>3</td>\n",
       "      <td>1</td>\n",
       "      <td>West North Central Division</td>\n",
       "      <td>1</td>\n",
       "      <td>1</td>\n",
       "    </tr>\n",
       "  </tbody>\n",
       "</table>\n",
       "</div>"
      ],
      "text/plain": [
       "        Age Sex               Pob Hhnum Majocc Majind Follow Ssnyn  \\\n",
       "5286  60-90   1  Born in the U.S.     2     -1     -1      4     1   \n",
       "4833  31-59   1  Born in the U.S.     4     08     05     11     1   \n",
       "3040  19-30   2  Born in the U.S.     3     -1     -1      8     1   \n",
       "1018  13-18   2  Born in the U.S.     4     -1     -1     11     1   \n",
       "2424  31-59   2  Born in the U.S.     4     10     05      3     1   \n",
       "\n",
       "                           Stater Suicide Working  \n",
       "5286      South Atlantic Division       2       0  \n",
       "4833  West North Central Division       1       1  \n",
       "3040  West South Central Division       2       0  \n",
       "1018  East South Central Division       0       0  \n",
       "2424  West North Central Division       1       1  "
      ]
     },
     "execution_count": 23,
     "metadata": {},
     "output_type": "execute_result"
    }
   ],
   "source": [
    "data.sample(5)"
   ]
  },
  {
   "cell_type": "markdown",
   "id": "parliamentary-subdivision",
   "metadata": {},
   "source": [
    "#### Impute Missing Values"
   ]
  },
  {
   "cell_type": "code",
   "execution_count": 24,
   "id": "parental-database",
   "metadata": {},
   "outputs": [
    {
     "name": "stderr",
     "output_type": "stream",
     "text": [
      "c:\\python\\python37\\lib\\site-packages\\sklearn\\utils\\deprecation.py:144: FutureWarning: The sklearn.neighbors.base module is  deprecated in version 0.22 and will be removed in version 0.24. The corresponding classes / functions should instead be imported from sklearn.neighbors. Anything that cannot be imported from sklearn.neighbors is now part of the private API.\n",
      "  warnings.warn(message, FutureWarning)\n",
      "c:\\python\\python37\\lib\\site-packages\\missingpy\\missforest.py:528: UserWarning: No missing value located; returning original dataset.\n",
      "  warnings.warn(\"No missing value located; returning original \"\n"
     ]
    }
   ],
   "source": [
    "from missingpy import MissForest\n",
    "\n",
    "imputer = MissForest()\n",
    "set_aside_cols = [ 'Age', 'Suicide', 'Pob', 'Stater' ]\n",
    "imputed_cols = data.drop( columns = set_aside_cols ).columns\n",
    "\n",
    "data_copy = imputer.fit_transform( data.drop( columns = set_aside_cols ) )\n",
    "data_copy = pd.DataFrame( data_copy, columns = imputed_cols )\n",
    "data_copy = data_copy.astype(int)\n",
    "data_copy = data_copy.astype( 'category' )\n",
    "data_copy = pd.concat( [ data_copy, data[ set_aside_cols ] ], axis = 1 )\n",
    "data = data_copy"
   ]
  },
  {
   "cell_type": "code",
   "execution_count": 25,
   "id": "novel-cleanup",
   "metadata": {
    "scrolled": true
   },
   "outputs": [
    {
     "data": {
      "text/plain": [
       "Sex        0\n",
       "Hhnum      0\n",
       "Majocc     0\n",
       "Majind     0\n",
       "Follow     0\n",
       "Ssnyn      0\n",
       "Working    0\n",
       "Age        0\n",
       "Suicide    0\n",
       "Pob        0\n",
       "Stater     0\n",
       "dtype: int64"
      ]
     },
     "execution_count": 25,
     "metadata": {},
     "output_type": "execute_result"
    }
   ],
   "source": [
    "data.isnull().sum()"
   ]
  },
  {
   "cell_type": "code",
   "execution_count": 26,
   "id": "grand-decline",
   "metadata": {},
   "outputs": [
    {
     "name": "stdout",
     "output_type": "stream",
     "text": [
      "finally writing .csv file: 'data_filtered_imputed_clean.csv'\n"
     ]
    },
    {
     "data": {
      "text/plain": [
       "WindowsPath('output/data/data_filtered_imputed_clean.csv')"
      ]
     },
     "execution_count": 26,
     "metadata": {},
     "output_type": "execute_result"
    }
   ],
   "source": [
    "# backup the extracted data to use in further analysis\n",
    "write_excel_sheet_v2( data, \"output/data/data_filtered_imputed_clean.csv\")"
   ]
  },
  {
   "cell_type": "code",
   "execution_count": 27,
   "id": "forbidden-policy",
   "metadata": {},
   "outputs": [
    {
     "data": {
      "text/html": [
       "<div>\n",
       "<style scoped>\n",
       "    .dataframe tbody tr th:only-of-type {\n",
       "        vertical-align: middle;\n",
       "    }\n",
       "\n",
       "    .dataframe tbody tr th {\n",
       "        vertical-align: top;\n",
       "    }\n",
       "\n",
       "    .dataframe thead th {\n",
       "        text-align: right;\n",
       "    }\n",
       "</style>\n",
       "<table border=\"1\" class=\"dataframe\">\n",
       "  <thead>\n",
       "    <tr style=\"text-align: right;\">\n",
       "      <th></th>\n",
       "      <th>Outcome</th>\n",
       "      <th>number_of_rows</th>\n",
       "    </tr>\n",
       "  </thead>\n",
       "  <tbody>\n",
       "    <tr>\n",
       "      <th>0</th>\n",
       "      <td>Natural</td>\n",
       "      <td>2200</td>\n",
       "    </tr>\n",
       "    <tr>\n",
       "      <th>1</th>\n",
       "      <td>Accident</td>\n",
       "      <td>2182</td>\n",
       "    </tr>\n",
       "    <tr>\n",
       "      <th>2</th>\n",
       "      <td>Suicide</td>\n",
       "      <td>2139</td>\n",
       "    </tr>\n",
       "    <tr>\n",
       "      <th>3</th>\n",
       "      <td>Total</td>\n",
       "      <td>6521</td>\n",
       "    </tr>\n",
       "  </tbody>\n",
       "</table>\n",
       "</div>"
      ],
      "text/plain": [
       "    Outcome  number_of_rows\n",
       "0   Natural            2200\n",
       "1  Accident            2182\n",
       "2   Suicide            2139\n",
       "3     Total            6521"
      ]
     },
     "execution_count": 27,
     "metadata": {},
     "output_type": "execute_result"
    }
   ],
   "source": [
    "tmp = data[output_column].value_counts().reset_index()\n",
    "tmp.columns = [ \"Outcome\", \"number_of_rows\" ]\n",
    "tmp.Outcome = [ \"Natural\", \"Accident\", \"Suicide\" ]\n",
    "tmp.loc[3] = [ 'Total', 2200+2182+2139 ]\n",
    "tmp"
   ]
  },
  {
   "cell_type": "markdown",
   "id": "surprising-match",
   "metadata": {},
   "source": [
    "|  Outcome | number_of_rows |\n",
    "|:--------:|:--------------:|\n",
    "|  Natural |      2200      |\n",
    "| Accident |      2182      |\n",
    "|  Suicide |      2139      |\n",
    "|   Total  |      6521      |"
   ]
  },
  {
   "cell_type": "markdown",
   "id": "convinced-vietnam",
   "metadata": {},
   "source": [
    "### Visualize\n",
    "\n",
    "lets try looking at the effect of attributes towards the outcome variable.\n",
    "We have filtered the attributes to see, only with the ones which have not more than 6 distinct values in the data, and these are: <code> cols_to_plot <code>"
   ]
  },
  {
   "cell_type": "code",
   "execution_count": 28,
   "id": "unusual-handy",
   "metadata": {},
   "outputs": [
    {
     "name": "stdout",
     "output_type": "stream",
     "text": [
      "plotting 'Sex', 'Ssnyn', 'Working', 'Age' for its effect on deaths\n"
     ]
    }
   ],
   "source": [
    "# lets look at the effect of columns (with not mroe than 6 unqiue categories) with the output column\n",
    "cols_to_plot = [ x for x in data.columns if ( data[x].unique().shape[0] <= 6 ) and x != 'Suicide' ]\n",
    "\n",
    "print( \"plotting '{0}' for its effect on deaths\".format( \"', '\".join( cols_to_plot ) ) )"
   ]
  },
  {
   "cell_type": "markdown",
   "id": "dried-apollo",
   "metadata": {},
   "source": [
    "the below plots find the count of categories of an attribute against the outcome (which is Suicide, Accident, or health issues related death)\n",
    "To find a precise proportion of the effect, we are dividing the attribute totals by the sum total of the attribute in the category.\n",
    "For example: if we plot Race against deaths, we'll find the data to have values as below:\n",
    "\n",
    "| Race_category | Natural | Suicide | Accident |\n",
    "|:-------------:|:-------:|:-------:|:--------:|\n",
    "|       1       |   1884  |   1963  |   1572   |\n",
    "|       2       |   227   |   104   |    508   |\n",
    "|       3       |    28   |    35   |    51    |\n",
    "|       4       |    54   |    35   |    41    |\n",
    "|       5       |    7    |    2    |    10    |\n",
    "\n",
    "this makes it looks like the Race = 1 (White) have most number of deaths, but when we compare it with the total proportion of values in the data, we can see the exact picture. Please see below:\n",
    "\n",
    "| Race_category | Natural | Suicide | Accident | totals |\n",
    "|:-------------:|:-------:|:-------:|:--------:|:------:|\n",
    "|       1       |   1884  |   1963  |   1572   |  5419  |\n",
    "|       2       |   227   |   104   |    508   |   839  |\n",
    "|       3       |    28   |    35   |    51    |   114  |\n",
    "|       4       |    54   |    35   |    41    |   130  |\n",
    "|       5       |    7    |    2    |    10    |   19   |\n",
    "\n",
    "which actually makes the proportion of the cause of deaths as below:\n",
    "\n",
    "| Race_category |  Natural |  Suicide | Accident | totals |\n",
    "|:-------------:|:--------:|:--------:|:--------:|:------:|\n",
    "|       1       | 0.347666 | 0.362244 | 0.290090 |   1.0  |\n",
    "|       3       | 0.245614 | 0.307018 | 0.447368 |   1.0  |\n",
    "|       4       | 0.415385 | 0.269231 | 0.315385 |   1.0  |\n",
    "|       2       | 0.270560 | 0.123957 | 0.605483 |   1.0  |\n",
    "|       5       | 0.368421 | 0.105263 | 0.526316 |   1.0  |"
   ]
  },
  {
   "cell_type": "code",
   "execution_count": 29,
   "id": "closing-federal",
   "metadata": {},
   "outputs": [
    {
     "data": {
      "text/plain": [
       "(6521, 11)"
      ]
     },
     "execution_count": 29,
     "metadata": {},
     "output_type": "execute_result"
    }
   ],
   "source": [
    "data.shape"
   ]
  },
  {
   "cell_type": "code",
   "execution_count": 30,
   "id": "transsexual-stand",
   "metadata": {},
   "outputs": [
    {
     "data": {
      "image/png": "[encoded data removed]",
      "text/plain": [
       "<Figure size 360x288 with 1 Axes>"
      ]
     },
     "metadata": {
      "needs_background": "light"
     },
     "output_type": "display_data"
    },
    {
     "data": {
      "image/png": "[encoded data removed]",
      "text/plain": [
       "<Figure size 360x288 with 1 Axes>"
      ]
     },
     "metadata": {
      "needs_background": "light"
     },
     "output_type": "display_data"
    },
    {
     "data": {
      "image/png": "[encoded data removed]",
      "text/plain": [
       "<Figure size 360x288 with 1 Axes>"
      ]
     },
     "metadata": {
      "needs_background": "light"
     },
     "output_type": "display_data"
    },
    {
     "data": {
      "image/png": "[encoded data removed]",
      "text/plain": [
       "<Figure size 360x288 with 1 Axes>"
      ]
     },
     "metadata": {
      "needs_background": "light"
     },
     "output_type": "display_data"
    }
   ],
   "source": [
    "# plt.subplot( 4, 3, 1 )\n",
    "random.seed(1)\n",
    "for index, col in enumerate( cols_to_plot ):\n",
    "    colors = [\n",
    "    \"#{0}\".format( ''.join( [ random.choice( '0123456789ABCDEF' ) for j in range( 6 ) ] ) )\n",
    "                  for i in range( data[ col ].unique().shape[0] )\n",
    "        ]\n",
    "    ax = pd.DataFrame(\n",
    "        pd.concat([\n",
    "                data.loc[ data[ output_column ] == 0, col ].value_counts(),\n",
    "                data.loc[ data[ output_column ] == 1, col ].value_counts(),\n",
    "                data.loc[ data[ output_column ] == 2, col ].value_counts()\n",
    "            ], axis = 1\n",
    "        ).values, columns = [ 'Natural', 'Suicide', 'Accident' ],\n",
    "    index = data[ col ].unique().categories.tolist()\n",
    "    ).copy( deep = True )\n",
    "    # ax.legend( data[ col ].unique().categories.tolist() )\n",
    "    ax = ax.div( ax.sum(axis = 1), axis = 0 ).T.plot( kind ='bar', figsize = (5, 4), color = colors )\n",
    "    ax.set_title( \"Fig. {0} - {1}\".format( index + 1, col ) )"
   ]
  },
  {
   "cell_type": "markdown",
   "id": "fatal-roads",
   "metadata": {},
   "source": [
    "#### Findings\n",
    "With the above plots, we could not find any striking difference in the reasons of death by attribute. But, there are cases where one of the categories in an attribute has most death count.\n",
    "For example: \n",
    "1. Race = 2 ( Black ) has had most accidents in comparison to other 4 categories of Race\n",
    "2. Race = 1 (White) has had most suicides, and\n",
    "3. Race = 5 (Other non white) have had most deaths due to health issues\n",
    "\n",
    "Although, we cannot yet comment if any of the attributes has driven towards intentional loss of life.\n",
    "We'll try and explore the data further using Random forest, to also find out important factors using permutation importance of the variable.\n",
    "\n",
    "#### Modelling\n",
    "We'll try modelling the data in two ways:\n",
    "1. use the data with their category codes (which are represented as numbers)\n",
    "2. one-hot encode the data to have an individual column which describes its effect in binary"
   ]
  },
  {
   "cell_type": "code",
   "execution_count": 31,
   "id": "worldwide-decimal",
   "metadata": {},
   "outputs": [],
   "source": [
    "accuracy_scores_rf = {}\n",
    "train_accuracy_scores_rf = {}"
   ]
  },
  {
   "cell_type": "code",
   "execution_count": 32,
   "id": "minimal-scratch",
   "metadata": {},
   "outputs": [
    {
     "data": {
      "text/plain": [
       "[31-59, 60-90, 19-30, 6-12, 13-18, 0-5]\n",
       "Categories (6, object): [0-5 < 6-12 < 13-18 < 19-30 < 31-59 < 60-90]"
      ]
     },
     "execution_count": 32,
     "metadata": {},
     "output_type": "execute_result"
    }
   ],
   "source": [
    "data['Age'].unique()"
   ]
  },
  {
   "cell_type": "code",
   "execution_count": 33,
   "id": "textile-pressing",
   "metadata": {},
   "outputs": [],
   "source": [
    "# lets convert Age groups into number codes, so as to make the data eligible for use by Random Forest\n",
    "data[ 'Age'] = data['Age'].cat.codes.values\n",
    "data[ 'Pob' ] = data[ 'Pob' ].cat.codes.values\n",
    "data[ 'Stater' ] = data[ 'Stater' ].cat.codes.values"
   ]
  },
  {
   "cell_type": "code",
   "execution_count": 34,
   "id": "robust-express",
   "metadata": {},
   "outputs": [],
   "source": [
    "data_copy = data.copy(deep = True)\n",
    "data = data.loc[ data[ output_column ].isin( [ 1, 0 ] ) ].reset_index( drop = True )"
   ]
  },
  {
   "cell_type": "code",
   "execution_count": 35,
   "id": "unknown-toronto",
   "metadata": {},
   "outputs": [
    {
     "name": "stdout",
     "output_type": "stream",
     "text": [
      "Accuracy: 0.9419354838709677\n"
     ]
    }
   ],
   "source": [
    "# split data into train, and test\n",
    "X_train, X_test, y_train, y_test = fetch_train_test_split( data, output_column, random_state = 42, stratify = True )\n",
    "\n",
    "# create RF classifier\n",
    "rf_model = get_rf_model( X_train, y_train, output_column, random_state = 42 )\n",
    "# calculate accuracy\n",
    "accuracy_scores_rf[ 'rf_raw' ] = accuracy_score( y_test, rf_model.predict( X_test ) )\n",
    "train_accuracy_scores_rf[ 'rf_raw' ] = accuracy_score( y_train, rf_model.predict( X_train ) )\n",
    "print( \"Accuracy: {0}\".format( accuracy_scores_rf[ 'rf_raw' ] ) )"
   ]
  },
  {
   "cell_type": "code",
   "execution_count": 36,
   "id": "proof-graduation",
   "metadata": {},
   "outputs": [
    {
     "data": {
      "text/html": [
       "\n",
       "    <style>\n",
       "    table.eli5-weights tr:hover {\n",
       "        filter: brightness(85%);\n",
       "    }\n",
       "</style>\n",
       "\n",
       "\n",
       "\n",
       "    \n",
       "\n",
       "    \n",
       "\n",
       "    \n",
       "\n",
       "    \n",
       "\n",
       "    \n",
       "\n",
       "    \n",
       "\n",
       "\n",
       "    \n",
       "\n",
       "    \n",
       "\n",
       "    \n",
       "\n",
       "    \n",
       "\n",
       "    \n",
       "\n",
       "    \n",
       "\n",
       "\n",
       "    \n",
       "\n",
       "    \n",
       "\n",
       "    \n",
       "\n",
       "    \n",
       "\n",
       "    \n",
       "        <table class=\"eli5-weights eli5-feature-importances\" style=\"border-collapse: collapse; border: none; margin-top: 0em; table-layout: auto;\">\n",
       "    <thead>\n",
       "    <tr style=\"border: none;\">\n",
       "        <th style=\"padding: 0 1em 0 0.5em; text-align: right; border: none;\">Weight</th>\n",
       "        <th style=\"padding: 0 0.5em 0 0.5em; text-align: left; border: none;\">Feature</th>\n",
       "    </tr>\n",
       "    </thead>\n",
       "    <tbody>\n",
       "    \n",
       "        <tr style=\"background-color: hsl(120, 100.00%, 80.00%); border: none;\">\n",
       "            <td style=\"padding: 0 1em 0 0.5em; text-align: right; border: none;\">\n",
       "                0.4315\n",
       "                \n",
       "                    &plusmn; 0.0342\n",
       "                \n",
       "            </td>\n",
       "            <td style=\"padding: 0 0.5em 0 0.5em; text-align: left; border: none;\">\n",
       "                Follow\n",
       "            </td>\n",
       "        </tr>\n",
       "    \n",
       "        <tr style=\"background-color: hsl(120, 100.00%, 98.57%); border: none;\">\n",
       "            <td style=\"padding: 0 1em 0 0.5em; text-align: right; border: none;\">\n",
       "                0.0100\n",
       "                \n",
       "                    &plusmn; 0.0036\n",
       "                \n",
       "            </td>\n",
       "            <td style=\"padding: 0 0.5em 0 0.5em; text-align: left; border: none;\">\n",
       "                Sex\n",
       "            </td>\n",
       "        </tr>\n",
       "    \n",
       "        <tr style=\"background-color: hsl(120, 100.00%, 99.19%); border: none;\">\n",
       "            <td style=\"padding: 0 1em 0 0.5em; text-align: right; border: none;\">\n",
       "                0.0044\n",
       "                \n",
       "                    &plusmn; 0.0036\n",
       "                \n",
       "            </td>\n",
       "            <td style=\"padding: 0 0.5em 0 0.5em; text-align: left; border: none;\">\n",
       "                Hhnum\n",
       "            </td>\n",
       "        </tr>\n",
       "    \n",
       "        <tr style=\"background-color: hsl(120, 100.00%, 99.29%); border: none;\">\n",
       "            <td style=\"padding: 0 1em 0 0.5em; text-align: right; border: none;\">\n",
       "                0.0037\n",
       "                \n",
       "                    &plusmn; 0.0062\n",
       "                \n",
       "            </td>\n",
       "            <td style=\"padding: 0 0.5em 0 0.5em; text-align: left; border: none;\">\n",
       "                Stater\n",
       "            </td>\n",
       "        </tr>\n",
       "    \n",
       "        <tr style=\"background-color: hsl(120, 100.00%, 99.81%); border: none;\">\n",
       "            <td style=\"padding: 0 1em 0 0.5em; text-align: right; border: none;\">\n",
       "                0.0006\n",
       "                \n",
       "                    &plusmn; 0.0015\n",
       "                \n",
       "            </td>\n",
       "            <td style=\"padding: 0 0.5em 0 0.5em; text-align: left; border: none;\">\n",
       "                Pob\n",
       "            </td>\n",
       "        </tr>\n",
       "    \n",
       "        <tr style=\"background-color: hsl(120, 100.00%, 99.86%); border: none;\">\n",
       "            <td style=\"padding: 0 1em 0 0.5em; text-align: right; border: none;\">\n",
       "                0.0004\n",
       "                \n",
       "                    &plusmn; 0.0025\n",
       "                \n",
       "            </td>\n",
       "            <td style=\"padding: 0 0.5em 0 0.5em; text-align: left; border: none;\">\n",
       "                Age\n",
       "            </td>\n",
       "        </tr>\n",
       "    \n",
       "        <tr style=\"background-color: hsl(120, 100.00%, 99.86%); border: none;\">\n",
       "            <td style=\"padding: 0 1em 0 0.5em; text-align: right; border: none;\">\n",
       "                0.0004\n",
       "                \n",
       "                    &plusmn; 0.0038\n",
       "                \n",
       "            </td>\n",
       "            <td style=\"padding: 0 0.5em 0 0.5em; text-align: left; border: none;\">\n",
       "                Majind\n",
       "            </td>\n",
       "        </tr>\n",
       "    \n",
       "        <tr style=\"background-color: hsl(0, 100.00%, 99.77%); border: none;\">\n",
       "            <td style=\"padding: 0 1em 0 0.5em; text-align: right; border: none;\">\n",
       "                -0.0007\n",
       "                \n",
       "                    &plusmn; 0.0034\n",
       "                \n",
       "            </td>\n",
       "            <td style=\"padding: 0 0.5em 0 0.5em; text-align: left; border: none;\">\n",
       "                Ssnyn\n",
       "            </td>\n",
       "        </tr>\n",
       "    \n",
       "        <tr style=\"background-color: hsl(0, 100.00%, 99.53%); border: none;\">\n",
       "            <td style=\"padding: 0 1em 0 0.5em; text-align: right; border: none;\">\n",
       "                -0.0020\n",
       "                \n",
       "                    &plusmn; 0.0014\n",
       "                \n",
       "            </td>\n",
       "            <td style=\"padding: 0 0.5em 0 0.5em; text-align: left; border: none;\">\n",
       "                Working\n",
       "            </td>\n",
       "        </tr>\n",
       "    \n",
       "        <tr style=\"background-color: hsl(0, 100.00%, 99.47%); border: none;\">\n",
       "            <td style=\"padding: 0 1em 0 0.5em; text-align: right; border: none;\">\n",
       "                -0.0024\n",
       "                \n",
       "                    &plusmn; 0.0047\n",
       "                \n",
       "            </td>\n",
       "            <td style=\"padding: 0 0.5em 0 0.5em; text-align: left; border: none;\">\n",
       "                Majocc\n",
       "            </td>\n",
       "        </tr>\n",
       "    \n",
       "    \n",
       "    </tbody>\n",
       "</table>\n",
       "    \n",
       "\n",
       "    \n",
       "\n",
       "\n",
       "    \n",
       "\n",
       "    \n",
       "\n",
       "    \n",
       "\n",
       "    \n",
       "\n",
       "    \n",
       "\n",
       "    \n",
       "\n",
       "\n",
       "\n"
      ],
      "text/plain": [
       "<IPython.core.display.HTML object>"
      ]
     },
     "execution_count": 36,
     "metadata": {},
     "output_type": "execute_result"
    }
   ],
   "source": [
    "perm = PermutationImportance( rf_model, random_state = 42 ).fit( X_test, y_test )\n",
    "eli5.show_weights( perm, feature_names = X_test.columns.tolist() )"
   ]
  },
  {
   "cell_type": "markdown",
   "id": "cutting-standard",
   "metadata": {},
   "source": [
    "Here, the data shows follow-up period to be the most important factor. But, since the attribute only represents the number of days an indivudal as followed by the survey team. It cannot drive a persons health. \n",
    "Lets get rid of this variable, and assess again."
   ]
  },
  {
   "cell_type": "code",
   "execution_count": 37,
   "id": "cordless-programmer",
   "metadata": {},
   "outputs": [],
   "source": [
    "data.drop( columns = [ 'Follow' ], inplace = True, errors = 'ignore' )"
   ]
  },
  {
   "cell_type": "code",
   "execution_count": 38,
   "id": "backed-tuning",
   "metadata": {},
   "outputs": [
    {
     "name": "stdout",
     "output_type": "stream",
     "text": [
      "Accuracy with test data: 0.6488479262672812\n"
     ]
    },
    {
     "data": {
      "text/html": [
       "\n",
       "    <style>\n",
       "    table.eli5-weights tr:hover {\n",
       "        filter: brightness(85%);\n",
       "    }\n",
       "</style>\n",
       "\n",
       "\n",
       "\n",
       "    \n",
       "\n",
       "    \n",
       "\n",
       "    \n",
       "\n",
       "    \n",
       "\n",
       "    \n",
       "\n",
       "    \n",
       "\n",
       "\n",
       "    \n",
       "\n",
       "    \n",
       "\n",
       "    \n",
       "\n",
       "    \n",
       "\n",
       "    \n",
       "\n",
       "    \n",
       "\n",
       "\n",
       "    \n",
       "\n",
       "    \n",
       "\n",
       "    \n",
       "\n",
       "    \n",
       "\n",
       "    \n",
       "        <table class=\"eli5-weights eli5-feature-importances\" style=\"border-collapse: collapse; border: none; margin-top: 0em; table-layout: auto;\">\n",
       "    <thead>\n",
       "    <tr style=\"border: none;\">\n",
       "        <th style=\"padding: 0 1em 0 0.5em; text-align: right; border: none;\">Weight</th>\n",
       "        <th style=\"padding: 0 0.5em 0 0.5em; text-align: left; border: none;\">Feature</th>\n",
       "    </tr>\n",
       "    </thead>\n",
       "    <tbody>\n",
       "    \n",
       "        <tr style=\"background-color: hsl(120, 100.00%, 80.00%); border: none;\">\n",
       "            <td style=\"padding: 0 1em 0 0.5em; text-align: right; border: none;\">\n",
       "                0.0855\n",
       "                \n",
       "                    &plusmn; 0.0204\n",
       "                \n",
       "            </td>\n",
       "            <td style=\"padding: 0 0.5em 0 0.5em; text-align: left; border: none;\">\n",
       "                Sex\n",
       "            </td>\n",
       "        </tr>\n",
       "    \n",
       "        <tr style=\"background-color: hsl(120, 100.00%, 88.25%); border: none;\">\n",
       "            <td style=\"padding: 0 1em 0 0.5em; text-align: right; border: none;\">\n",
       "                0.0400\n",
       "                \n",
       "                    &plusmn; 0.0162\n",
       "                \n",
       "            </td>\n",
       "            <td style=\"padding: 0 0.5em 0 0.5em; text-align: left; border: none;\">\n",
       "                Hhnum\n",
       "            </td>\n",
       "        </tr>\n",
       "    \n",
       "        <tr style=\"background-color: hsl(120, 100.00%, 92.84%); border: none;\">\n",
       "            <td style=\"padding: 0 1em 0 0.5em; text-align: right; border: none;\">\n",
       "                0.0197\n",
       "                \n",
       "                    &plusmn; 0.0097\n",
       "                \n",
       "            </td>\n",
       "            <td style=\"padding: 0 0.5em 0 0.5em; text-align: left; border: none;\">\n",
       "                Age\n",
       "            </td>\n",
       "        </tr>\n",
       "    \n",
       "        <tr style=\"background-color: hsl(120, 100.00%, 93.22%); border: none;\">\n",
       "            <td style=\"padding: 0 1em 0 0.5em; text-align: right; border: none;\">\n",
       "                0.0182\n",
       "                \n",
       "                    &plusmn; 0.0283\n",
       "                \n",
       "            </td>\n",
       "            <td style=\"padding: 0 0.5em 0 0.5em; text-align: left; border: none;\">\n",
       "                Stater\n",
       "            </td>\n",
       "        </tr>\n",
       "    \n",
       "        <tr style=\"background-color: hsl(120, 100.00%, 94.73%); border: none;\">\n",
       "            <td style=\"padding: 0 1em 0 0.5em; text-align: right; border: none;\">\n",
       "                0.0127\n",
       "                \n",
       "                    &plusmn; 0.0183\n",
       "                \n",
       "            </td>\n",
       "            <td style=\"padding: 0 0.5em 0 0.5em; text-align: left; border: none;\">\n",
       "                Ssnyn\n",
       "            </td>\n",
       "        </tr>\n",
       "    \n",
       "        <tr style=\"background-color: hsl(120, 100.00%, 98.19%); border: none;\">\n",
       "            <td style=\"padding: 0 1em 0 0.5em; text-align: right; border: none;\">\n",
       "                0.0028\n",
       "                \n",
       "                    &plusmn; 0.0093\n",
       "                \n",
       "            </td>\n",
       "            <td style=\"padding: 0 0.5em 0 0.5em; text-align: left; border: none;\">\n",
       "                Pob\n",
       "            </td>\n",
       "        </tr>\n",
       "    \n",
       "        <tr style=\"background-color: hsl(120, 100.00%, 98.73%); border: none;\">\n",
       "            <td style=\"padding: 0 1em 0 0.5em; text-align: right; border: none;\">\n",
       "                0.0017\n",
       "                \n",
       "                    &plusmn; 0.0105\n",
       "                \n",
       "            </td>\n",
       "            <td style=\"padding: 0 0.5em 0 0.5em; text-align: left; border: none;\">\n",
       "                Majind\n",
       "            </td>\n",
       "        </tr>\n",
       "    \n",
       "        <tr style=\"background-color: hsl(120, 100.00%, 99.41%); border: none;\">\n",
       "            <td style=\"padding: 0 1em 0 0.5em; text-align: right; border: none;\">\n",
       "                0.0006\n",
       "                \n",
       "                    &plusmn; 0.0150\n",
       "                \n",
       "            </td>\n",
       "            <td style=\"padding: 0 0.5em 0 0.5em; text-align: left; border: none;\">\n",
       "                Majocc\n",
       "            </td>\n",
       "        </tr>\n",
       "    \n",
       "        <tr style=\"background-color: hsl(0, 100.00%, 99.56%); border: none;\">\n",
       "            <td style=\"padding: 0 1em 0 0.5em; text-align: right; border: none;\">\n",
       "                -0.0004\n",
       "                \n",
       "                    &plusmn; 0.0057\n",
       "                \n",
       "            </td>\n",
       "            <td style=\"padding: 0 0.5em 0 0.5em; text-align: left; border: none;\">\n",
       "                Working\n",
       "            </td>\n",
       "        </tr>\n",
       "    \n",
       "    \n",
       "    </tbody>\n",
       "</table>\n",
       "    \n",
       "\n",
       "    \n",
       "\n",
       "\n",
       "    \n",
       "\n",
       "    \n",
       "\n",
       "    \n",
       "\n",
       "    \n",
       "\n",
       "    \n",
       "\n",
       "    \n",
       "\n",
       "\n",
       "\n"
      ],
      "text/plain": [
       "<IPython.core.display.HTML object>"
      ]
     },
     "execution_count": 38,
     "metadata": {},
     "output_type": "execute_result"
    }
   ],
   "source": [
    "# split data into train, and test\n",
    "X_train, X_test, y_train, y_test = fetch_train_test_split( data, output_column, random_state = 42, stratify = True )\n",
    "\n",
    "# create RF classifier\n",
    "rf_model = get_rf_model( X_train, y_train, output_column, random_state = 42 )\n",
    "# calculate accuracy\n",
    "accuracy_scores_rf[ 'rf_raw' ] = accuracy_score_rf = accuracy_score( y_test, rf_model.predict( X_test ) )\n",
    "train_accuracy_scores_rf[ 'rf_raw' ] = accuracy_score_rf = accuracy_score( y_train, rf_model.predict( X_train ) )\n",
    "print( \"Accuracy with test data: {0}\".format( accuracy_scores_rf[ 'rf_raw' ] ) )\n",
    "\n",
    "perm = PermutationImportance( rf_model, random_state = 42 ).fit( X_test, y_test )\n",
    "eli5.show_weights( perm, feature_names = X_test.columns.tolist() )"
   ]
  },
  {
   "cell_type": "code",
   "execution_count": 39,
   "id": "blind-evanescence",
   "metadata": {},
   "outputs": [
    {
     "data": {
      "text/markdown": [
       "Now, the accuracy of the model has reduced to 64.88000000000001%, and the most important variables now seem to be Gender, and Race."
      ],
      "text/plain": [
       "<IPython.core.display.Markdown object>"
      ]
     },
     "execution_count": 39,
     "metadata": {},
     "output_type": "execute_result"
    }
   ],
   "source": [
    "md( \"Now, the accuracy of the model has reduced to {0}%, and the most important variables now seem to be Gender, and Race.\".format( round( accuracy_scores_rf[ 'rf_raw' ], 4 ) * 100 ) )"
   ]
  },
  {
   "cell_type": "code",
   "execution_count": 40,
   "id": "surgical-winner",
   "metadata": {},
   "outputs": [],
   "source": [
    "from sklearn.feature_selection import RFE\n",
    "rfe = RFE( rf_model, n_features_to_select = round( 0.8 * len(X_train.columns) ), step = 1 )\n",
    "rfe.fit( X_train, y_train )\n",
    "\n",
    "important_features = X_train.columns[ rfe.get_support(True) ]\n",
    "unimportant_features = np.setdiff1d( X_train.columns, important_features )"
   ]
  },
  {
   "cell_type": "code",
   "execution_count": 41,
   "id": "attractive-straight",
   "metadata": {},
   "outputs": [
    {
     "data": {
      "text/plain": [
       "array(['Ssnyn', 'Working'], dtype=object)"
      ]
     },
     "execution_count": 41,
     "metadata": {},
     "output_type": "execute_result"
    }
   ],
   "source": [
    "unimportant_features"
   ]
  },
  {
   "cell_type": "code",
   "execution_count": 42,
   "id": "constant-hazard",
   "metadata": {},
   "outputs": [
    {
     "data": {
      "text/markdown": [
       "Variables found to be of least importance: 'Ssnyn', 'Working'.\n",
       "    \n",
       "| Variable |                       Definition                      |\n",
       "|:--------:|:-----------------------------------------------------:|\n",
       "| Histatus |                Health Insurance Status                |\n",
       "|    Race    |                     Race                    |\n",
       "|  Working |                   Employment status                   |\n",
       "| Hisp     | Hispanic origin( Mexican, Non Mexican, Non-Hispanic ) |\n",
       "\n",
       "Same can be validated with the importance from Permutation importance below:"
      ],
      "text/plain": [
       "<IPython.core.display.Markdown object>"
      ]
     },
     "execution_count": 42,
     "metadata": {},
     "output_type": "execute_result"
    }
   ],
   "source": [
    "md( \n",
    "    \"\"\"Variables found to be of least importance: '{0}'.\n",
    "    \n",
    "| Variable |                       Definition                      |\n",
    "|:--------:|:-----------------------------------------------------:|\n",
    "| Histatus |                Health Insurance Status                |\n",
    "|    Race    |                     Race                    |\n",
    "|  Working |                   Employment status                   |\n",
    "| Hisp     | Hispanic origin( Mexican, Non Mexican, Non-Hispanic ) |\n",
    "\n",
    "Same can be validated with the importance from Permutation importance below:\"\"\".format(\n",
    "    \"', '\".join( unimportant_features ) )\n",
    ")\n"
   ]
  },
  {
   "cell_type": "code",
   "execution_count": 43,
   "id": "jewish-powell",
   "metadata": {},
   "outputs": [
    {
     "data": {
      "text/plain": [
       "[('Sex', 0.08552995391705076),\n",
       " ('Hhnum', 0.040000000000000015),\n",
       " ('Age', 0.019723502304147524),\n",
       " ('Stater', 0.018248847926267332),\n",
       " ('Ssnyn', 0.012718894009216618),\n",
       " ('Pob', 0.0027649769585254003),\n",
       " ('Majind', 0.0016589861751152624),\n",
       " ('Majocc', 0.0005529953917051244),\n",
       " ('Working', -0.0003686635944699868)]"
      ]
     },
     "execution_count": 43,
     "metadata": {},
     "output_type": "execute_result"
    }
   ],
   "source": [
    "feature_imp = dict( zip( X_test.columns, perm.feature_importances_ ) )\n",
    "sorted( feature_imp.items(), key = lambda x : x[1], reverse = True )"
   ]
  },
  {
   "cell_type": "markdown",
   "id": "civic-pharmacy",
   "metadata": {},
   "source": [
    "#### re-building the model using only the important featues now"
   ]
  },
  {
   "cell_type": "code",
   "execution_count": 44,
   "id": "fabulous-brazilian",
   "metadata": {},
   "outputs": [
    {
     "name": "stdout",
     "output_type": "stream",
     "text": [
      "Accuracy: 0.6387096774193548\n"
     ]
    }
   ],
   "source": [
    "X_train, X_test, y_train, y_test = fetch_train_test_split( data[ important_features.tolist() + [output_column] ], output_column, random_state = 42, stratify = True )\n",
    "# re-create the model with new data shape\n",
    "rf_model = get_rf_model( X_train, y_train, output_column )\n",
    "# calculate accuracy\n",
    "accuracy_scores_rf[ 'rf_raw_with_imp_cols' ] = accuracy_score( y_test, rf_model.predict( X_test ) )\n",
    "train_accuracy_scores_rf[ 'rf_raw_with_imp_cols' ] = accuracy_score( y_train, rf_model.predict( X_train ) )\n",
    "print( \"Accuracy: {0}\".format( accuracy_scores_rf[ 'rf_raw_with_imp_cols' ] ) )"
   ]
  },
  {
   "cell_type": "code",
   "execution_count": 45,
   "id": "careful-mongolia",
   "metadata": {},
   "outputs": [
    {
     "data": {
      "text/html": [
       "\n",
       "    <style>\n",
       "    table.eli5-weights tr:hover {\n",
       "        filter: brightness(85%);\n",
       "    }\n",
       "</style>\n",
       "\n",
       "\n",
       "\n",
       "    \n",
       "\n",
       "    \n",
       "\n",
       "    \n",
       "\n",
       "    \n",
       "\n",
       "    \n",
       "\n",
       "    \n",
       "\n",
       "\n",
       "    \n",
       "\n",
       "    \n",
       "\n",
       "    \n",
       "\n",
       "    \n",
       "\n",
       "    \n",
       "\n",
       "    \n",
       "\n",
       "\n",
       "    \n",
       "\n",
       "    \n",
       "\n",
       "    \n",
       "\n",
       "    \n",
       "\n",
       "    \n",
       "        <table class=\"eli5-weights eli5-feature-importances\" style=\"border-collapse: collapse; border: none; margin-top: 0em; table-layout: auto;\">\n",
       "    <thead>\n",
       "    <tr style=\"border: none;\">\n",
       "        <th style=\"padding: 0 1em 0 0.5em; text-align: right; border: none;\">Weight</th>\n",
       "        <th style=\"padding: 0 0.5em 0 0.5em; text-align: left; border: none;\">Feature</th>\n",
       "    </tr>\n",
       "    </thead>\n",
       "    <tbody>\n",
       "    \n",
       "        <tr style=\"background-color: hsl(120, 100.00%, 80.00%); border: none;\">\n",
       "            <td style=\"padding: 0 1em 0 0.5em; text-align: right; border: none;\">\n",
       "                0.0888\n",
       "                \n",
       "                    &plusmn; 0.0194\n",
       "                \n",
       "            </td>\n",
       "            <td style=\"padding: 0 0.5em 0 0.5em; text-align: left; border: none;\">\n",
       "                Sex\n",
       "            </td>\n",
       "        </tr>\n",
       "    \n",
       "        <tr style=\"background-color: hsl(120, 100.00%, 90.72%); border: none;\">\n",
       "            <td style=\"padding: 0 1em 0 0.5em; text-align: right; border: none;\">\n",
       "                0.0297\n",
       "                \n",
       "                    &plusmn; 0.0173\n",
       "                \n",
       "            </td>\n",
       "            <td style=\"padding: 0 0.5em 0 0.5em; text-align: left; border: none;\">\n",
       "                Hhnum\n",
       "            </td>\n",
       "        </tr>\n",
       "    \n",
       "        <tr style=\"background-color: hsl(120, 100.00%, 91.67%); border: none;\">\n",
       "            <td style=\"padding: 0 1em 0 0.5em; text-align: right; border: none;\">\n",
       "                0.0254\n",
       "                \n",
       "                    &plusmn; 0.0146\n",
       "                \n",
       "            </td>\n",
       "            <td style=\"padding: 0 0.5em 0 0.5em; text-align: left; border: none;\">\n",
       "                Age\n",
       "            </td>\n",
       "        </tr>\n",
       "    \n",
       "        <tr style=\"background-color: hsl(120, 100.00%, 95.24%); border: none;\">\n",
       "            <td style=\"padding: 0 1em 0 0.5em; text-align: right; border: none;\">\n",
       "                0.0114\n",
       "                \n",
       "                    &plusmn; 0.0188\n",
       "                \n",
       "            </td>\n",
       "            <td style=\"padding: 0 0.5em 0 0.5em; text-align: left; border: none;\">\n",
       "                Majind\n",
       "            </td>\n",
       "        </tr>\n",
       "    \n",
       "        <tr style=\"background-color: hsl(120, 100.00%, 95.79%); border: none;\">\n",
       "            <td style=\"padding: 0 1em 0 0.5em; text-align: right; border: none;\">\n",
       "                0.0096\n",
       "                \n",
       "                    &plusmn; 0.0131\n",
       "                \n",
       "            </td>\n",
       "            <td style=\"padding: 0 0.5em 0 0.5em; text-align: left; border: none;\">\n",
       "                Majocc\n",
       "            </td>\n",
       "        </tr>\n",
       "    \n",
       "        <tr style=\"background-color: hsl(120, 100.00%, 96.32%); border: none;\">\n",
       "            <td style=\"padding: 0 1em 0 0.5em; text-align: right; border: none;\">\n",
       "                0.0079\n",
       "                \n",
       "                    &plusmn; 0.0034\n",
       "                \n",
       "            </td>\n",
       "            <td style=\"padding: 0 0.5em 0 0.5em; text-align: left; border: none;\">\n",
       "                Pob\n",
       "            </td>\n",
       "        </tr>\n",
       "    \n",
       "        <tr style=\"background-color: hsl(120, 100.00%, 96.94%); border: none;\">\n",
       "            <td style=\"padding: 0 1em 0 0.5em; text-align: right; border: none;\">\n",
       "                0.0061\n",
       "                \n",
       "                    &plusmn; 0.0172\n",
       "                \n",
       "            </td>\n",
       "            <td style=\"padding: 0 0.5em 0 0.5em; text-align: left; border: none;\">\n",
       "                Stater\n",
       "            </td>\n",
       "        </tr>\n",
       "    \n",
       "    \n",
       "    </tbody>\n",
       "</table>\n",
       "    \n",
       "\n",
       "    \n",
       "\n",
       "\n",
       "    \n",
       "\n",
       "    \n",
       "\n",
       "    \n",
       "\n",
       "    \n",
       "\n",
       "    \n",
       "\n",
       "    \n",
       "\n",
       "\n",
       "\n"
      ],
      "text/plain": [
       "<IPython.core.display.HTML object>"
      ]
     },
     "execution_count": 45,
     "metadata": {},
     "output_type": "execute_result"
    }
   ],
   "source": [
    "perm = PermutationImportance( rf_model, random_state = 42 ).fit( X_test, y_test )\n",
    "eli5.show_weights( perm, feature_names = X_test.columns.tolist() )"
   ]
  },
  {
   "cell_type": "code",
   "execution_count": 46,
   "id": "secret-species",
   "metadata": {},
   "outputs": [
    {
     "data": {
      "text/markdown": [
       "This shows an impact of -0.01014 on the accuracy without those ['Ssnyn' 'Working'] variables."
      ],
      "text/plain": [
       "<IPython.core.display.Markdown object>"
      ]
     },
     "execution_count": 46,
     "metadata": {},
     "output_type": "execute_result"
    }
   ],
   "source": [
    "md( \n",
    "    \"\"\"This shows an impact of {0} on the accuracy without those {1} variables.\"\"\".format(\n",
    "        round( accuracy_scores_rf[ 'rf_raw_with_imp_cols' ] - accuracy_scores_rf[ 'rf_raw' ], 5), \n",
    "        unimportant_features\n",
    "    )\n",
    "  )"
   ]
  },
  {
   "cell_type": "markdown",
   "id": "accessory-determination",
   "metadata": {},
   "source": [
    "#### Factorize\n",
    "Now, we move ahead with one-hot encoding the categorical variables, and then build over it."
   ]
  },
  {
   "cell_type": "code",
   "execution_count": 47,
   "id": "parental-inspection",
   "metadata": {},
   "outputs": [
    {
     "name": "stdout",
     "output_type": "stream",
     "text": [
      "string columns found: ['Sex', 'Hhnum', 'Majocc', 'Majind', 'Ssnyn', 'Working', 'Age', 'Pob', 'Stater']\n",
      "encoding Sex, Ssnyn, Working, Age, Stater, Majocc, Pob, Hhnum, Majind using one-hot\n",
      "time taken to create dummy variables: 0.0100 secs\n",
      "\n",
      "\n",
      "Accuracy: '0.6433179723502304', change: '-0.0055'\n"
     ]
    }
   ],
   "source": [
    "# encode cartegory columns into separate columns using one-hot encoding\n",
    "factorization_technique = 'one-hot'\n",
    "data_ = encode_str_columns( data.astype(str), technique = factorization_technique, str_attributes = None, max_unique_values_allowed_for_str = None, drop_extras = False, output_column = output_column )\n",
    "\"\"\"scaler = StandardScaler()\n",
    "data_[ number_cols ] = scaler.fit_transform( data_[ number_cols ] )\"\"\"\n",
    "\n",
    "for x in data_.columns:\n",
    "    # data_[ x ] = pd.to_numeric( data_[x] )\n",
    "    data_[ x ] = data_[x].astype( int )\n",
    "\n",
    "# split into train-test\n",
    "X_train, X_test, y_train, y_test = fetch_train_test_split( data_, output_column, random_state = 42, stratify = True )\n",
    "\n",
    "# re-create the model with new data shape\n",
    "rf_model = get_rf_model( X_train, y_train, output_column )\n",
    "\n",
    "# calculate accuracy\n",
    "accuracy_scores_rf[ 'rf_raw_one_hot_encoded' ] = accuracy_score( y_test, rf_model.predict( X_test ) )\n",
    "train_accuracy_scores_rf[ 'rf_raw_one_hot_encoded' ] = accuracy_score( y_train, rf_model.predict( X_train ) )\n",
    "print( \"\\n\\nAccuracy: '{0}', change: '{1}'\".format( \n",
    "    accuracy_scores_rf[ 'rf_raw_one_hot_encoded' ], \n",
    "    round( accuracy_scores_rf[ 'rf_raw_one_hot_encoded' ] - accuracy_scores_rf[ 'rf_raw' ], 4 ) ) )"
   ]
  },
  {
   "cell_type": "code",
   "execution_count": 48,
   "id": "designing-negative",
   "metadata": {
    "scrolled": true
   },
   "outputs": [
    {
     "name": "stdout",
     "output_type": "stream",
     "text": [
      "Fitting 3 folds for each of 4320 candidates, totalling 12960 fits\n"
     ]
    },
    {
     "name": "stderr",
     "output_type": "stream",
     "text": [
      "[Parallel(n_jobs=10)]: Using backend LokyBackend with 10 concurrent workers.\n",
      "[Parallel(n_jobs=10)]: Done  21 tasks      | elapsed:    6.4s\n",
      "[Parallel(n_jobs=10)]: Done 142 tasks      | elapsed:   37.3s\n",
      "[Parallel(n_jobs=10)]: Done 345 tasks      | elapsed:  1.5min\n",
      "[Parallel(n_jobs=10)]: Done 628 tasks      | elapsed:  2.8min\n",
      "[Parallel(n_jobs=10)]: Done 993 tasks      | elapsed:  4.6min\n",
      "[Parallel(n_jobs=10)]: Done 1438 tasks      | elapsed:  6.9min\n",
      "[Parallel(n_jobs=10)]: Done 1965 tasks      | elapsed:  9.6min\n",
      "[Parallel(n_jobs=10)]: Done 2572 tasks      | elapsed: 12.7min\n",
      "[Parallel(n_jobs=10)]: Done 3261 tasks      | elapsed: 16.3min\n",
      "[Parallel(n_jobs=10)]: Done 4030 tasks      | elapsed: 20.3min\n",
      "[Parallel(n_jobs=10)]: Done 4881 tasks      | elapsed: 24.7min\n",
      "[Parallel(n_jobs=10)]: Done 5812 tasks      | elapsed: 29.6min\n",
      "[Parallel(n_jobs=10)]: Done 6825 tasks      | elapsed: 34.5min\n",
      "[Parallel(n_jobs=10)]: Done 7918 tasks      | elapsed: 40.4min\n",
      "[Parallel(n_jobs=10)]: Done 9093 tasks      | elapsed: 47.2min\n",
      "[Parallel(n_jobs=10)]: Done 10348 tasks      | elapsed: 54.6min\n",
      "[Parallel(n_jobs=10)]: Done 11685 tasks      | elapsed: 62.4min\n",
      "[Parallel(n_jobs=10)]: Done 12960 out of 12960 | elapsed: 69.9min finished\n"
     ]
    },
    {
     "data": {
      "text/plain": [
       "GridSearchCV(cv=3, error_score=nan,\n",
       "             estimator=RandomForestClassifier(bootstrap=True, ccp_alpha=0.0,\n",
       "                                              class_weight=None,\n",
       "                                              criterion='gini', max_depth=None,\n",
       "                                              max_features='auto',\n",
       "                                              max_leaf_nodes=None,\n",
       "                                              max_samples=None,\n",
       "                                              min_impurity_decrease=0.0,\n",
       "                                              min_impurity_split=None,\n",
       "                                              min_samples_leaf=1,\n",
       "                                              min_samples_split=2,\n",
       "                                              min_weight_fraction_leaf=0.0,\n",
       "                                              n_estimators=100, n_jobs=None,...\n",
       "             iid='deprecated', n_jobs=10,\n",
       "             param_grid={'bootstrap': [True, False],\n",
       "                         'max_depth': [10, 20, 30, 40, 50, 60, 70, 80, 90, 100,\n",
       "                                       110, None],\n",
       "                         'max_features': ['auto', 'sqrt'],\n",
       "                         'min_samples_leaf': [1, 2, 4],\n",
       "                         'min_samples_split': [2, 5, 10],\n",
       "                         'n_estimators': [200, 400, 600, 800, 1000, 1200, 1400,\n",
       "                                          1600, 1800, 2000]},\n",
       "             pre_dispatch='2*n_jobs', refit=True, return_train_score=False,\n",
       "             scoring='roc_auc', verbose=2)"
      ]
     },
     "execution_count": 48,
     "metadata": {},
     "output_type": "execute_result"
    }
   ],
   "source": [
    "# lets try finding best params for Random Forest using Cross validation, and finally re-train the model\n",
    "\n",
    "from sklearn.model_selection import GridSearchCV\n",
    "\n",
    "# Number of trees in random forest\n",
    "n_estimators = [int(x) for x in np.linspace(start = 200, stop = 2000, num = 10)]\n",
    "# Number of features to consider at every split\n",
    "max_features = ['auto', 'sqrt']\n",
    "# Maximum number of levels in tree\n",
    "max_depth = [int(x) for x in np.linspace(10, 110, num = 11)]\n",
    "max_depth.append(None)\n",
    "# Minimum number of samples required to split a node\n",
    "min_samples_split = [2, 5, 10]\n",
    "# Minimum number of samples required at each leaf node\n",
    "min_samples_leaf = [1, 2, 4]\n",
    "# Method of selecting samples for training each tree\n",
    "bootstrap = [True, False]\n",
    "# Create the random grid\n",
    "random_grid = {'n_estimators': n_estimators,\n",
    "               'max_features': max_features,\n",
    "               'max_depth': max_depth,\n",
    "               'min_samples_split': min_samples_split,\n",
    "               'min_samples_leaf': min_samples_leaf,\n",
    "               'bootstrap': bootstrap}\n",
    "\n",
    "optimal_params = GridSearchCV( \n",
    "        estimator = RandomForestClassifier( random_state = 42 ), \n",
    "        param_grid = random_grid,\n",
    "        scoring = 'roc_auc',\n",
    "        cv = 3, n_jobs = 10, verbose = 2\n",
    "    )\n",
    "optimal_params.fit( X_train, y_train )"
   ]
  },
  {
   "cell_type": "code",
   "execution_count": 49,
   "id": "boxed-fleece",
   "metadata": {},
   "outputs": [
    {
     "data": {
      "text/plain": [
       "({'bootstrap': True,\n",
       "  'max_depth': 10,\n",
       "  'max_features': 'auto',\n",
       "  'min_samples_leaf': 4,\n",
       "  'min_samples_split': 2,\n",
       "  'n_estimators': 800},\n",
       " 0.7318880795776731)"
      ]
     },
     "execution_count": 49,
     "metadata": {},
     "output_type": "execute_result"
    }
   ],
   "source": [
    "optimal_params.best_params_, optimal_params.best_score_"
   ]
  },
  {
   "cell_type": "code",
   "execution_count": 50,
   "id": "respected-patient",
   "metadata": {},
   "outputs": [],
   "source": [
    "train_accuracy_scores_rf[ 'rf_cv' ] = accuracy_score( y_train, optimal_params.best_estimator_.predict( X_train ) )\n",
    "accuracy_scores_rf[ 'rf_cv' ] = accuracy_score( y_test, optimal_params.best_estimator_.predict( X_test ) )"
   ]
  },
  {
   "cell_type": "code",
   "execution_count": 51,
   "id": "brazilian-transmission",
   "metadata": {},
   "outputs": [
    {
     "data": {
      "text/plain": [
       "{'rf_raw': 0.6488479262672812,\n",
       " 'rf_raw_with_imp_cols': 0.6387096774193548,\n",
       " 'rf_raw_one_hot_encoded': 0.6433179723502304,\n",
       " 'rf_cv': 0.6626728110599078}"
      ]
     },
     "execution_count": 51,
     "metadata": {},
     "output_type": "execute_result"
    }
   ],
   "source": [
    "accuracy_scores_rf"
   ]
  },
  {
   "cell_type": "code",
   "execution_count": 52,
   "id": "measured-mortgage",
   "metadata": {},
   "outputs": [
    {
     "data": {
      "text/html": [
       "\n",
       "    <style>\n",
       "    table.eli5-weights tr:hover {\n",
       "        filter: brightness(85%);\n",
       "    }\n",
       "</style>\n",
       "\n",
       "\n",
       "\n",
       "    \n",
       "\n",
       "    \n",
       "\n",
       "    \n",
       "\n",
       "    \n",
       "\n",
       "    \n",
       "\n",
       "    \n",
       "\n",
       "\n",
       "    \n",
       "\n",
       "    \n",
       "\n",
       "    \n",
       "\n",
       "    \n",
       "\n",
       "    \n",
       "\n",
       "    \n",
       "\n",
       "\n",
       "    \n",
       "\n",
       "    \n",
       "\n",
       "    \n",
       "\n",
       "    \n",
       "\n",
       "    \n",
       "        <table class=\"eli5-weights eli5-feature-importances\" style=\"border-collapse: collapse; border: none; margin-top: 0em; table-layout: auto;\">\n",
       "    <thead>\n",
       "    <tr style=\"border: none;\">\n",
       "        <th style=\"padding: 0 1em 0 0.5em; text-align: right; border: none;\">Weight</th>\n",
       "        <th style=\"padding: 0 0.5em 0 0.5em; text-align: left; border: none;\">Feature</th>\n",
       "    </tr>\n",
       "    </thead>\n",
       "    <tbody>\n",
       "    \n",
       "        <tr style=\"background-color: hsl(120, 100.00%, 80.00%); border: none;\">\n",
       "            <td style=\"padding: 0 1em 0 0.5em; text-align: right; border: none;\">\n",
       "                0.0312\n",
       "                \n",
       "                    &plusmn; 0.0286\n",
       "                \n",
       "            </td>\n",
       "            <td style=\"padding: 0 0.5em 0 0.5em; text-align: left; border: none;\">\n",
       "                Sex_2\n",
       "            </td>\n",
       "        </tr>\n",
       "    \n",
       "        <tr style=\"background-color: hsl(120, 100.00%, 86.54%); border: none;\">\n",
       "            <td style=\"padding: 0 1em 0 0.5em; text-align: right; border: none;\">\n",
       "                0.0177\n",
       "                \n",
       "                    &plusmn; 0.0234\n",
       "                \n",
       "            </td>\n",
       "            <td style=\"padding: 0 0.5em 0 0.5em; text-align: left; border: none;\">\n",
       "                Sex_1\n",
       "            </td>\n",
       "        </tr>\n",
       "    \n",
       "        <tr style=\"background-color: hsl(120, 100.00%, 93.63%); border: none;\">\n",
       "            <td style=\"padding: 0 1em 0 0.5em; text-align: right; border: none;\">\n",
       "                0.0061\n",
       "                \n",
       "                    &plusmn; 0.0063\n",
       "                \n",
       "            </td>\n",
       "            <td style=\"padding: 0 0.5em 0 0.5em; text-align: left; border: none;\">\n",
       "                Age_0\n",
       "            </td>\n",
       "        </tr>\n",
       "    \n",
       "        <tr style=\"background-color: hsl(120, 100.00%, 96.50%); border: none;\">\n",
       "            <td style=\"padding: 0 1em 0 0.5em; text-align: right; border: none;\">\n",
       "                0.0026\n",
       "                \n",
       "                    &plusmn; 0.0029\n",
       "                \n",
       "            </td>\n",
       "            <td style=\"padding: 0 0.5em 0 0.5em; text-align: left; border: none;\">\n",
       "                Stater_3\n",
       "            </td>\n",
       "        </tr>\n",
       "    \n",
       "        <tr style=\"background-color: hsl(120, 100.00%, 97.24%); border: none;\">\n",
       "            <td style=\"padding: 0 1em 0 0.5em; text-align: right; border: none;\">\n",
       "                0.0018\n",
       "                \n",
       "                    &plusmn; 0.0020\n",
       "                \n",
       "            </td>\n",
       "            <td style=\"padding: 0 0.5em 0 0.5em; text-align: left; border: none;\">\n",
       "                Majind_5\n",
       "            </td>\n",
       "        </tr>\n",
       "    \n",
       "        <tr style=\"background-color: hsl(120, 100.00%, 98.07%); border: none;\">\n",
       "            <td style=\"padding: 0 1em 0 0.5em; text-align: right; border: none;\">\n",
       "                0.0011\n",
       "                \n",
       "                    &plusmn; 0.0007\n",
       "                \n",
       "            </td>\n",
       "            <td style=\"padding: 0 0.5em 0 0.5em; text-align: left; border: none;\">\n",
       "                Majind_9\n",
       "            </td>\n",
       "        </tr>\n",
       "    \n",
       "        <tr style=\"background-color: hsl(120, 100.00%, 98.30%); border: none;\">\n",
       "            <td style=\"padding: 0 1em 0 0.5em; text-align: right; border: none;\">\n",
       "                0.0009\n",
       "                \n",
       "                    &plusmn; 0.0000\n",
       "                \n",
       "            </td>\n",
       "            <td style=\"padding: 0 0.5em 0 0.5em; text-align: left; border: none;\">\n",
       "                Hhnum_8\n",
       "            </td>\n",
       "        </tr>\n",
       "    \n",
       "        <tr style=\"background-color: hsl(120, 100.00%, 98.30%); border: none;\">\n",
       "            <td style=\"padding: 0 1em 0 0.5em; text-align: right; border: none;\">\n",
       "                0.0009\n",
       "                \n",
       "                    &plusmn; 0.0012\n",
       "                \n",
       "            </td>\n",
       "            <td style=\"padding: 0 0.5em 0 0.5em; text-align: left; border: none;\">\n",
       "                Stater_8\n",
       "            </td>\n",
       "        </tr>\n",
       "    \n",
       "        <tr style=\"background-color: hsl(120, 100.00%, 98.30%); border: none;\">\n",
       "            <td style=\"padding: 0 1em 0 0.5em; text-align: right; border: none;\">\n",
       "                0.0009\n",
       "                \n",
       "                    &plusmn; 0.0012\n",
       "                \n",
       "            </td>\n",
       "            <td style=\"padding: 0 0.5em 0 0.5em; text-align: left; border: none;\">\n",
       "                Hhnum_4\n",
       "            </td>\n",
       "        </tr>\n",
       "    \n",
       "        <tr style=\"background-color: hsl(120, 100.00%, 98.30%); border: none;\">\n",
       "            <td style=\"padding: 0 1em 0 0.5em; text-align: right; border: none;\">\n",
       "                0.0009\n",
       "                \n",
       "                    &plusmn; 0.0016\n",
       "                \n",
       "            </td>\n",
       "            <td style=\"padding: 0 0.5em 0 0.5em; text-align: left; border: none;\">\n",
       "                Stater_2\n",
       "            </td>\n",
       "        </tr>\n",
       "    \n",
       "        <tr style=\"background-color: hsl(120, 100.00%, 98.30%); border: none;\">\n",
       "            <td style=\"padding: 0 1em 0 0.5em; text-align: right; border: none;\">\n",
       "                0.0009\n",
       "                \n",
       "                    &plusmn; 0.0033\n",
       "                \n",
       "            </td>\n",
       "            <td style=\"padding: 0 0.5em 0 0.5em; text-align: left; border: none;\">\n",
       "                Majocc_1\n",
       "            </td>\n",
       "        </tr>\n",
       "    \n",
       "        <tr style=\"background-color: hsl(120, 100.00%, 98.54%); border: none;\">\n",
       "            <td style=\"padding: 0 1em 0 0.5em; text-align: right; border: none;\">\n",
       "                0.0007\n",
       "                \n",
       "                    &plusmn; 0.0021\n",
       "                \n",
       "            </td>\n",
       "            <td style=\"padding: 0 0.5em 0 0.5em; text-align: left; border: none;\">\n",
       "                Majocc_10\n",
       "            </td>\n",
       "        </tr>\n",
       "    \n",
       "        <tr style=\"background-color: hsl(120, 100.00%, 98.81%); border: none;\">\n",
       "            <td style=\"padding: 0 1em 0 0.5em; text-align: right; border: none;\">\n",
       "                0.0006\n",
       "                \n",
       "                    &plusmn; 0.0015\n",
       "                \n",
       "            </td>\n",
       "            <td style=\"padding: 0 0.5em 0 0.5em; text-align: left; border: none;\">\n",
       "                Majind_3\n",
       "            </td>\n",
       "        </tr>\n",
       "    \n",
       "        <tr style=\"background-color: hsl(120, 100.00%, 99.10%); border: none;\">\n",
       "            <td style=\"padding: 0 1em 0 0.5em; text-align: right; border: none;\">\n",
       "                0.0004\n",
       "                \n",
       "                    &plusmn; 0.0019\n",
       "                \n",
       "            </td>\n",
       "            <td style=\"padding: 0 0.5em 0 0.5em; text-align: left; border: none;\">\n",
       "                Age_1\n",
       "            </td>\n",
       "        </tr>\n",
       "    \n",
       "        <tr style=\"background-color: hsl(120, 100.00%, 99.10%); border: none;\">\n",
       "            <td style=\"padding: 0 1em 0 0.5em; text-align: right; border: none;\">\n",
       "                0.0004\n",
       "                \n",
       "                    &plusmn; 0.0019\n",
       "                \n",
       "            </td>\n",
       "            <td style=\"padding: 0 0.5em 0 0.5em; text-align: left; border: none;\">\n",
       "                Pob_7\n",
       "            </td>\n",
       "        </tr>\n",
       "    \n",
       "        <tr style=\"background-color: hsl(120, 100.00%, 99.45%); border: none;\">\n",
       "            <td style=\"padding: 0 1em 0 0.5em; text-align: right; border: none;\">\n",
       "                0.0002\n",
       "                \n",
       "                    &plusmn; 0.0007\n",
       "                \n",
       "            </td>\n",
       "            <td style=\"padding: 0 0.5em 0 0.5em; text-align: left; border: none;\">\n",
       "                Stater_7\n",
       "            </td>\n",
       "        </tr>\n",
       "    \n",
       "        <tr style=\"background-color: hsl(120, 100.00%, 99.45%); border: none;\">\n",
       "            <td style=\"padding: 0 1em 0 0.5em; text-align: right; border: none;\">\n",
       "                0.0002\n",
       "                \n",
       "                    &plusmn; 0.0018\n",
       "                \n",
       "            </td>\n",
       "            <td style=\"padding: 0 0.5em 0 0.5em; text-align: left; border: none;\">\n",
       "                Stater_5\n",
       "            </td>\n",
       "        </tr>\n",
       "    \n",
       "        <tr style=\"background-color: hsl(120, 100.00%, 99.45%); border: none;\">\n",
       "            <td style=\"padding: 0 1em 0 0.5em; text-align: right; border: none;\">\n",
       "                0.0002\n",
       "                \n",
       "                    &plusmn; 0.0007\n",
       "                \n",
       "            </td>\n",
       "            <td style=\"padding: 0 0.5em 0 0.5em; text-align: left; border: none;\">\n",
       "                Majind_13\n",
       "            </td>\n",
       "        </tr>\n",
       "    \n",
       "        <tr style=\"background-color: hsl(120, 100.00%, 99.45%); border: none;\">\n",
       "            <td style=\"padding: 0 1em 0 0.5em; text-align: right; border: none;\">\n",
       "                0.0002\n",
       "                \n",
       "                    &plusmn; 0.0007\n",
       "                \n",
       "            </td>\n",
       "            <td style=\"padding: 0 0.5em 0 0.5em; text-align: left; border: none;\">\n",
       "                Hhnum_9\n",
       "            </td>\n",
       "        </tr>\n",
       "    \n",
       "        <tr style=\"background-color: hsl(0, 100.00%, 100.00%); border: none;\">\n",
       "            <td style=\"padding: 0 1em 0 0.5em; text-align: right; border: none;\">\n",
       "                0\n",
       "                \n",
       "                    &plusmn; 0.0000\n",
       "                \n",
       "            </td>\n",
       "            <td style=\"padding: 0 0.5em 0 0.5em; text-align: left; border: none;\">\n",
       "                Pob_9\n",
       "            </td>\n",
       "        </tr>\n",
       "    \n",
       "    \n",
       "        \n",
       "            <tr style=\"background-color: hsl(0, 100.00%, 100.00%); border: none;\">\n",
       "                <td colspan=\"2\" style=\"padding: 0 0.5em 0 0.5em; text-align: center; border: none; white-space: nowrap;\">\n",
       "                    <i>&hellip; 56 more &hellip;</i>\n",
       "                </td>\n",
       "            </tr>\n",
       "        \n",
       "    \n",
       "    </tbody>\n",
       "</table>\n",
       "    \n",
       "\n",
       "    \n",
       "\n",
       "\n",
       "    \n",
       "\n",
       "    \n",
       "\n",
       "    \n",
       "\n",
       "    \n",
       "\n",
       "    \n",
       "\n",
       "    \n",
       "\n",
       "\n",
       "\n"
      ],
      "text/plain": [
       "<IPython.core.display.HTML object>"
      ]
     },
     "execution_count": 52,
     "metadata": {},
     "output_type": "execute_result"
    }
   ],
   "source": [
    "perm = PermutationImportance( optimal_params.best_estimator_, random_state = 42 ).fit( X_test, y_test )\n",
    "eli5.show_weights( perm, feature_names = X_test.columns.tolist() )"
   ]
  },
  {
   "cell_type": "code",
   "execution_count": 53,
   "id": "floral-health",
   "metadata": {},
   "outputs": [
    {
     "data": {
      "text/plain": [
       "[('Sex_2', 0.031152073732718888),\n",
       " ('Sex_1', 0.01769585253456223),\n",
       " ('Age_0', 0.006082949308755747),\n",
       " ('Stater_3', 0.002580645161290307),\n",
       " ('Majind_5', 0.0018433179723502447),\n",
       " ('Majind_9', 0.0011059907834101601),\n",
       " ('Hhnum_4', 0.0009216589861751334),\n",
       " ('Hhnum_8', 0.0009216589861751334),\n",
       " ('Stater_2', 0.0009216589861751334),\n",
       " ('Stater_8', 0.0009216589861751334),\n",
       " ('Majocc_1', 0.0009216589861751112),\n",
       " ('Majocc_10', 0.0007373271889401067),\n",
       " ('Majind_3', 0.0005529953917050801),\n",
       " ('Age_1', 0.00036866359447005335),\n",
       " ('Pob_7', 0.00036866359447005335),\n",
       " ('Hhnum_9', 0.00018433179723502667),\n",
       " ('Majind_13', 0.00018433179723502667),\n",
       " ('Stater_5', 0.00018433179723502667),\n",
       " ('Stater_7', 0.00018433179723502667),\n",
       " ('Hhnum_10', 0.0),\n",
       " ('Hhnum_11', 0.0),\n",
       " ('Hhnum_12', 0.0),\n",
       " ('Hhnum_13', 0.0),\n",
       " ('Hhnum_14', 0.0),\n",
       " ('Hhnum_16', 0.0),\n",
       " ('Majocc_11', 0.0),\n",
       " ('Majocc_2', 0.0),\n",
       " ('Majocc_4', 0.0),\n",
       " ('Majocc_6', 0.0),\n",
       " ('Majocc_8', 0.0),\n",
       " ('Majind_1', 0.0),\n",
       " ('Majind_12', 0.0),\n",
       " ('Majind_14', 0.0),\n",
       " ('Majind_2', 0.0),\n",
       " ('Majind_6', 0.0),\n",
       " ('Majind_7', 0.0),\n",
       " ('Pob_0', 0.0),\n",
       " ('Pob_1', 0.0),\n",
       " ('Pob_11', 0.0),\n",
       " ('Pob_12', 0.0),\n",
       " ('Pob_2', 0.0),\n",
       " ('Pob_3', 0.0),\n",
       " ('Pob_4', 0.0),\n",
       " ('Pob_5', 0.0),\n",
       " ('Pob_6', 0.0),\n",
       " ('Pob_8', 0.0),\n",
       " ('Pob_9', 0.0),\n",
       " ('Stater_1', 0.0),\n",
       " ('Majocc_5', -0.00018433179723502667),\n",
       " ('Majind_11', -0.00018433179723502667),\n",
       " ('Hhnum_7', -0.00036866359447005335),\n",
       " ('Hhnum_6', -0.0005529953917050801),\n",
       " ('Majocc_3', -0.0005529953917050801),\n",
       " ('Majind_10', -0.0005529953917050801),\n",
       " ('Stater_4', -0.0005529953917050801),\n",
       " ('Stater_6', -0.0005529953917050801),\n",
       " ('Hhnum_1', -0.0007373271889401067),\n",
       " ('Pob_10', -0.0007373271889401067),\n",
       " ('Majocc_9', -0.0009216589861751334),\n",
       " ('Majind_8', -0.0009216589861751334),\n",
       " ('Stater_0', -0.0009216589861751334),\n",
       " ('Age_2', -0.0012903225806451869),\n",
       " ('Hhnum_2', -0.0014746543778801913),\n",
       " ('Working_1', -0.0014746543778802134),\n",
       " ('Hhnum_5', -0.001658986175115218),\n",
       " ('Majocc_7', -0.001658986175115218),\n",
       " ('Age_3', -0.0018433179723502668),\n",
       " ('Hhnum_3', -0.0022119815668203203),\n",
       " ('Age_4', -0.0023963133640553026),\n",
       " ('Majind_-1', -0.0023963133640553247),\n",
       " ('Majind_4', -0.002764976958525356),\n",
       " ('Majocc_-1', -0.003133640552995409),\n",
       " ('Working_0', -0.003317972350230414),\n",
       " ('Age_5', -0.004055299539170498),\n",
       " ('Ssnyn_1', -0.004239631336405569),\n",
       " ('Ssnyn_0', -0.0055299539170506895)]"
      ]
     },
     "execution_count": 53,
     "metadata": {},
     "output_type": "execute_result"
    }
   ],
   "source": [
    "from sklearn.feature_selection import RFE\n",
    "rfe = RFE( optimal_params.best_estimator_, n_features_to_select = round( 0.8 * len(X_train.columns) ), step = 1 )\n",
    "rfe.fit( X_train, y_train )\n",
    "\n",
    "important_features = X_train.columns[ rfe.get_support(True) ]\n",
    "unimportant_features = np.setdiff1d( X_train.columns, important_features )\n",
    "\n",
    "feature_imp = dict( zip( X_test.columns, perm.feature_importances_ ) )\n",
    "sorted( feature_imp.items(), key = lambda x : x[1], reverse = True )"
   ]
  },
  {
   "cell_type": "code",
   "execution_count": 54,
   "id": "allied-provincial",
   "metadata": {},
   "outputs": [
    {
     "name": "stdout",
     "output_type": "stream",
     "text": [
      "finally writing .csv file: 'data_filtered_imputed_clean_v2.csv'\n",
      "finally writing .csv file: 'data_filtered_imputed_encoded.csv'\n"
     ]
    },
    {
     "data": {
      "text/plain": [
       "WindowsPath('output/data/data_filtered_imputed_encoded.csv')"
      ]
     },
     "execution_count": 54,
     "metadata": {},
     "output_type": "execute_result"
    }
   ],
   "source": [
    "# backup the extracted data to use in further analysis\n",
    "write_excel_sheet_v2( data, \"output/data/data_filtered_imputed_clean_v2.csv\")\n",
    "write_excel_sheet_v2( data_, \"output/data/data_filtered_imputed_encoded.csv\")"
   ]
  },
  {
   "cell_type": "code",
   "execution_count": 58,
   "id": "rapid-municipality",
   "metadata": {},
   "outputs": [],
   "source": [
    "accuracy_scores_df = pd.DataFrame.from_dict( accuracy_scores_rf.items() )\n",
    "accuracy_scores_df.columns = ['approach', 'test_accuracy']"
   ]
  },
  {
   "cell_type": "code",
   "execution_count": 59,
   "id": "union-convert",
   "metadata": {},
   "outputs": [
    {
     "data": {
      "text/plain": [
       "Text(0.5, 1.0, 'RandomForestClassifier')"
      ]
     },
     "execution_count": 59,
     "metadata": {},
     "output_type": "execute_result"
    },
    {
     "data": {
      "image/png": "[encoded data removed]",
      "text/plain": [
       "<Figure size 432x288 with 1 Axes>"
      ]
     },
     "metadata": {
      "needs_background": "light"
     },
     "output_type": "display_data"
    }
   ],
   "source": [
    "plt_ = accuracy_scores_df.set_index( 'approach' ).plot( kind ='bar' )\n",
    "plt_.set_title( \"RandomForestClassifier\" )"
   ]
  },
  {
   "cell_type": "code",
   "execution_count": null,
   "id": "involved-breakdown",
   "metadata": {},
   "outputs": [],
   "source": [
    "train_accuracy_scores_df = pd.DataFrame.from_dict( train_accuracy_scores_rf.items() )\n",
    "train_accuracy_scores_df.columns = ['approach', 'train_accuracy']"
   ]
  },
  {
   "cell_type": "code",
   "execution_count": 62,
   "id": "compressed-vermont",
   "metadata": {},
   "outputs": [
    {
     "name": "stdout",
     "output_type": "stream",
     "text": [
      "finally writing .xlsx file: 'rf.xlsx'\n"
     ]
    },
    {
     "data": {
      "text/plain": [
       "WindowsPath('output/accuracy/rf.xlsx')"
      ]
     },
     "execution_count": 62,
     "metadata": {},
     "output_type": "execute_result"
    }
   ],
   "source": [
    "write_excel_sheet_v2( pd.merge( accuracy_scores_df, train_accuracy_scores_df, on = 'approach' ), \"output/accuracy/rf.xlsx\" )"
   ]
  }
 ],
 "metadata": {
  "kernelspec": {
   "display_name": "Python 3",
   "language": "python",
   "name": "python3"
  },
  "language_info": {
   "codemirror_mode": {
    "name": "ipython",
    "version": 3
   },
   "file_extension": ".py",
   "mimetype": "text/x-python",
   "name": "python",
   "nbconvert_exporter": "python",
   "pygments_lexer": "ipython3",
   "version": "3.7.8"
  }
 },
 "nbformat": 4,
 "nbformat_minor": 5
}
